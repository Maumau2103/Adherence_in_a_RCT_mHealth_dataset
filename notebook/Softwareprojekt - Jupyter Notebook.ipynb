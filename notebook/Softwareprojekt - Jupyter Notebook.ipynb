{
 "cells": [
  {
   "cell_type": "markdown",
   "id": "97e913d6",
   "metadata": {},
   "source": [
    "# <center> Adherence in a RCT mHealth dataset </center>"
   ]
  },
  {
   "cell_type": "markdown",
   "id": "609cdd02",
   "metadata": {},
   "source": [
    "### Introduction\n",
    "Dieses Notebook stellt verschiedene Algorithmen zur Analyse des Adherence Verhaltens von Personen aus einem gegebenen Datensatz zur Verfügung."
   ]
  },
  {
   "cell_type": "markdown",
   "id": "0061ca43",
   "metadata": {},
   "source": [
    "### Imports\n",
    "Damit wir alle benötigten Algorithmen und Funktionen auch aufrufen können, importieren wir zunächst alle Python Dateien, in denen unser Code geschrieben steht."
   ]
  },
  {
   "cell_type": "code",
   "execution_count": null,
   "id": "89042996",
   "metadata": {
    "ExecuteTime": {
     "end_time": "2023-07-10T18:47:31.788297700Z",
     "start_time": "2023-07-10T18:47:30.776464800Z"
    },
    "pycharm": {
     "is_executing": true
    }
   },
   "outputs": [],
   "source": [
    "import os.path\n",
    "import sys\n",
    "sys.path.insert(0, os.path.normpath(os.getcwd() + os.sep + os.pardir))\n",
    "sys.path.insert(0, os.path.normpath(os.getcwd() + os.sep + os.pardir + os.sep + \"data\"))\n",
    "sys.path.insert(0, os.path.normpath(os.getcwd() + os.sep + os.pardir + os.sep + \"util\"))\n",
    "sys.path.insert(0, os.path.normpath(os.getcwd() + os.sep + os.pardir + os.sep + \"notebook\"))\n",
    "\n",
    "from util import helper as hlp\n",
    "from util import setup as set\n",
    "from util import task1_phases as pha\n",
    "from util import task2_groups\n",
    "from util import task3_prediction as pred\n",
    "from util import task4_statistics as stat\n",
    "from util import task5_adherence_level as lev\n",
    "\n",
    "import pandas as pd\n",
    "import matplotlib.pylab as plt\n",
    "pd.options.mode.chained_assignment = None  # default='warn'\n",
    "import warnings\n",
    "\n",
    "# FutureWarning-Warnungen ignorieren\n",
    "warnings.filterwarnings(\"ignore\", category=FutureWarning)"
   ]
  },
  {
   "cell_type": "code",
   "execution_count": 7,
   "id": "1d8103f2",
   "metadata": {
    "ExecuteTime": {
     "end_time": "2023-06-30T13:21:33.217465Z",
     "start_time": "2023-06-30T13:21:33.192881Z"
    }
   },
   "outputs": [
    {
     "name": "stdout",
     "output_type": "stream",
     "text": [
      "C:\\Users\\mauri\\PycharmProjects\\Softwareprojekt\n",
      "C:\\Users\\mauri\\PycharmProjects\\Softwareprojekt\\code\n"
     ]
    }
   ],
   "source": [
    "print(os.path.normpath(os.getcwd() + os.sep + os.pardir))\n",
    "print(os.path.normpath(os.getcwd() + os.sep + os.pardir + os.sep + \"util\"))"
   ]
  },
  {
   "cell_type": "markdown",
   "id": "6adb2fee",
   "metadata": {},
   "source": [
    "### Read in data\n",
    "Zuerst lesen wir den Datensatz als pandas DataFrame ein. Der Datensatz muss in einem CSV-Format vorliegen. Der Name der Datei muss dafür vorher in der Datei setup.py angegeben werden (Direkt nach s_file_name = )."
   ]
  },
  {
   "cell_type": "code",
   "execution_count": 8,
   "id": "1e4302ef",
   "metadata": {
    "ExecuteTime": {
     "end_time": "2023-06-30T13:26:37.635920Z",
     "start_time": "2023-06-30T13:26:37.094440Z"
    }
   },
   "outputs": [],
   "source": [
    "# Suchen des Pfades in dem der Datensatz gespeichert ist. Der Datensatz wird anschließen in ein Panda Dataframe konvertiert\n",
    "dataset = hlp.find_path(setup.s_file_name)"
   ]
  },
  {
   "cell_type": "markdown",
   "id": "da21b57f",
   "metadata": {},
   "source": [
    "### Group and sort data\n",
    "Um mit dem Datensatz besser arbeiten zu können müssen wir diesen zunächst etwas sortieren. Dafür gruppieren wir alle user_ids, sodass die Daten eines Nutzers alle hintereinander stehen und nicht quer verteilt sind und sortieren die Daten nach dem Datum von collected_at, sodass sie auch zeitlich richtig sortiert sind. Das Ergebnis wird in der Datei dataset_sorted.csv gespeichert."
   ]
  },
  {
   "cell_type": "code",
   "execution_count": 9,
   "id": "5c67c5d4",
   "metadata": {},
   "outputs": [
    {
     "data": {
      "text/html": [
       "<div>\n",
       "<style scoped>\n",
       "    .dataframe tbody tr th:only-of-type {\n",
       "        vertical-align: middle;\n",
       "    }\n",
       "\n",
       "    .dataframe tbody tr th {\n",
       "        vertical-align: top;\n",
       "    }\n",
       "\n",
       "    .dataframe thead th {\n",
       "        text-align: right;\n",
       "    }\n",
       "</style>\n",
       "<table border=\"1\" class=\"dataframe\">\n",
       "  <thead>\n",
       "    <tr style=\"text-align: right;\">\n",
       "      <th></th>\n",
       "      <th>id</th>\n",
       "      <th>user_id</th>\n",
       "      <th>locale</th>\n",
       "      <th>client</th>\n",
       "      <th>collected_at</th>\n",
       "      <th>created_at</th>\n",
       "      <th>updated_at</th>\n",
       "      <th>value_loudness</th>\n",
       "      <th>value_cumberness</th>\n",
       "      <th>value_jawbone</th>\n",
       "      <th>...</th>\n",
       "      <th>collected_at_cumberness</th>\n",
       "      <th>collected_at_jawbone</th>\n",
       "      <th>collected_at_neck</th>\n",
       "      <th>collected_at_tin_day</th>\n",
       "      <th>collected_at_tin_cumber</th>\n",
       "      <th>collected_at_tin_max</th>\n",
       "      <th>collected_at_movement</th>\n",
       "      <th>collected_at_stress</th>\n",
       "      <th>collected_at_emotion</th>\n",
       "      <th>collected_at_diary_q11</th>\n",
       "    </tr>\n",
       "  </thead>\n",
       "  <tbody>\n",
       "    <tr>\n",
       "      <th>0</th>\n",
       "      <td>4</td>\n",
       "      <td>101</td>\n",
       "      <td>en</td>\n",
       "      <td>{\"device\":\"iPhone\",\"os\":\"iOS 14.3\",\"name\":\"UNI...</td>\n",
       "      <td>2021-04-14T08:21:51Z</td>\n",
       "      <td>2021-04-14T08:21:51Z</td>\n",
       "      <td>2021-04-14T08:21:51Z</td>\n",
       "      <td>75</td>\n",
       "      <td>79</td>\n",
       "      <td>82</td>\n",
       "      <td>...</td>\n",
       "      <td>2021-04-14T08:21:40Z</td>\n",
       "      <td>2021-04-14T08:21:40Z</td>\n",
       "      <td>2021-04-14T08:21:43Z</td>\n",
       "      <td>2021-04-14T08:21:45Z</td>\n",
       "      <td>2021-04-14T08:21:45Z</td>\n",
       "      <td>2021-04-14T08:21:46Z</td>\n",
       "      <td>2021-04-14T08:21:48Z</td>\n",
       "      <td>2021-04-14T08:21:48Z</td>\n",
       "      <td>2021-04-14T08:21:49Z</td>\n",
       "      <td>NaN</td>\n",
       "    </tr>\n",
       "    <tr>\n",
       "      <th>1</th>\n",
       "      <td>5</td>\n",
       "      <td>101</td>\n",
       "      <td>en</td>\n",
       "      <td>{\"os\":\"iOS 14.3\",\"device\":\"iPhone\",\"name\":\"UNI...</td>\n",
       "      <td>2021-04-14T08:23:12Z</td>\n",
       "      <td>2021-04-14T08:23:12Z</td>\n",
       "      <td>2021-04-14T08:23:12Z</td>\n",
       "      <td>33</td>\n",
       "      <td>77</td>\n",
       "      <td>76</td>\n",
       "      <td>...</td>\n",
       "      <td>2021-04-14T08:23:00Z</td>\n",
       "      <td>2021-04-14T08:23:01Z</td>\n",
       "      <td>2021-04-14T08:23:02Z</td>\n",
       "      <td>2021-04-14T08:23:03Z</td>\n",
       "      <td>2021-04-14T08:23:03Z</td>\n",
       "      <td>2021-04-14T08:23:04Z</td>\n",
       "      <td>2021-04-14T08:23:05Z</td>\n",
       "      <td>2021-04-14T08:23:05Z</td>\n",
       "      <td>2021-04-14T08:23:06Z</td>\n",
       "      <td>2021-04-14T08:23:09Z</td>\n",
       "    </tr>\n",
       "    <tr>\n",
       "      <th>2</th>\n",
       "      <td>9489</td>\n",
       "      <td>101</td>\n",
       "      <td>de</td>\n",
       "      <td>{\"device\":\"iPhone\",\"os\":\"iOS 14.6\",\"name\":\"UNI...</td>\n",
       "      <td>2021-07-19T13:20:30Z</td>\n",
       "      <td>2021-07-19T13:20:30Z</td>\n",
       "      <td>2021-07-19T13:20:30Z</td>\n",
       "      <td>24</td>\n",
       "      <td>73</td>\n",
       "      <td>83</td>\n",
       "      <td>...</td>\n",
       "      <td>2021-07-19T13:20:21Z</td>\n",
       "      <td>2021-07-19T13:20:22Z</td>\n",
       "      <td>2021-07-19T13:20:22Z</td>\n",
       "      <td>2021-07-19T13:20:24Z</td>\n",
       "      <td>2021-07-19T13:20:24Z</td>\n",
       "      <td>2021-07-19T13:20:25Z</td>\n",
       "      <td>2021-07-19T13:20:26Z</td>\n",
       "      <td>2021-07-19T13:20:26Z</td>\n",
       "      <td>2021-07-19T13:20:27Z</td>\n",
       "      <td>NaN</td>\n",
       "    </tr>\n",
       "    <tr>\n",
       "      <th>3</th>\n",
       "      <td>9491</td>\n",
       "      <td>101</td>\n",
       "      <td>en</td>\n",
       "      <td>{\"device\":\"iPhone\",\"os\":\"iOS 14.5\",\"name\":\"UNI...</td>\n",
       "      <td>2021-07-19T13:27:01Z</td>\n",
       "      <td>2021-07-19T13:27:01Z</td>\n",
       "      <td>2021-07-19T13:27:01Z</td>\n",
       "      <td>35</td>\n",
       "      <td>28</td>\n",
       "      <td>23</td>\n",
       "      <td>...</td>\n",
       "      <td>2021-07-19T13:26:48Z</td>\n",
       "      <td>2021-07-19T13:26:49Z</td>\n",
       "      <td>2021-07-19T13:26:50Z</td>\n",
       "      <td>2021-07-19T13:26:52Z</td>\n",
       "      <td>2021-07-19T13:26:53Z</td>\n",
       "      <td>2021-07-19T13:26:54Z</td>\n",
       "      <td>2021-07-19T13:26:55Z</td>\n",
       "      <td>2021-07-19T13:26:57Z</td>\n",
       "      <td>2021-07-19T13:26:58Z</td>\n",
       "      <td>NaN</td>\n",
       "    </tr>\n",
       "    <tr>\n",
       "      <th>4</th>\n",
       "      <td>9515</td>\n",
       "      <td>101</td>\n",
       "      <td>el</td>\n",
       "      <td>{\"os\":\"iOS 14.6\",\"name\":\"UNITI 1.0.2\",\"device\"...</td>\n",
       "      <td>2021-07-19T14:59:32Z</td>\n",
       "      <td>2021-07-19T14:59:33Z</td>\n",
       "      <td>2021-07-19T14:59:33Z</td>\n",
       "      <td>23</td>\n",
       "      <td>75</td>\n",
       "      <td>28</td>\n",
       "      <td>...</td>\n",
       "      <td>2021-07-19T14:59:19Z</td>\n",
       "      <td>2021-07-19T14:59:21Z</td>\n",
       "      <td>2021-07-19T14:59:21Z</td>\n",
       "      <td>2021-07-19T14:59:22Z</td>\n",
       "      <td>2021-07-19T14:59:22Z</td>\n",
       "      <td>2021-07-19T14:59:24Z</td>\n",
       "      <td>2021-07-19T14:59:24Z</td>\n",
       "      <td>2021-07-19T14:59:25Z</td>\n",
       "      <td>2021-07-19T14:59:25Z</td>\n",
       "      <td>2021-07-19T14:59:28Z</td>\n",
       "    </tr>\n",
       "  </tbody>\n",
       "</table>\n",
       "<p>5 rows × 29 columns</p>\n",
       "</div>"
      ],
      "text/plain": [
       "     id  user_id locale                                             client  \\\n",
       "0     4      101     en  {\"device\":\"iPhone\",\"os\":\"iOS 14.3\",\"name\":\"UNI...   \n",
       "1     5      101     en  {\"os\":\"iOS 14.3\",\"device\":\"iPhone\",\"name\":\"UNI...   \n",
       "2  9489      101     de  {\"device\":\"iPhone\",\"os\":\"iOS 14.6\",\"name\":\"UNI...   \n",
       "3  9491      101     en  {\"device\":\"iPhone\",\"os\":\"iOS 14.5\",\"name\":\"UNI...   \n",
       "4  9515      101     el  {\"os\":\"iOS 14.6\",\"name\":\"UNITI 1.0.2\",\"device\"...   \n",
       "\n",
       "           collected_at            created_at            updated_at  \\\n",
       "0  2021-04-14T08:21:51Z  2021-04-14T08:21:51Z  2021-04-14T08:21:51Z   \n",
       "1  2021-04-14T08:23:12Z  2021-04-14T08:23:12Z  2021-04-14T08:23:12Z   \n",
       "2  2021-07-19T13:20:30Z  2021-07-19T13:20:30Z  2021-07-19T13:20:30Z   \n",
       "3  2021-07-19T13:27:01Z  2021-07-19T13:27:01Z  2021-07-19T13:27:01Z   \n",
       "4  2021-07-19T14:59:32Z  2021-07-19T14:59:33Z  2021-07-19T14:59:33Z   \n",
       "\n",
       "   value_loudness  value_cumberness  value_jawbone  ...  \\\n",
       "0              75                79             82  ...   \n",
       "1              33                77             76  ...   \n",
       "2              24                73             83  ...   \n",
       "3              35                28             23  ...   \n",
       "4              23                75             28  ...   \n",
       "\n",
       "   collected_at_cumberness  collected_at_jawbone     collected_at_neck  \\\n",
       "0     2021-04-14T08:21:40Z  2021-04-14T08:21:40Z  2021-04-14T08:21:43Z   \n",
       "1     2021-04-14T08:23:00Z  2021-04-14T08:23:01Z  2021-04-14T08:23:02Z   \n",
       "2     2021-07-19T13:20:21Z  2021-07-19T13:20:22Z  2021-07-19T13:20:22Z   \n",
       "3     2021-07-19T13:26:48Z  2021-07-19T13:26:49Z  2021-07-19T13:26:50Z   \n",
       "4     2021-07-19T14:59:19Z  2021-07-19T14:59:21Z  2021-07-19T14:59:21Z   \n",
       "\n",
       "   collected_at_tin_day  collected_at_tin_cumber  collected_at_tin_max  \\\n",
       "0  2021-04-14T08:21:45Z     2021-04-14T08:21:45Z  2021-04-14T08:21:46Z   \n",
       "1  2021-04-14T08:23:03Z     2021-04-14T08:23:03Z  2021-04-14T08:23:04Z   \n",
       "2  2021-07-19T13:20:24Z     2021-07-19T13:20:24Z  2021-07-19T13:20:25Z   \n",
       "3  2021-07-19T13:26:52Z     2021-07-19T13:26:53Z  2021-07-19T13:26:54Z   \n",
       "4  2021-07-19T14:59:22Z     2021-07-19T14:59:22Z  2021-07-19T14:59:24Z   \n",
       "\n",
       "   collected_at_movement   collected_at_stress  collected_at_emotion  \\\n",
       "0   2021-04-14T08:21:48Z  2021-04-14T08:21:48Z  2021-04-14T08:21:49Z   \n",
       "1   2021-04-14T08:23:05Z  2021-04-14T08:23:05Z  2021-04-14T08:23:06Z   \n",
       "2   2021-07-19T13:20:26Z  2021-07-19T13:20:26Z  2021-07-19T13:20:27Z   \n",
       "3   2021-07-19T13:26:55Z  2021-07-19T13:26:57Z  2021-07-19T13:26:58Z   \n",
       "4   2021-07-19T14:59:24Z  2021-07-19T14:59:25Z  2021-07-19T14:59:25Z   \n",
       "\n",
       "  collected_at_diary_q11  \n",
       "0                    NaN  \n",
       "1   2021-04-14T08:23:09Z  \n",
       "2                    NaN  \n",
       "3                    NaN  \n",
       "4   2021-07-19T14:59:28Z  \n",
       "\n",
       "[5 rows x 29 columns]"
      ]
     },
     "execution_count": 9,
     "metadata": {},
     "output_type": "execute_result"
    }
   ],
   "source": [
    "# Gruppieren des DataFrame nach user_id und Sortieren nach collected_at\n",
    "df_sorted = hlp.group_and_sort(dataset)\n",
    "df_sorted.head()"
   ]
  },
  {
   "cell_type": "markdown",
   "id": "3aedb60a",
   "metadata": {},
   "source": [
    "### Phases\n",
    "Sie können sich die den Adherence Verlauf einer einzelnen Person ausgeben lassen um direkt zu erkennen wie sich der Nutzer verhalten hat. Eine User Timeline ist die Bezeichnung für eine binäre Liste für die folgendes gilt: 0 = Der Nutzer hat die App an Tag X nicht genutzt, 1 = Der Nutzer hat die App an Tag X genutzt. Der erste Eintrag der Liste steht für den ersten Tag der Nutzung der App, der zweite Eintrag für den zweiten Tag, usw."
   ]
  },
  {
   "cell_type": "code",
   "execution_count": null,
   "id": "0854e3cd",
   "metadata": {},
   "outputs": [],
   "source": [
    "user40176_timeline = pha.get_user_timeline(df_sorted, 40176)"
   ]
  },
  {
   "cell_type": "markdown",
   "source": [
    "Möchten Sie mehr als einen User auswerten, brauchen Sie zuerst eine Liste mit allen UserIDs aus ihrem Datensatz. Diese UserIDs bekommen Sie mit der  Methode 'get_user_ids'."
   ],
   "metadata": {
    "collapsed": false
   }
  },
  {
   "cell_type": "code",
   "execution_count": null,
   "outputs": [],
   "source": [
    "all_userids = hlp.get_user_ids(df_sorted)"
   ],
   "metadata": {
    "collapsed": false
   }
  },
  {
   "cell_type": "markdown",
   "source": [
    "Um zu den Verlauf der Nutzung der App zu analysieren, müssen Sie zuerst wissen an welchen Tagen die Nutzung der App besonders hoch oder niedrig war. Dazu können Sie sich mit der Methode 'get_all_adherence_percentage' die prozentuale Nutzung der App ausgeben lassen. Zuvor biete es sich an einmal die Methode 'get_all_user_timelines' auszurufen um alle User Timelines"
   ],
   "metadata": {
    "collapsed": false
   }
  },
  {
   "cell_type": "code",
   "execution_count": null,
   "outputs": [],
   "source": [
    "all_timelines = pha.get_all_user_timelines(df_sorted)\n",
    "\n",
    "adherence_percentages = pha.get_all_adherence_percentage(all_userids)\n",
    "\n",
    "plt.plot(adherence_percentages)\n",
    "plt.show()"
   ],
   "metadata": {
    "collapsed": false,
    "pycharm": {
     "is_executing": true
    }
   }
  },
  {
   "cell_type": "markdown",
   "source": [
    "Nun sind alle Voraussetzungen erfüllt um den Datensatz auf das Vorhandensein von Phasen zu untersuchen. Dafür nutzt dieses Paket drei verschiedene CPD-Algorithmen zur aus dem Ruptures package (CPD = Change point detection). Die gefundenen Change Points der drei Algorithmen geben an, in welche Phasen sich der zeitliche Verlauf unterteilt.\n",
    "1. Binary Segmentation\n",
    "2. Bottom-Up Segmentation\n",
    "3. Window Segmentaion\n",
    "\n",
    "Bevor Sie die Algorithmen anwenden, müssen Sie angeben noch welchen Kriterien Sie Chane Points suchen.\n",
    "Wenn Sie eine feste Anzahl an Change Points suchen, müssen Sie folgende Einstellungen vornehmen:\n",
    "    s_cpd_mode: True = Feste Anzahl an Change Points\n",
    "    s_num_change_points: Anzahl der Change Points"
   ],
   "metadata": {
    "collapsed": false
   }
  },
  {
   "cell_type": "code",
   "execution_count": null,
   "outputs": [],
   "source": [
    "set.s_cpd_mode = True\n",
    "set.s_num_change_points = 3"
   ],
   "metadata": {
    "collapsed": false
   }
  },
  {
   "cell_type": "markdown",
   "source": [
    "Soll die Anzahl der Change Points dynamisch sein, sollten Sie einen Schwellenwert angeben und folgende Einstellungen vornehmen:\n",
    "    s_cpd_mode: False = Schwellenwert für die Bestimmung von Change Points\n",
    "    s_pen_change_points: Höhe des Schwellenwerts für die Bestimmung der Change Points"
   ],
   "metadata": {
    "collapsed": false
   }
  },
  {
   "cell_type": "code",
   "execution_count": null,
   "outputs": [],
   "source": [
    "set.s_cpd_mode = False\n",
    "set.s_pen_change_points = 2"
   ],
   "metadata": {
    "collapsed": false
   }
  },
  {
   "cell_type": "markdown",
   "source": [
    "Da nun die notwendigen Einstellungen vorgenommen wurden, können Sie die Phasen mit Hilfe der CPD-Algorithmen bestimmen."
   ],
   "metadata": {
    "collapsed": false
   }
  },
  {
   "cell_type": "code",
   "execution_count": null,
   "outputs": [],
   "source": [
    "result_binseg = pha.cpd_binseg(adherence_percentages)\n",
    "\n",
    "result_botupseg = pha.cpd_botupseg(adherence_percentages)\n",
    "\n",
    "result_windowseg = pha.cpd_windowseg(adherence_percentages)"
   ],
   "metadata": {
    "collapsed": false
   }
  },
  {
   "cell_type": "markdown",
   "id": "b8cb8615",
   "metadata": {},
   "source": [
    "### Prediction of a users adherence behaviour\n",
    "In dieser Task geht es darum die Adherence eines neuen Nutzers für einen bestimmten Tag y in der Zukunft vorherzusagen. Dies geschieht mithilfe der Daten des neuen Nutzers und mithilfe des Datensatzes. Zuerst lesen wir den Datensatz unseres Nutzers ein. Dann wird im Datensatz nach den k-ähnlichsten Nutzern nach Adherence-Level gesucht. Auf diesen Nutzern wird ein Modell trainiert, welches die einzelnen Zeilen darauf trainiert, ob sie an Tag y adherent sind oder nicht. Für dieses Modell wird eine k-fold-cross validation ausgeführt, um die Accuracy des Modells festzulegen. Zum Schluss wird mithilfe der Daten unseres neuen Nutzers die Adherence-Wahrscheinlichkeit an Tag y berechnet und ausgegeben."
   ]
  },
  {
   "cell_type": "code",
   "execution_count": 5,
   "id": "2aaafa0e",
   "metadata": {},
   "outputs": [
    {
     "name": "stdout",
     "output_type": "stream",
     "text": [
      "2107: 0.8638211382113821, 492\n",
      "\n"
     ]
    },
    {
     "name": "stderr",
     "output_type": "stream",
     "text": [
      "C:\\Users\\mauri\\anaconda3\\envs\\Softwareprojekt\\lib\\site-packages\\sklearn\\base.py:439: UserWarning: X does not have valid feature names, but NearestNeighbors was fitted with feature names\n",
      "  warnings.warn(\n"
     ]
    },
    {
     "name": "stdout",
     "output_type": "stream",
     "text": [
      "Die 10 ähnlichsten Nutzer sind:\n",
      "     user_id  adherence_level\n",
      "47    2107.0         0.863821\n",
      "623  42251.0         0.862745\n",
      "341  18181.0         0.866667\n",
      "335  18169.0         0.866667\n",
      "567  40362.0         0.866667\n",
      "315  18129.0         0.866667\n",
      "374  34242.0         0.859813\n",
      "524  40176.0         0.868132\n",
      "348  34131.0         0.858824\n",
      "216   6388.0         0.858696\n",
      "\n",
      "Durchschnittliche Test Accuracy RandomForest-Modell: 0.984\n",
      "Adherencewahrscheinlichkeit an Tag 10: 0.93\n"
     ]
    }
   ],
   "source": [
    "new_user = 'C:/Users/mauri/PycharmProjects/Softwareprojekt/data/user_2107.csv'\n",
    "df_newuser = pd.read_csv(new_user)\n",
    "\n",
    "# der gesuchte Tag in der Zukunft, für den die Adherence-Wahrscheinlichkeit berechnet wird\n",
    "day_y = 10\n",
    "# Variable für den knn-Algorithmus der nach den ähnlichsten Nutzern nach Adherence-Level sucht\n",
    "nearest_neighbors = 10\n",
    "# Variable für die k-fold-cross-valdation, mit der die Accuracy des Modells getestet wird\n",
    "cv = 10\n",
    "# Wahl des ML-Modells: 0 --> für RandomForest, 1 --> für Support Vector Machines\n",
    "model = 0\n",
    "\n",
    "pred.task3_prediction(df_sorted, df_newuser, day_y, nearest_neighbors, cv, model)"
   ]
  },
  {
   "cell_type": "markdown",
   "id": "254ef250",
   "metadata": {},
   "source": [
    "### Statistics\n",
    "In dieser Task geht es darum die Phasen und die Gruppen aus Task 1 und 2, sowie einige weitere Statistiken zu einem bestimmten Nutzer in einer Übersicht darzustellen."
   ]
  },
  {
   "cell_type": "code",
   "execution_count": 10,
   "id": "d864690e",
   "metadata": {},
   "outputs": [
    {
     "data": {
      "image/png": "[encoded data removed]",
      "text/plain": [
       "<Figure size 1200x400 with 1 Axes>"
      ]
     },
     "metadata": {},
     "output_type": "display_data"
    }
   ],
   "source": [
    "user_id = 2107\n",
    "stat.show_user_timeline(df_sorted, user_id)"
   ]
  },
  {
   "cell_type": "code",
   "execution_count": null,
   "id": "636089e6",
   "metadata": {},
   "outputs": [],
   "source": [
    "stat.show_user_statistics(df_sorted, user_id)"
   ]
  },
  {
   "cell_type": "markdown",
   "source": [],
   "metadata": {
    "collapsed": false
   }
  },
  {
   "cell_type": "markdown",
   "source": [
    "### Task 5 Adherence Level"
   ],
   "metadata": {
    "collapsed": false
   }
  },
  {
   "cell_type": "markdown",
   "source": [
    "#### Get User adherence percentage\n",
    "\n",
    "get_user_adh_percentage(df_sorted, user_id, start_day=None, end_day=None, column=s_table_sort_by):\n",
    "\n",
    "adh_percentage wird berechent aus der Anzahl an adherenten Tagen in der Timeline / Anzahl aller Tage in der Timeline\n",
    "start_day und end_day angeben wie in get_user_timeline() um adh_percentage in einer bestimmten timeline zu bekommen. Stanadard mäßig gesamte timeline.\n",
    "returned adh_percentage eines bestimmten Users in einer bestimmten Timeline als float Wert."
   ],
   "metadata": {
    "collapsed": false
   }
  },
  {
   "cell_type": "code",
   "execution_count": 4,
   "outputs": [
    {
     "ename": "NameError",
     "evalue": "name 'lev' is not defined",
     "output_type": "error",
     "traceback": [
      "\u001B[1;31m---------------------------------------------------------------------------\u001B[0m",
      "\u001B[1;31mNameError\u001B[0m                                 Traceback (most recent call last)",
      "\u001B[1;32m<ipython-input-4-1c7639b5c607>\u001B[0m in \u001B[0;36m<module>\u001B[1;34m\u001B[0m\n\u001B[0;32m      5\u001B[0m \u001B[0mcolumn\u001B[0m \u001B[1;33m=\u001B[0m \u001B[1;34m's_table_sort_by'\u001B[0m\u001B[1;33m\u001B[0m\u001B[0m\n\u001B[0;32m      6\u001B[0m \u001B[1;33m\u001B[0m\u001B[0m\n\u001B[1;32m----> 7\u001B[1;33m \u001B[0mlev\u001B[0m\u001B[1;33m.\u001B[0m\u001B[0mget_user_adh_percentage\u001B[0m\u001B[1;33m(\u001B[0m\u001B[0mdf_sorted\u001B[0m\u001B[1;33m,\u001B[0m\u001B[0mid_user\u001B[0m\u001B[1;33m,\u001B[0m\u001B[0mstart_day\u001B[0m\u001B[1;33m,\u001B[0m\u001B[0mend_day\u001B[0m\u001B[1;33m,\u001B[0m\u001B[0mcolumn\u001B[0m\u001B[1;33m)\u001B[0m\u001B[1;33m\u001B[0m\u001B[0m\n\u001B[0m",
      "\u001B[1;31mNameError\u001B[0m: name 'lev' is not defined"
     ]
    }
   ],
   "source": [
    "id_user = 111\n",
    "\n",
    "start_day = 20\n",
    "end_day = 120\n",
    "column = 's_table_sort_by'\n",
    "\n",
    "lev.get_user_adh_percentage(df_sorted,id_user,start_day,end_day,column)"
   ],
   "metadata": {
    "collapsed": false,
    "ExecuteTime": {
     "end_time": "2023-07-10T18:55:11.664014Z",
     "start_time": "2023-07-10T18:55:11.600027900Z"
    }
   }
  },
  {
   "cell_type": "markdown",
   "source": [
    "#### Get User adherence level\n",
    "\n",
    "get_user_adh_level(df_sorted, adh_level, full_adh_threshold=80, non_adh_threshold=40, start_day=None, end_day=None) :\n",
    "\n",
    "Labeled user nach ihren adh_level. 3 Gruppen: Fully adherent, partially adheren, non-adherent.\n",
    "Über adh_level gibt der User an, welche von den Gruppen er haben möchte.\n",
    "1 = non-adherent; 2 = partial; 3 = fully adherent. User kann auch angeben, welchen Threshold er haben möchte für die adh_level. Also bis wieviel Prozent adh_percentage ein\n",
    "User noch als fully_adherent gilt, oder bis wie viel Prozent adh_percentage ein User noch als non-adherent gilt. Standardmäßg ist der Threshold bei 80 Prozent für fully\n",
    "adherent und 40 Prozent bei non-adherent.\n",
    "Über start_day und end_day kann der user wieder angeben, in welcher bestimmten timeline er das adh_level bestimmen möchte, wobei wieder standardmäßig gesamte timeline\n",
    "benutzt wird.\n",
    "returned ein Array von Usern, welche die Eingabekriterien erfüllen. Also welches von den 3 adh_level und in welche Timeline und mit welcher Threshold."
   ],
   "metadata": {
    "collapsed": false
   }
  },
  {
   "cell_type": "code",
   "execution_count": null,
   "outputs": [],
   "source": [
    "adh_level = 1\n",
    "full_adh_threshold = 80\n",
    "non_adh_threshold = 40\n",
    "start_day = 20\n",
    "end_day = 120\n",
    "\n",
    "x = lev.get_user_adh_level(df_sorted, adh_level, full_adh_threshold, non_adh_threshold,start_day,end_day)\n",
    "print(x)"
   ],
   "metadata": {
    "collapsed": false,
    "ExecuteTime": {
     "end_time": "2023-07-10T19:03:02.232173600Z",
     "start_time": "2023-07-10T19:03:02.025214400Z"
    },
    "pycharm": {
     "is_executing": true
    }
   }
  },
  {
   "cell_type": "markdown",
   "id": "9095d29f",
   "metadata": {},
   "source": [
    "# Tests"
   ]
  },
  {
   "cell_type": "code",
   "execution_count": 23,
   "id": "ad54d089",
   "metadata": {},
   "outputs": [
    {
     "data": {
      "image/png": "[encoded data removed]",
      "text/plain": [
       "<Figure size 1200x400 with 1 Axes>"
      ]
     },
     "metadata": {},
     "output_type": "display_data"
    }
   ],
   "source": []
  }
 ],
 "metadata": {
  "kernelspec": {
   "display_name": "Python 3 (ipykernel)",
   "language": "python",
   "name": "python3"
  },
  "language_info": {
   "codemirror_mode": {
    "name": "ipython",
    "version": 3
   },
   "file_extension": ".py",
   "mimetype": "text/x-python",
   "name": "python",
   "nbconvert_exporter": "python",
   "pygments_lexer": "ipython3",
   "version": "3.9.16"
  }
 },
 "nbformat": 4,
 "nbformat_minor": 5
}
