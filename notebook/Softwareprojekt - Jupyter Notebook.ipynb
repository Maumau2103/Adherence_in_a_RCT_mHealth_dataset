{
 "cells": [
  {
   "cell_type": "markdown",
   "id": "97e913d6",
   "metadata": {},
   "source": [
    "# <center> Adherence in a RCT mHealth dataset </center>"
   ]
  },
  {
   "cell_type": "markdown",
   "id": "609cdd02",
   "metadata": {},
   "source": [
    "### Introduction\n",
    "Dieses Notebook stellt verschiedene Algorithmen zur Analyse des Adherence Verhaltens von Personen aus einem gegebenen Datensatz zur Verfügung."
   ]
  },
  {
   "cell_type": "markdown",
   "id": "0061ca43",
   "metadata": {},
   "source": [
    "### Imports\n",
    "Damit wir alle benötigten Algorithmen und Funktionen auch aufrufen können, importieren wir zunächst alle Python Dateien, in denen unser Code geschrieben steht."
   ]
  },
  {
   "cell_type": "code",
   "execution_count": 1,
   "id": "89042996",
   "metadata": {
    "ExecuteTime": {
     "end_time": "2023-07-10T18:47:31.788297700Z",
     "start_time": "2023-07-10T18:47:30.776464800Z"
    },
    "pycharm": {
     "is_executing": true
    }
   },
   "outputs": [],
   "source": [
    "import os.path\n",
    "import sys\n",
    "sys.path.insert(0, os.path.normpath(os.getcwd() + os.sep + os.pardir))\n",
    "sys.path.insert(0, os.path.normpath(os.getcwd() + os.sep + os.pardir + os.sep + \"data\"))\n",
    "sys.path.insert(0, os.path.normpath(os.getcwd() + os.sep + os.pardir + os.sep + \"util\"))\n",
    "sys.path.insert(0, os.path.normpath(os.getcwd() + os.sep + os.pardir + os.sep + \"notebook\"))\n",
    "\n",
    "\n",
    "from util import helper as hlp\n",
    "from util import setup as set\n",
    "from util import task1_phases as pha\n",
    "from util import task2_groups as grp\n",
    "from util import task3_prediction as pred\n",
    "from util import task4_statistics as stat\n",
    "from util import task5_adherence_level as lev\n",
    "from util import task5_adherence_level_helper as lev2\n",
    "from util import task5_evaluation as lev3\n",
    "\n",
    "import pandas as pd\n",
    "import matplotlib.pylab as plt\n",
    "pd.options.mode.chained_assignment = None  # default='warn'\n",
    "import warnings\n",
    "\n",
    "# FutureWarning-Warnungen ignorieren\n",
    "warnings.filterwarnings(\"ignore\", category=FutureWarning)"
   ]
  },
  {
   "cell_type": "markdown",
   "id": "6adb2fee",
   "metadata": {},
   "source": [
    "### Read in data\n",
    "Zuerst lesen wir den Datensatz als pandas DataFrame ein. Der Datensatz muss in einem CSV-Format vorliegen. Der Name der Datei muss dafür vorher in der Datei setup.py angegeben werden (Direkt nach s_file_name = )."
   ]
  },
  {
   "cell_type": "code",
   "execution_count": 2,
   "id": "1e4302ef",
   "metadata": {
    "ExecuteTime": {
     "end_time": "2023-06-30T13:26:37.635920Z",
     "start_time": "2023-06-30T13:26:37.094440Z"
    }
   },
   "outputs": [],
   "source": [
    "# Suchen des Pfades in dem der Datensatz gespeichert ist. Der Datensatz wird anschließen in ein Panda Dataframe konvertiert\n",
    "dataset = hlp.find_path(set.s_file_name)"
   ]
  },
  {
   "cell_type": "markdown",
   "id": "da21b57f",
   "metadata": {},
   "source": [
    "### Data Preparation\n",
    "Um mit dem Datensatz besser arbeiten zu können müssen wir diesen zunächst etwas anpassen. Dafür werden alle unnötigen Spalten aus dem DataFrame entfernt. Außerdem gruppieren wir alle user_ids, sodass die Daten eines Nutzers alle hintereinander stehen und nicht quer verteilt sind und sortieren die Daten nach Datum, sodass sie auch zeitlich richtig sortiert sind. Es wird zudem noch das Attribut day hinzugefügt, welches den Tag, ab dem ältesten Datum für einen Nutzer angibt."
   ]
  },
  {
   "cell_type": "code",
   "execution_count": 3,
   "id": "5c67c5d4",
   "metadata": {},
   "outputs": [
    {
     "data": {
      "text/html": [
       "<div>\n",
       "<style scoped>\n",
       "    .dataframe tbody tr th:only-of-type {\n",
       "        vertical-align: middle;\n",
       "    }\n",
       "\n",
       "    .dataframe tbody tr th {\n",
       "        vertical-align: top;\n",
       "    }\n",
       "\n",
       "    .dataframe thead th {\n",
       "        text-align: right;\n",
       "    }\n",
       "</style>\n",
       "<table border=\"1\" class=\"dataframe\">\n",
       "  <thead>\n",
       "    <tr style=\"text-align: right;\">\n",
       "      <th></th>\n",
       "      <th>id</th>\n",
       "      <th>user_id</th>\n",
       "      <th>locale</th>\n",
       "      <th>client</th>\n",
       "      <th>collected_at</th>\n",
       "      <th>value_loudness</th>\n",
       "      <th>value_cumberness</th>\n",
       "      <th>value_jawbone</th>\n",
       "      <th>value_neck</th>\n",
       "      <th>value_tin_day</th>\n",
       "      <th>value_tin_cumber</th>\n",
       "      <th>value_tin_max</th>\n",
       "      <th>value_movement</th>\n",
       "      <th>value_stress</th>\n",
       "      <th>value_emotion</th>\n",
       "      <th>value_diary_q11</th>\n",
       "      <th>collected_at_year</th>\n",
       "      <th>collected_at_month</th>\n",
       "      <th>collected_at_time</th>\n",
       "      <th>day</th>\n",
       "    </tr>\n",
       "  </thead>\n",
       "  <tbody>\n",
       "    <tr>\n",
       "      <th>0</th>\n",
       "      <td>4</td>\n",
       "      <td>101</td>\n",
       "      <td>en</td>\n",
       "      <td>{\"device\":\"iPhone\",\"os\":\"iOS 14.3\",\"name\":\"UNI...</td>\n",
       "      <td>2021-04-14 08:21:51+00:00</td>\n",
       "      <td>75</td>\n",
       "      <td>79</td>\n",
       "      <td>82</td>\n",
       "      <td>71</td>\n",
       "      <td>67</td>\n",
       "      <td>82</td>\n",
       "      <td>78</td>\n",
       "      <td>78</td>\n",
       "      <td>71</td>\n",
       "      <td>67</td>\n",
       "      <td>0</td>\n",
       "      <td>2021</td>\n",
       "      <td>4</td>\n",
       "      <td>501</td>\n",
       "      <td>1</td>\n",
       "    </tr>\n",
       "    <tr>\n",
       "      <th>1</th>\n",
       "      <td>5</td>\n",
       "      <td>101</td>\n",
       "      <td>en</td>\n",
       "      <td>{\"os\":\"iOS 14.3\",\"device\":\"iPhone\",\"name\":\"UNI...</td>\n",
       "      <td>2021-04-14 08:23:12+00:00</td>\n",
       "      <td>33</td>\n",
       "      <td>77</td>\n",
       "      <td>76</td>\n",
       "      <td>64</td>\n",
       "      <td>21</td>\n",
       "      <td>73</td>\n",
       "      <td>65</td>\n",
       "      <td>30</td>\n",
       "      <td>92</td>\n",
       "      <td>67</td>\n",
       "      <td>1</td>\n",
       "      <td>2021</td>\n",
       "      <td>4</td>\n",
       "      <td>503</td>\n",
       "      <td>1</td>\n",
       "    </tr>\n",
       "    <tr>\n",
       "      <th>2</th>\n",
       "      <td>9489</td>\n",
       "      <td>101</td>\n",
       "      <td>de</td>\n",
       "      <td>{\"device\":\"iPhone\",\"os\":\"iOS 14.6\",\"name\":\"UNI...</td>\n",
       "      <td>2021-07-19 13:20:30+00:00</td>\n",
       "      <td>24</td>\n",
       "      <td>73</td>\n",
       "      <td>83</td>\n",
       "      <td>53</td>\n",
       "      <td>20</td>\n",
       "      <td>85</td>\n",
       "      <td>57</td>\n",
       "      <td>25</td>\n",
       "      <td>73</td>\n",
       "      <td>82</td>\n",
       "      <td>0</td>\n",
       "      <td>2021</td>\n",
       "      <td>7</td>\n",
       "      <td>800</td>\n",
       "      <td>97</td>\n",
       "    </tr>\n",
       "    <tr>\n",
       "      <th>3</th>\n",
       "      <td>9491</td>\n",
       "      <td>101</td>\n",
       "      <td>en</td>\n",
       "      <td>{\"device\":\"iPhone\",\"os\":\"iOS 14.5\",\"name\":\"UNI...</td>\n",
       "      <td>2021-07-19 13:27:01+00:00</td>\n",
       "      <td>35</td>\n",
       "      <td>28</td>\n",
       "      <td>23</td>\n",
       "      <td>20</td>\n",
       "      <td>50</td>\n",
       "      <td>37</td>\n",
       "      <td>32</td>\n",
       "      <td>27</td>\n",
       "      <td>44</td>\n",
       "      <td>45</td>\n",
       "      <td>0</td>\n",
       "      <td>2021</td>\n",
       "      <td>7</td>\n",
       "      <td>807</td>\n",
       "      <td>97</td>\n",
       "    </tr>\n",
       "    <tr>\n",
       "      <th>4</th>\n",
       "      <td>9515</td>\n",
       "      <td>101</td>\n",
       "      <td>el</td>\n",
       "      <td>{\"os\":\"iOS 14.6\",\"name\":\"UNITI 1.0.2\",\"device\"...</td>\n",
       "      <td>2021-07-19 14:59:32+00:00</td>\n",
       "      <td>23</td>\n",
       "      <td>75</td>\n",
       "      <td>28</td>\n",
       "      <td>69</td>\n",
       "      <td>16</td>\n",
       "      <td>87</td>\n",
       "      <td>28</td>\n",
       "      <td>81</td>\n",
       "      <td>28</td>\n",
       "      <td>77</td>\n",
       "      <td>1</td>\n",
       "      <td>2021</td>\n",
       "      <td>7</td>\n",
       "      <td>899</td>\n",
       "      <td>97</td>\n",
       "    </tr>\n",
       "  </tbody>\n",
       "</table>\n",
       "</div>"
      ],
      "text/plain": [
       "     id  user_id locale                                             client  \\\n",
       "0     4      101     en  {\"device\":\"iPhone\",\"os\":\"iOS 14.3\",\"name\":\"UNI...   \n",
       "1     5      101     en  {\"os\":\"iOS 14.3\",\"device\":\"iPhone\",\"name\":\"UNI...   \n",
       "2  9489      101     de  {\"device\":\"iPhone\",\"os\":\"iOS 14.6\",\"name\":\"UNI...   \n",
       "3  9491      101     en  {\"device\":\"iPhone\",\"os\":\"iOS 14.5\",\"name\":\"UNI...   \n",
       "4  9515      101     el  {\"os\":\"iOS 14.6\",\"name\":\"UNITI 1.0.2\",\"device\"...   \n",
       "\n",
       "               collected_at  value_loudness  value_cumberness  value_jawbone  \\\n",
       "0 2021-04-14 08:21:51+00:00              75                79             82   \n",
       "1 2021-04-14 08:23:12+00:00              33                77             76   \n",
       "2 2021-07-19 13:20:30+00:00              24                73             83   \n",
       "3 2021-07-19 13:27:01+00:00              35                28             23   \n",
       "4 2021-07-19 14:59:32+00:00              23                75             28   \n",
       "\n",
       "   value_neck  value_tin_day  value_tin_cumber  value_tin_max  value_movement  \\\n",
       "0          71             67                82             78              78   \n",
       "1          64             21                73             65              30   \n",
       "2          53             20                85             57              25   \n",
       "3          20             50                37             32              27   \n",
       "4          69             16                87             28              81   \n",
       "\n",
       "   value_stress  value_emotion  value_diary_q11  collected_at_year  \\\n",
       "0            71             67                0               2021   \n",
       "1            92             67                1               2021   \n",
       "2            73             82                0               2021   \n",
       "3            44             45                0               2021   \n",
       "4            28             77                1               2021   \n",
       "\n",
       "   collected_at_month  collected_at_time  day  \n",
       "0                   4                501    1  \n",
       "1                   4                503    1  \n",
       "2                   7                800   97  \n",
       "3                   7                807   97  \n",
       "4                   7                899   97  "
      ]
     },
     "execution_count": 3,
     "metadata": {},
     "output_type": "execute_result"
    }
   ],
   "source": [
    "# Gruppieren des DataFrame nach user_id und Sortieren nach collected_at\n",
    "df_sorted = hlp.data_preparation(dataset)\n",
    "df_sorted.head()"
   ]
  },
  {
   "cell_type": "markdown",
   "id": "dc0ee808",
   "metadata": {},
   "source": [
    "Im Folgenden filtern wir einen Testnutzer aus unserem Datensatz heraus, der anstelle eines echten neuen Nutzers benutzt wird. Alternativ kann natürlich auch ein echter Nutzer eingesetzt werden. Dafür muss der Dateiname in der Setup-Datei hinter s_file_newuser geändert werden. Außerdem können für den Testnutzer alle Einträge nach Tag y entfernt werden, um berechnete Werte von den gefilterten Daten mit den echten Daten zu vergleichen."
   ]
  },
  {
   "cell_type": "code",
   "execution_count": 4,
   "id": "50e6e3d1",
   "metadata": {},
   "outputs": [
    {
     "data": {
      "text/html": [
       "<div>\n",
       "<style scoped>\n",
       "    .dataframe tbody tr th:only-of-type {\n",
       "        vertical-align: middle;\n",
       "    }\n",
       "\n",
       "    .dataframe tbody tr th {\n",
       "        vertical-align: top;\n",
       "    }\n",
       "\n",
       "    .dataframe thead th {\n",
       "        text-align: right;\n",
       "    }\n",
       "</style>\n",
       "<table border=\"1\" class=\"dataframe\">\n",
       "  <thead>\n",
       "    <tr style=\"text-align: right;\">\n",
       "      <th></th>\n",
       "      <th>id</th>\n",
       "      <th>user_id</th>\n",
       "      <th>locale</th>\n",
       "      <th>client</th>\n",
       "      <th>collected_at</th>\n",
       "      <th>value_loudness</th>\n",
       "      <th>value_cumberness</th>\n",
       "      <th>value_jawbone</th>\n",
       "      <th>value_neck</th>\n",
       "      <th>value_tin_day</th>\n",
       "      <th>value_tin_cumber</th>\n",
       "      <th>value_tin_max</th>\n",
       "      <th>value_movement</th>\n",
       "      <th>value_stress</th>\n",
       "      <th>value_emotion</th>\n",
       "      <th>value_diary_q11</th>\n",
       "      <th>collected_at_year</th>\n",
       "      <th>collected_at_month</th>\n",
       "      <th>collected_at_time</th>\n",
       "      <th>day</th>\n",
       "    </tr>\n",
       "  </thead>\n",
       "  <tbody>\n",
       "    <tr>\n",
       "      <th>0</th>\n",
       "      <td>39087</td>\n",
       "      <td>38131</td>\n",
       "      <td>nl</td>\n",
       "      <td>{\"name\":\"typ\",\"device\":\"motorola XT1580\",\"os\":...</td>\n",
       "      <td>2022-02-25 10:29:13+00:00</td>\n",
       "      <td>61</td>\n",
       "      <td>13</td>\n",
       "      <td>19</td>\n",
       "      <td>0</td>\n",
       "      <td>77</td>\n",
       "      <td>45</td>\n",
       "      <td>74</td>\n",
       "      <td>60</td>\n",
       "      <td>18</td>\n",
       "      <td>49</td>\n",
       "      <td>0</td>\n",
       "      <td>2022</td>\n",
       "      <td>2</td>\n",
       "      <td>629</td>\n",
       "      <td>1</td>\n",
       "    </tr>\n",
       "    <tr>\n",
       "      <th>1</th>\n",
       "      <td>39138</td>\n",
       "      <td>38131</td>\n",
       "      <td>nl</td>\n",
       "      <td>{\"name\":\"typ\",\"device\":\"motorola XT1580\",\"os\":...</td>\n",
       "      <td>2022-02-25 21:52:31+00:00</td>\n",
       "      <td>54</td>\n",
       "      <td>11</td>\n",
       "      <td>0</td>\n",
       "      <td>3</td>\n",
       "      <td>37</td>\n",
       "      <td>35</td>\n",
       "      <td>73</td>\n",
       "      <td>24</td>\n",
       "      <td>27</td>\n",
       "      <td>43</td>\n",
       "      <td>0</td>\n",
       "      <td>2022</td>\n",
       "      <td>2</td>\n",
       "      <td>1312</td>\n",
       "      <td>1</td>\n",
       "    </tr>\n",
       "    <tr>\n",
       "      <th>2</th>\n",
       "      <td>39247</td>\n",
       "      <td>38131</td>\n",
       "      <td>nl</td>\n",
       "      <td>{\"name\":\"typ\",\"device\":\"motorola XT1580\",\"os\":...</td>\n",
       "      <td>2022-02-26 22:43:23+00:00</td>\n",
       "      <td>75</td>\n",
       "      <td>16</td>\n",
       "      <td>0</td>\n",
       "      <td>4</td>\n",
       "      <td>41</td>\n",
       "      <td>13</td>\n",
       "      <td>75</td>\n",
       "      <td>28</td>\n",
       "      <td>11</td>\n",
       "      <td>65</td>\n",
       "      <td>0</td>\n",
       "      <td>2022</td>\n",
       "      <td>2</td>\n",
       "      <td>1363</td>\n",
       "      <td>2</td>\n",
       "    </tr>\n",
       "    <tr>\n",
       "      <th>3</th>\n",
       "      <td>39301</td>\n",
       "      <td>38131</td>\n",
       "      <td>nl</td>\n",
       "      <td>{\"name\":\"typ\",\"device\":\"motorola XT1580\",\"os\":...</td>\n",
       "      <td>2022-02-27 19:00:45+00:00</td>\n",
       "      <td>41</td>\n",
       "      <td>13</td>\n",
       "      <td>0</td>\n",
       "      <td>0</td>\n",
       "      <td>46</td>\n",
       "      <td>10</td>\n",
       "      <td>56</td>\n",
       "      <td>32</td>\n",
       "      <td>8</td>\n",
       "      <td>52</td>\n",
       "      <td>0</td>\n",
       "      <td>2022</td>\n",
       "      <td>2</td>\n",
       "      <td>1140</td>\n",
       "      <td>3</td>\n",
       "    </tr>\n",
       "    <tr>\n",
       "      <th>4</th>\n",
       "      <td>39422</td>\n",
       "      <td>38131</td>\n",
       "      <td>nl</td>\n",
       "      <td>{\"name\":\"typ\",\"device\":\"motorola XT1580\",\"os\":...</td>\n",
       "      <td>2022-02-28 22:35:46+00:00</td>\n",
       "      <td>28</td>\n",
       "      <td>27</td>\n",
       "      <td>0</td>\n",
       "      <td>0</td>\n",
       "      <td>27</td>\n",
       "      <td>8</td>\n",
       "      <td>45</td>\n",
       "      <td>25</td>\n",
       "      <td>14</td>\n",
       "      <td>51</td>\n",
       "      <td>0</td>\n",
       "      <td>2022</td>\n",
       "      <td>2</td>\n",
       "      <td>1355</td>\n",
       "      <td>4</td>\n",
       "    </tr>\n",
       "  </tbody>\n",
       "</table>\n",
       "</div>"
      ],
      "text/plain": [
       "      id  user_id locale                                             client  \\\n",
       "0  39087    38131     nl  {\"name\":\"typ\",\"device\":\"motorola XT1580\",\"os\":...   \n",
       "1  39138    38131     nl  {\"name\":\"typ\",\"device\":\"motorola XT1580\",\"os\":...   \n",
       "2  39247    38131     nl  {\"name\":\"typ\",\"device\":\"motorola XT1580\",\"os\":...   \n",
       "3  39301    38131     nl  {\"name\":\"typ\",\"device\":\"motorola XT1580\",\"os\":...   \n",
       "4  39422    38131     nl  {\"name\":\"typ\",\"device\":\"motorola XT1580\",\"os\":...   \n",
       "\n",
       "                collected_at  value_loudness  value_cumberness  value_jawbone  \\\n",
       "0  2022-02-25 10:29:13+00:00              61                13             19   \n",
       "1  2022-02-25 21:52:31+00:00              54                11              0   \n",
       "2  2022-02-26 22:43:23+00:00              75                16              0   \n",
       "3  2022-02-27 19:00:45+00:00              41                13              0   \n",
       "4  2022-02-28 22:35:46+00:00              28                27              0   \n",
       "\n",
       "   value_neck  value_tin_day  value_tin_cumber  value_tin_max  value_movement  \\\n",
       "0           0             77                45             74              60   \n",
       "1           3             37                35             73              24   \n",
       "2           4             41                13             75              28   \n",
       "3           0             46                10             56              32   \n",
       "4           0             27                 8             45              25   \n",
       "\n",
       "   value_stress  value_emotion  value_diary_q11  collected_at_year  \\\n",
       "0            18             49                0               2022   \n",
       "1            27             43                0               2022   \n",
       "2            11             65                0               2022   \n",
       "3             8             52                0               2022   \n",
       "4            14             51                0               2022   \n",
       "\n",
       "   collected_at_month  collected_at_time  day  \n",
       "0                   2                629    1  \n",
       "1                   2               1312    1  \n",
       "2                   2               1363    2  \n",
       "3                   2               1140    3  \n",
       "4                   2               1355    4  "
      ]
     },
     "execution_count": 4,
     "metadata": {},
     "output_type": "execute_result"
    }
   ],
   "source": [
    "# Suchen des Pfades vom neuen Nutzers\n",
    "df_newuser = hlp.find_path(set.s_file_newuser)\n",
    "\n",
    "# Entfernen des Nutzers aus dem Datensatz (falls es er im Datensatz vorhanden ist)\n",
    "df_sorted = hlp.delete_test_user(df_sorted, df_newuser.iloc[0]['user_id'])\n",
    "\n",
    "# Kürzen der Einträge des Nutzers (falls Testnutzer) um die Ergebnisse der prediction mit dem echten Wert zu vergleichen\n",
    "y = 80\n",
    "df_newuser_filtered = hlp.filter_df_newuser(df_newuser, y)\n",
    "df_newuser_filtered.head()"
   ]
  },
  {
   "cell_type": "markdown",
   "id": "3aedb60a",
   "metadata": {},
   "source": [
    "### Phases\n",
    "Sie können sich die den Adherence Verlauf einer einzelnen Person ausgeben lassen um direkt zu erkennen wie sich der Nutzer verhalten hat. Eine User Timeline ist die Bezeichnung für eine binäre Liste für die folgendes gilt: 0 = Der Nutzer hat die App an Tag X nicht genutzt, 1 = Der Nutzer hat die App an Tag X genutzt. Der erste Eintrag der Liste steht für den ersten Tag der Nutzung der App, der zweite Eintrag für den zweiten Tag, usw."
   ]
  },
  {
   "cell_type": "code",
   "execution_count": 5,
   "id": "0854e3cd",
   "metadata": {},
   "outputs": [],
   "source": [
    "user40176_timeline = pha.get_user_timeline(df_sorted, 40176)"
   ]
  },
  {
   "cell_type": "markdown",
   "id": "49d7dec0",
   "metadata": {},
   "source": [
    "Möchten Sie mehr als einen User auswerten, brauchen Sie zuerst eine Liste mit allen UserIDs aus ihrem Datensatz. Diese UserIDs bekommen Sie mit der  Methode 'get_user_ids'."
   ]
  },
  {
   "cell_type": "code",
   "execution_count": 6,
   "id": "0fa621d4",
   "metadata": {},
   "outputs": [],
   "source": [
    "all_userids = hlp.get_user_ids(df_sorted)"
   ]
  },
  {
   "cell_type": "markdown",
   "id": "5928900b",
   "metadata": {},
   "source": [
    "Um zu den Verlauf der Nutzung der App zu analysieren, müssen Sie zuerst wissen an welchen Tagen die Nutzung der App besonders hoch oder niedrig war. Dazu können Sie sich mit der Methode 'get_all_adherence_percentage' die prozentuale Nutzung der App ausgeben lassen. Zuvor biete es sich an einmal die Methode 'get_all_user_timelines' auszurufen um alle User Timelines"
   ]
  },
  {
   "cell_type": "code",
   "execution_count": 7,
   "id": "b1ee75d5",
   "metadata": {
    "pycharm": {
     "is_executing": true
    }
   },
   "outputs": [
    {
     "data": {
      "image/png": "[encoded data removed]",
      "text/plain": [
       "<Figure size 640x480 with 1 Axes>"
      ]
     },
     "metadata": {},
     "output_type": "display_data"
    }
   ],
   "source": [
    "all_timelines = pha.get_all_user_timelines(df_sorted)\n",
    "\n",
    "adherence_percentages = pha.get_all_adherence_percentage(all_timelines)\n",
    "\n",
    "plt.plot(adherence_percentages)\n",
    "plt.show()"
   ]
  },
  {
   "cell_type": "markdown",
   "id": "66686e1c",
   "metadata": {},
   "source": [
    "Nun sind alle Voraussetzungen erfüllt um den Datensatz auf das Vorhandensein von Phasen zu untersuchen. Dafür nutzt dieses Paket drei verschiedene CPD-Algorithmen zur aus dem Ruptures package (CPD = Change point detection). Die gefundenen Change Points der drei Algorithmen geben an, in welche Phasen sich der zeitliche Verlauf unterteilt.\n",
    "1. Binary Segmentation\n",
    "2. Bottom-Up Segmentation\n",
    "3. Window Segmentaion\n",
    "\n",
    "Bevor Sie die Algorithmen anwenden, müssen Sie angeben noch welchen Kriterien Sie Chane Points suchen.\n",
    "Wenn Sie eine feste Anzahl an Change Points suchen, müssen Sie folgende Einstellungen vornehmen:\n",
    "    s_cpd_mode: True = Feste Anzahl an Change Points\n",
    "    s_num_change_points: Anzahl der Change Points"
   ]
  },
  {
   "cell_type": "code",
   "execution_count": 8,
   "id": "d4904b9b",
   "metadata": {},
   "outputs": [],
   "source": [
    "set.s_cpd_mode = True\n",
    "set.s_num_change_points = 3"
   ]
  },
  {
   "cell_type": "markdown",
   "id": "4617d49a",
   "metadata": {},
   "source": [
    "Soll die Anzahl der Change Points dynamisch sein, sollten Sie einen Schwellenwert angeben und folgende Einstellungen vornehmen:\n",
    "    s_cpd_mode: False = Schwellenwert für die Bestimmung von Change Points\n",
    "    s_pen_change_points: Höhe des Schwellenwerts für die Bestimmung der Change Points"
   ]
  },
  {
   "cell_type": "code",
   "execution_count": 9,
   "id": "fa314bc0",
   "metadata": {},
   "outputs": [],
   "source": [
    "set.s_cpd_mode = False\n",
    "set.s_pen_change_points = 2"
   ]
  },
  {
   "cell_type": "markdown",
   "id": "9ad26328",
   "metadata": {},
   "source": [
    "Da nun die notwendigen Einstellungen vorgenommen wurden, können Sie die Phasen mit Hilfe der CPD-Algorithmen bestimmen."
   ]
  },
  {
   "cell_type": "code",
   "execution_count": 10,
   "id": "80a47519",
   "metadata": {
    "scrolled": true
   },
   "outputs": [
    {
     "name": "stdout",
     "output_type": "stream",
     "text": [
      "[17, 46, 81, 100]\n",
      "[21, 48, 84, 100]\n",
      "[79, 100]\n"
     ]
    }
   ],
   "source": [
    "result_binseg = pha.cpd_binseg(adherence_percentages)\n",
    "\n",
    "result_botupseg = pha.cpd_botupseg(adherence_percentages)\n",
    "\n",
    "result_windowseg = pha.cpd_windowseg(adherence_percentages)\n",
    "\n",
    "print(result_binseg)\n",
    "print(result_botupseg)\n",
    "print(result_windowseg)"
   ]
  },
  {
   "cell_type": "markdown",
   "id": "2e3a3882",
   "metadata": {},
   "source": [
    "## Groups\n",
    "Sie können sich aus dem Datensatz Patientengruppen mit ähnlichem Verhalten mittels Clustering identifizieren lassen. Dabei existieren verschiedene Möglichkeiten der Gruppierung. Darunter nach dem Adherence-Verhalten, dem Nutzungsverhalten oder eine Kombinierte Gruppierung beider Faktoren. Des weiteren besteht die Möglichkeit keine Gruppierung zu nutzen. Jedem Patienten wird somit seine Gruppenzugehörigkeit zugeordnet aufgrund der jeweiligen vom Nutzer getätigten Auswahl der Gruppierung."
   ]
  },
  {
   "cell_type": "markdown",
   "id": "b2b8c0cf",
   "metadata": {},
   "source": [
    "Werden die Patienten nach ihrem Adherence-Verhalten geclustert, so gibt es drei Möglichkeiten dies vorzunehmen. \n",
    "Bei Möglichkeit 1 wird die individuelle Adeherenz-Timeline des Patienten aus Task 1 genutzt um festzustellen an welchen Tagen er adherent war und an welchen nicht. \n",
    "Möglichkeit 2 clustert aufgrund des festgestellten Adherence-Percentages zu jeder Phase für jeden Patienten aus Task 3. \n",
    "Möglichkeit 3 nutzt die individuelle Notiz-Timeline eines Patienten und stellt somit fest an welchen Tagen die Notizfunktion genutzt wurde und welche Patienten sich dabei ähneln. Alle Clusterings erfolgen mit KMeans."
   ]
  },
  {
   "cell_type": "code",
   "execution_count": 11,
   "id": "fc89057b",
   "metadata": {
    "scrolled": false
   },
   "outputs": [
    {
     "name": "stderr",
     "output_type": "stream",
     "text": [
      "C:\\Users\\mauri\\anaconda3\\envs\\Softwareprojekt\\lib\\site-packages\\sklearn\\cluster\\_kmeans.py:1382: UserWarning: KMeans is known to have a memory leak on Windows with MKL, when there are less chunks than available threads. You can avoid it by setting the environment variable OMP_NUM_THREADS=4.\n",
      "  warnings.warn(\n"
     ]
    },
    {
     "name": "stdout",
     "output_type": "stream",
     "text": [
      "   user_id                                           timeline cluster_label\n",
      "68    2192  [1, 1, 1, 1, 1, 1, 1, 1, 1, 1, 1, 0, 1, 1, 1, ...             2\n"
     ]
    },
    {
     "name": "stderr",
     "output_type": "stream",
     "text": [
      "C:\\Users\\mauri\\anaconda3\\envs\\Softwareprojekt\\lib\\site-packages\\sklearn\\cluster\\_kmeans.py:1382: UserWarning: KMeans is known to have a memory leak on Windows with MKL, when there are less chunks than available threads. You can avoid it by setting the environment variable OMP_NUM_THREADS=4.\n",
      "  warnings.warn(\n"
     ]
    },
    {
     "name": "stdout",
     "output_type": "stream",
     "text": [
      "   user_id                             phases  cluster_label\n",
      "68    2192  [0.882, 0.967, 0.778, 0.9, 0.873]              1\n"
     ]
    },
    {
     "name": "stderr",
     "output_type": "stream",
     "text": [
      "C:\\Users\\mauri\\anaconda3\\envs\\Softwareprojekt\\lib\\site-packages\\sklearn\\cluster\\_kmeans.py:1382: UserWarning: KMeans is known to have a memory leak on Windows with MKL, when there are less chunks than available threads. You can avoid it by setting the environment variable OMP_NUM_THREADS=4.\n",
      "  warnings.warn(\n"
     ]
    },
    {
     "name": "stdout",
     "output_type": "stream",
     "text": [
      "   user_id                                     notes_timeline cluster_label\n",
      "68    2192  [0, 0, 0, 0, 0, 0, 0, 0, 0, 0, 0, 0, 0, 0, 0, ...             1\n"
     ]
    }
   ],
   "source": [
    "user_id = 2192\n",
    "result_phases = result_binseg\n",
    "allusers_phases = pred.get_allusers_adherence(df_sorted, result_phases)\n",
    "\n",
    "# Methode 1\n",
    "cluster_timelines = grp.cluster_timelines(df_sorted)\n",
    "cluster_timelines_user = cluster_timelines[cluster_timelines[set.s_table_key] == user_id]\n",
    "print(cluster_timelines_user)\n",
    "\n",
    "# Methode 2\n",
    "cluster_adherence = grp.cluster_adherence_percentages(allusers_phases)\n",
    "cluster_adherence_user = cluster_adherence[cluster_adherence[set.s_table_key] == user_id]\n",
    "print(cluster_adherence_user)\n",
    "\n",
    "# Methode 3\n",
    "cluster_note_timelines = grp.cluster_note_timelines(df_sorted)\n",
    "cluster_note_timelines_user = cluster_note_timelines[cluster_note_timelines[set.s_table_key] == user_id]\n",
    "print(cluster_note_timelines_user)"
   ]
  },
  {
   "cell_type": "markdown",
   "id": "47589c23",
   "metadata": {},
   "source": [
    "Werden die Patienten nach ihrem Nutzungsverhalten miteinander verglichen und jeweils einem Cluster zugeordnet, so passiert dies aufgrund der eingegebenen Attributwerte. Dafür werden die gewünschten Attribute aus dem Datensatz selektiert. Dann erfolgt das Clustering der spezifischen Eingaben jedes Patienten."
   ]
  },
  {
   "cell_type": "code",
   "execution_count": 12,
   "id": "dd83378d",
   "metadata": {},
   "outputs": [
    {
     "name": "stdout",
     "output_type": "stream",
     "text": [
      "    user_id cluster_label\n",
      "0       101             2\n",
      "1       104             2\n",
      "2       122             2\n",
      "3       124             2\n",
      "4       137             1\n",
      "..      ...           ...\n",
      "790   42731             2\n",
      "791   42736             2\n",
      "792   42737             0\n",
      "793   42739             2\n",
      "794   42743             0\n",
      "\n",
      "[795 rows x 2 columns]\n",
      "[[81.45486061 78.92002807 57.05663673 63.06469728 77.2047523  76.19888692\n",
      "  85.38086028 57.25720913 64.68266681 47.47952875]\n",
      " [37.23499764 24.48364503 18.18137318 25.44635406 25.9404491  20.86127736\n",
      "  43.72772128 41.62764406 27.45319158 60.80900115]\n",
      " [60.53186334 51.61257545 33.13814906 41.84646769 48.67265331 45.66196488\n",
      "  65.52917691 53.59322213 41.87090947 55.72484462]]\n"
     ]
    }
   ],
   "source": [
    "patient_id_2222 = 2222\n",
    "preprocessed_data = grp.preprocess_data(df_sorted)\n",
    "allusers_cluster_label, centroids = grp.k_pod(df_sorted, preprocessed_data, k=3)\n",
    "print(allusers_cluster_label)\n",
    "print(centroids)"
   ]
  },
  {
   "cell_type": "markdown",
   "id": "991e6961",
   "metadata": {},
   "source": [
    "Es besteht die Möglichkeit, jedem Patienten ein Standart-Cluster zuzuordnen, falls keines der obigen Clusterings genutzt werden soll."
   ]
  },
  {
   "cell_type": "code",
   "execution_count": 13,
   "id": "2e831034",
   "metadata": {},
   "outputs": [
    {
     "name": "stdout",
     "output_type": "stream",
     "text": [
      "     user_id  cluster_label\n",
      "0        101              1\n",
      "1        104              1\n",
      "2        122              1\n",
      "3        124              1\n",
      "4        137              1\n",
      "..       ...            ...\n",
      "790    42731              1\n",
      "791    42736              1\n",
      "792    42737              1\n",
      "793    42739              1\n",
      "794    42743              1\n",
      "\n",
      "[795 rows x 2 columns]\n"
     ]
    }
   ],
   "source": [
    "default_group_label = 1\n",
    "patient_data_with_clusters = grp.assign_default_group(df_sorted, default_group_label)\n",
    "print(patient_data_with_clusters)"
   ]
  },
  {
   "cell_type": "markdown",
   "id": "b8cb8615",
   "metadata": {},
   "source": [
    "### Prediction of a users adherence behaviour\n",
    "In dieser Task geht es darum die Adherence eines neuen Nutzers für einen bestimmten Tag y in der Zukunft vorherzusagen. Dies geschieht mithilfe der Daten des neuen Nutzers und mithilfe des Datensatzes."
   ]
  },
  {
   "cell_type": "markdown",
   "id": "c5edc9fc",
   "metadata": {},
   "source": [
    "#### Schritt 1\n",
    "Zuerst lesen wir den Datensatz unseres neuen Nutzers ein. Den Datensatz für die restlichen Nutzer haben wir schon in df_sorted gespeichert. In result_phases wird ein beliebiges Verfahren aus Task 1 für die verschiedenen Phasen im Datensatz gewählt und es wird für den neuen Nutzer festgelegt wie seine Adherence in den jeweiligen Phasen war (Adherence-percentages). Das Gleiche wird für alle anderen Nutzer im Datensatz gemacht."
   ]
  },
  {
   "cell_type": "code",
   "execution_count": 11,
   "id": "2aaafa0e",
   "metadata": {},
   "outputs": [
    {
     "name": "stdout",
     "output_type": "stream",
     "text": [
      "new users id: 38131\n",
      "new users length: 72 days\n",
      "number of phases: 3\n",
      "new users adherence percentages: [0.647, 0.133, 0.139]\n"
     ]
    }
   ],
   "source": [
    "# Auswahl des Verfahrens aus Task 1 für die Ermittlung der Phasen im Datensatz und die Einordnung des Nutzers in die Phasen\n",
    "result_phases = result_binseg\n",
    "\n",
    "# Speichere die Adherence in den einzelnen Phasen für den neuen Nutzer und alle vorhandenen Nutzer\n",
    "newusers_phases = pred.get_newusers_adherence(df_newuser_filtered, result_phases)\n",
    "allusers_phases = pred.get_allusers_adherence(df_sorted, result_phases)"
   ]
  },
  {
   "cell_type": "markdown",
   "id": "32b350f7",
   "metadata": {},
   "source": [
    "#### Schritt 2\n",
    "In Schritt 2 wird im Datensatz nach ähnlichen Nutzern anhand der Adherence gesucht. Dafür wird der Datensatz nach den k-ähnlichsten Nutzern nach users_adherence abgesucht und der ursprüngliche Datensatz (df_sorted) wird nach diesen Nutzern gefiltert (df_similar_users)."
   ]
  },
  {
   "cell_type": "code",
   "execution_count": 12,
   "id": "7bd69799",
   "metadata": {},
   "outputs": [
    {
     "name": "stdout",
     "output_type": "stream",
     "text": [
      "Die 10 ähnlichsten Nutzer sind:\n",
      "\n",
      "    user_id                 phases  similarity\n",
      "259    6572    [0.588, 0.1, 0.083]       0.088\n",
      "568   40381  [0.706, 0.067, 0.083]       0.105\n",
      "215    6384  [0.647, 0.067, 0.222]       0.106\n",
      "63     2176    [0.647, 0.2, 0.028]       0.130\n",
      "518   40149      [0.647, 0.167, 0]       0.143\n",
      "185    6248      [0.588, 0.133, 0]       0.151\n",
      "171    6172        [0.588, 0.1, 0]       0.155\n",
      "521   40163      [0.588, 0.167, 0]       0.155\n",
      "610   42198        [0.588, 0.1, 0]       0.155\n",
      "443   36240  [0.647, 0.267, 0.056]       0.158\n"
     ]
    }
   ],
   "source": [
    "# Variable für den knn-Algorithmus der nach den ähnlichsten Nutzern nach Adherence-Level sucht\n",
    "k = 10\n",
    "\n",
    "df_similarusers = pred.find_similar_users(df_sorted, newusers_phases, allusers_phases, k)"
   ]
  },
  {
   "cell_type": "markdown",
   "id": "bdad1f7a",
   "metadata": {},
   "source": [
    "#### Schritt 3\n",
    "Auf den ähnlichen Nutzern wird nun ein Modell trainiert, welches die Wahrscheinlichkeit für adherence an einem bestimmten Tag vorhersagen soll. Für dieses Modell wird eine k-fold-cross validation ausgeführt, um die Accuracy des Modells festzulegen. Diese dient als Maß zur Sicherheit der Korrektheit des Ergebnis. Zum Schluss wird mithilfe des Modells für alle Einträge unseres neuen Nutzers die Adherence-Wahrscheinlichkeit an Tag y berechnet. Diese setzt sich zu 50% aus dem Adherence Level des neuen Nutzers in den vorherigen Phasen zusammen und zu 50% aus der Vorhersage des Modells. Diese Wahrscheinlichkeit wird letztendlich ausgegeben."
   ]
  },
  {
   "cell_type": "code",
   "execution_count": 13,
   "id": "68da91be",
   "metadata": {},
   "outputs": [
    {
     "name": "stdout",
     "output_type": "stream",
     "text": [
      "Adherencewahrscheinlichkeit an Tag 60: 0.132\n"
     ]
    },
    {
     "data": {
      "text/plain": [
       "0"
      ]
     },
     "execution_count": 13,
     "metadata": {},
     "output_type": "execute_result"
    }
   ],
   "source": [
    "# Auswahl des Tag y, für den die Adherence-Wahrscheinlichkeit berechnet werden soll\n",
    "day_y = 60\n",
    "# Variable für die k-fold-cross-valdation, mit der die Accuracy des Modells getestet wird\n",
    "cv = 10\n",
    "# Wahl des ML-Modells: 0 --> für RandomForest, 1 --> für Support Vector Machines\n",
    "model = 0\n",
    "\n",
    "pred.predict_day_adherence(df_similarusers, df_newuser_filtered, day_y, cv, 0)"
   ]
  },
  {
   "cell_type": "markdown",
   "id": "3db0cb99",
   "metadata": {},
   "source": [
    "tatsächliche Adherence an diesem Tag (falls Testnutzer):"
   ]
  },
  {
   "cell_type": "code",
   "execution_count": 14,
   "id": "41c3938f",
   "metadata": {},
   "outputs": [
    {
     "data": {
      "text/plain": [
       "0"
      ]
     },
     "execution_count": 14,
     "metadata": {},
     "output_type": "execute_result"
    }
   ],
   "source": [
    "hlp.is_adherent(df_newuser, day_y)"
   ]
  },
  {
   "cell_type": "markdown",
   "id": "ad3abc4f",
   "metadata": {},
   "source": [
    "Zusätzlich gibt es noch die Möglichkeit sich die Adherence für den Nutzer über die zukünftigen Phasen ausgeben zu lassen. Dafür wird der Durchschnitt der ähnlichen Nutzer in diesen Phasen gebildet."
   ]
  },
  {
   "cell_type": "code",
   "execution_count": 15,
   "id": "4cdc593a",
   "metadata": {},
   "outputs": [
    {
     "name": "stdout",
     "output_type": "stream",
     "text": [
      "new users adherence percentages without future phases: [0.647, 0.133, 0.139]\n",
      "new users adherence percentages with future phases: [0.647, 0.133, 0.139, 0.02, 0.01]\n"
     ]
    }
   ],
   "source": [
    "newusers_all_phases = pred.predict_phase_adherence(df_similarusers, allusers_phases, newusers_phases)"
   ]
  },
  {
   "cell_type": "markdown",
   "id": "254ef250",
   "metadata": {},
   "source": [
    "### Statistics\n",
    "In dieser Task geht es darum die Phasen und die Gruppen aus Task 1 und 2, sowie einige weitere Statistiken zu einem bestimmten Nutzer in einer Übersicht darzustellen."
   ]
  },
  {
   "cell_type": "markdown",
   "id": "2469f157",
   "metadata": {},
   "source": [
    "#### Users timeline\n",
    "Mithilfe dieser Funktion kann die timeline eines bestimmten Nutzers visualisiert werden. Dabei geben schwarze Punkte die Tage vor, in denen der Nutzer adherent war und weiße Punkte die Tage, in denen der Nutzer nicht adherent war."
   ]
  },
  {
   "cell_type": "code",
   "execution_count": 22,
   "id": "d864690e",
   "metadata": {},
   "outputs": [
    {
     "data": {
      "image/png": "[encoded data removed]",
      "text/plain": [
       "<Figure size 1200x400 with 1 Axes>"
      ]
     },
     "metadata": {},
     "output_type": "display_data"
    }
   ],
   "source": [
    "result_phases = result_binseg\n",
    "user_id = 38131\n",
    "stat.show_user_timeline(df_sorted, user_id, result_phases, start_day=1, end_day=100, step=10)"
   ]
  },
  {
   "cell_type": "markdown",
   "id": "92e1a1c4",
   "metadata": {},
   "source": [
    "#### Clusters of the data set"
   ]
  },
  {
   "cell_type": "code",
   "execution_count": 24,
   "id": "c1bd9c63",
   "metadata": {},
   "outputs": [
    {
     "data": {
      "image/png": "[encoded data removed]",
      "text/plain": [
       "<Figure size 1000x600 with 1 Axes>"
      ]
     },
     "metadata": {},
     "output_type": "display_data"
    },
    {
     "data": {
      "text/html": [
       "<div>\n",
       "<style scoped>\n",
       "    .dataframe tbody tr th:only-of-type {\n",
       "        vertical-align: middle;\n",
       "    }\n",
       "\n",
       "    .dataframe tbody tr th {\n",
       "        vertical-align: top;\n",
       "    }\n",
       "\n",
       "    .dataframe thead th {\n",
       "        text-align: right;\n",
       "    }\n",
       "</style>\n",
       "<table border=\"1\" class=\"dataframe\">\n",
       "  <thead>\n",
       "    <tr style=\"text-align: right;\">\n",
       "      <th></th>\n",
       "      <th>Feature_1</th>\n",
       "      <th>Feature_2</th>\n",
       "      <th>cluster_label</th>\n",
       "    </tr>\n",
       "  </thead>\n",
       "  <tbody>\n",
       "    <tr>\n",
       "      <th>0</th>\n",
       "      <td>-2.836626</td>\n",
       "      <td>0.766296</td>\n",
       "      <td>1</td>\n",
       "    </tr>\n",
       "    <tr>\n",
       "      <th>1</th>\n",
       "      <td>-0.602845</td>\n",
       "      <td>0.860930</td>\n",
       "      <td>1</td>\n",
       "    </tr>\n",
       "    <tr>\n",
       "      <th>2</th>\n",
       "      <td>-2.888039</td>\n",
       "      <td>0.473747</td>\n",
       "      <td>1</td>\n",
       "    </tr>\n",
       "    <tr>\n",
       "      <th>3</th>\n",
       "      <td>-2.983496</td>\n",
       "      <td>0.550391</td>\n",
       "      <td>1</td>\n",
       "    </tr>\n",
       "    <tr>\n",
       "      <th>4</th>\n",
       "      <td>-2.983496</td>\n",
       "      <td>0.550391</td>\n",
       "      <td>1</td>\n",
       "    </tr>\n",
       "    <tr>\n",
       "      <th>...</th>\n",
       "      <td>...</td>\n",
       "      <td>...</td>\n",
       "      <td>...</td>\n",
       "    </tr>\n",
       "    <tr>\n",
       "      <th>790</th>\n",
       "      <td>-2.822073</td>\n",
       "      <td>0.423920</td>\n",
       "      <td>1</td>\n",
       "    </tr>\n",
       "    <tr>\n",
       "      <th>791</th>\n",
       "      <td>-2.891975</td>\n",
       "      <td>0.491071</td>\n",
       "      <td>1</td>\n",
       "    </tr>\n",
       "    <tr>\n",
       "      <th>792</th>\n",
       "      <td>-2.806483</td>\n",
       "      <td>0.426555</td>\n",
       "      <td>1</td>\n",
       "    </tr>\n",
       "    <tr>\n",
       "      <th>793</th>\n",
       "      <td>-2.983496</td>\n",
       "      <td>0.550391</td>\n",
       "      <td>1</td>\n",
       "    </tr>\n",
       "    <tr>\n",
       "      <th>794</th>\n",
       "      <td>-2.983496</td>\n",
       "      <td>0.550391</td>\n",
       "      <td>1</td>\n",
       "    </tr>\n",
       "  </tbody>\n",
       "</table>\n",
       "<p>795 rows × 3 columns</p>\n",
       "</div>"
      ],
      "text/plain": [
       "     Feature_1  Feature_2 cluster_label\n",
       "0    -2.836626   0.766296             1\n",
       "1    -0.602845   0.860930             1\n",
       "2    -2.888039   0.473747             1\n",
       "3    -2.983496   0.550391             1\n",
       "4    -2.983496   0.550391             1\n",
       "..         ...        ...           ...\n",
       "790  -2.822073   0.423920             1\n",
       "791  -2.891975   0.491071             1\n",
       "792  -2.806483   0.426555             1\n",
       "793  -2.983496   0.550391             1\n",
       "794  -2.983496   0.550391             1\n",
       "\n",
       "[795 rows x 3 columns]"
      ]
     },
     "execution_count": 24,
     "metadata": {},
     "output_type": "execute_result"
    }
   ],
   "source": [
    "stat.show_users_clusters(cluster_timelines)"
   ]
  },
  {
   "cell_type": "markdown",
   "id": "017bf6dc",
   "metadata": {},
   "source": [
    "#### Users adherence percentage\n",
    "Hier wird die adherence percentage in jeder einzelnen Phase zu einem Nutzer im Datensatz angegeben."
   ]
  },
  {
   "cell_type": "code",
   "execution_count": 25,
   "id": "6b793cfc",
   "metadata": {},
   "outputs": [
    {
     "name": "stdout",
     "output_type": "stream",
     "text": [
      "[0.647, 0.133, 0.139, 0.05, 0.2]\n"
     ]
    },
    {
     "data": {
      "image/png": "[encoded data removed]",
      "text/plain": [
       "<Figure size 700x500 with 1 Axes>"
      ]
     },
     "metadata": {},
     "output_type": "display_data"
    }
   ],
   "source": [
    "stat.show_user_adherence_percentage(allusers_phases, user_id)"
   ]
  },
  {
   "cell_type": "markdown",
   "id": "3356bd78",
   "metadata": {},
   "source": [
    "Natürlich kann das auch für den neuen Nutzer angegeben werden. Es muss nur new_users_all_phases übergeben werden."
   ]
  },
  {
   "cell_type": "code",
   "execution_count": 16,
   "id": "b019a653",
   "metadata": {},
   "outputs": [
    {
     "name": "stdout",
     "output_type": "stream",
     "text": [
      "[0.647, 0.133, 0.139, 0.02, 0.01]\n"
     ]
    },
    {
     "data": {
      "image/png": "[encoded data removed]",
      "text/plain": [
       "<Figure size 700x500 with 1 Axes>"
      ]
     },
     "metadata": {},
     "output_type": "display_data"
    }
   ],
   "source": [
    "stat.show_user_adherence_percentage(newusers_all_phases)"
   ]
  },
  {
   "cell_type": "markdown",
   "id": "43640fac",
   "metadata": {},
   "source": [
    "#### Users statistics\n",
    "Mit dieser Funktion werden statistische Daten eines Nutzers aus dem Datensatz analysiert und ausgegeben."
   ]
  },
  {
   "cell_type": "code",
   "execution_count": 27,
   "id": "636089e6",
   "metadata": {},
   "outputs": [
    {
     "data": {
      "text/html": [
       "<div>\n",
       "<style scoped>\n",
       "    .dataframe tbody tr th:only-of-type {\n",
       "        vertical-align: middle;\n",
       "    }\n",
       "\n",
       "    .dataframe tbody tr th {\n",
       "        vertical-align: top;\n",
       "    }\n",
       "\n",
       "    .dataframe thead th {\n",
       "        text-align: right;\n",
       "    }\n",
       "</style>\n",
       "<table border=\"1\" class=\"dataframe\">\n",
       "  <thead>\n",
       "    <tr style=\"text-align: right;\">\n",
       "      <th></th>\n",
       "      <th>user_id</th>\n",
       "      <th>Anzahl_Tage</th>\n",
       "      <th>Anzahl_Einträge</th>\n",
       "      <th>Anzahl_fehlende_Einträge</th>\n",
       "      <th>längster_adh_Streak</th>\n",
       "      <th>adh_percentage</th>\n",
       "      <th>Anzahl_Lücken</th>\n",
       "    </tr>\n",
       "  </thead>\n",
       "  <tbody>\n",
       "    <tr>\n",
       "      <th>0</th>\n",
       "      <td>38131</td>\n",
       "      <td>114</td>\n",
       "      <td>23</td>\n",
       "      <td>91</td>\n",
       "      <td>7</td>\n",
       "      <td>0.28</td>\n",
       "      <td>13</td>\n",
       "    </tr>\n",
       "  </tbody>\n",
       "</table>\n",
       "</div>"
      ],
      "text/plain": [
       "   user_id  Anzahl_Tage  Anzahl_Einträge  Anzahl_fehlende_Einträge  \\\n",
       "0    38131          114               23                        91   \n",
       "\n",
       "   längster_adh_Streak  adh_percentage  Anzahl_Lücken  \n",
       "0                    7            0.28             13  "
      ]
     },
     "execution_count": 27,
     "metadata": {},
     "output_type": "execute_result"
    }
   ],
   "source": [
    "users_stats = stat.show_user_statistics(df_sorted, user_id)\n",
    "users_stats.head()"
   ]
  },
  {
   "cell_type": "markdown",
   "id": "d66773be",
   "metadata": {},
   "source": []
  },
  {
   "cell_type": "markdown",
   "id": "2e274be4",
   "metadata": {},
   "source": [
    "### Task 5 Adherence Level"
   ]
  },
  {
   "cell_type": "markdown",
   "id": "cdeb7077",
   "metadata": {},
   "source": [
    "#### Get User adherence percentage\n",
    "\n",
    "get_user_adh_percentage(df_sorted, user_id, start_day=None, end_day=None, column=s_table_sort_by):\n",
    "\n",
    "adh_percentage wird berechent aus der Anzahl an adherenten Tagen in der Timeline / Anzahl aller Tage in der Timeline\n",
    "start_day und end_day angeben wie in get_user_timeline() um adh_percentage in einer bestimmten timeline zu bekommen. Stanadard mäßig gesamte timeline.\n",
    "returned adh_percentage eines bestimmten Users in einer bestimmten Timeline als float Wert."
   ]
  },
  {
   "cell_type": "code",
   "execution_count": 28,
   "id": "de7a014c",
   "metadata": {
    "ExecuteTime": {
     "end_time": "2023-07-10T18:55:11.664014Z",
     "start_time": "2023-07-10T18:55:11.600027900Z"
    }
   },
   "outputs": [
    {
     "data": {
      "text/plain": [
       "0.8766233766233766"
      ]
     },
     "execution_count": 28,
     "metadata": {},
     "output_type": "execute_result"
    }
   ],
   "source": [
    "id_user = 2192\n",
    "result_phases = result_binseg\n",
    "\n",
    "start_day = None\n",
    "end_day = None\n",
    "column = set.s_table_sort_by\n",
    "\n",
    "# default adherence percentage\n",
    "lev.get_user_adh_percentage(df_sorted,id_user,start_day,end_day)"
   ]
  },
  {
   "cell_type": "code",
   "execution_count": 29,
   "id": "e2dcfc59",
   "metadata": {},
   "outputs": [
    {
     "data": {
      "text/plain": [
       "0.8823529411764706"
      ]
     },
     "execution_count": 29,
     "metadata": {},
     "output_type": "execute_result"
    }
   ],
   "source": [
    "start_day = 1\n",
    "end_day = result_phases[0]\n",
    "column = set.s_table_sort_by\n",
    "\n",
    "# phase 1 adherence percentage\n",
    "lev.get_user_adh_percentage(df_sorted,id_user,start_day,end_day)"
   ]
  },
  {
   "cell_type": "markdown",
   "id": "8b3b342e",
   "metadata": {},
   "source": [
    "#### Get User adherence level\n",
    "\n",
    "get_user_adh_level(df_sorted, adh_level, full_adh_threshold=80, non_adh_threshold=40, start_day=None, end_day=None) :\n",
    "\n",
    "Labeled user nach ihren adh_level. 3 Gruppen: Fully adherent, partially adheren, non-adherent.\n",
    "Über adh_level gibt der User an, welche von den Gruppen er haben möchte.\n",
    "1 = non-adherent; 2 = partial; 3 = fully adherent. User kann auch angeben, welchen Threshold er haben möchte für die adh_level. Also bis wieviel Prozent adh_percentage ein\n",
    "User noch als fully_adherent gilt, oder bis wie viel Prozent adh_percentage ein User noch als non-adherent gilt. Standardmäßg ist der Threshold bei 80 Prozent für fully\n",
    "adherent und 40 Prozent bei non-adherent.\n",
    "Über start_day und end_day kann der user wieder angeben, in welcher bestimmten timeline er das adh_level bestimmen möchte, wobei wieder standardmäßig gesamte timeline\n",
    "benutzt wird.\n",
    "returned ein Array von Usern, welche die Eingabekriterien erfüllen. Also welches von den 3 adh_level und in welche Timeline und mit welcher Threshold."
   ]
  },
  {
   "cell_type": "code",
   "execution_count": 32,
   "id": "4d7696f4",
   "metadata": {
    "ExecuteTime": {
     "end_time": "2023-07-10T19:03:02.232173600Z",
     "start_time": "2023-07-10T19:03:02.025214400Z"
    },
    "pycharm": {
     "is_executing": true
    }
   },
   "outputs": [
    {
     "name": "stdout",
     "output_type": "stream",
     "text": [
      "[101, 104, 122, 124, 137, 138, 148, 149, 150, 151, 152, 153, 156, 160, 162, 164, 168, 176, 178, 184, 190, 205, 208, 216, 217, 231, 233, 234, 235, 236, 260, 302, 304, 307, 308, 312, 320, 325, 328, 332, 336, 338, 339, 340, 368, 428, 429, 2124, 2128, 2140, 2142, 2160, 2165, 2176, 2179, 2180, 2183, 2199, 2205, 2209, 2214, 2219, 2222, 2234, 2237, 2267, 2271, 2280, 2282, 2289, 2294, 2301, 2312, 2323, 2325, 2342, 2351, 2358, 2367, 2376, 2410, 2446, 2453, 2458, 2486, 4108, 4112, 4130, 4152, 4167, 4172, 4173, 4177, 4189, 4229, 4240, 6120, 6124, 6128, 6140, 6144, 6156, 6172, 6180, 6188, 6192, 6200, 6204, 6220, 6228, 6240, 6244, 6248, 6252, 6260, 6272, 6280, 6288, 6296, 6308, 6312, 6320, 6336, 6356, 6368, 6372, 6384, 6396, 6408, 6428, 6432, 6440, 6444, 6456, 6468, 6472, 6480, 6496, 6500, 6508, 6516, 6532, 6536, 6556, 6560, 6568, 6572, 6576, 6588, 6592, 6604, 6608, 6616, 6620, 6628, 6632, 6640, 6648, 6656, 6660, 6668, 6672, 6684, 6688, 6700, 6704, 6712, 6716, 6724, 6736, 6740, 6744, 6748, 6752, 6756, 18101, 18105, 18108, 18109, 18112, 18113, 18117, 18121, 18124, 18125, 18129, 18132, 18133, 18137, 18141, 18145, 18149, 18153, 18157, 18160, 18161, 18165, 18169, 18173, 18177, 18181, 18184, 34107, 34116, 34119, 34124, 34142, 34144, 34147, 34150, 34155, 34159, 34173, 34180, 34184, 34187, 34193, 34198, 34208, 34222, 34227, 34231, 34280, 34284, 34292, 34301, 34306, 34311, 34314, 34317, 34333, 34340, 34347, 34358, 34387, 34390, 34393, 34401, 34407, 34411, 34414, 34418, 34440, 34442, 34457, 34462, 34475, 34492, 34498, 34668, 36114, 36142, 36148, 36155, 36162, 36175, 36183, 36195, 36198, 36202, 36207, 36216, 36228, 36231, 36240, 36247, 36249, 36256, 36258, 36273, 36278, 36281, 36286, 36290, 36299, 36304, 36307, 36318, 36337, 36343, 36355, 36361, 36370, 36377, 36387, 36390, 36402, 36420, 36423, 36427, 36434, 36438, 36442, 36452, 36462, 36465, 36478, 36483, 36494, 36499, 36502, 36506, 38103, 38104, 38107, 38110, 38112, 38118, 38126, 38130, 38131, 38134, 38135, 38142, 38159, 38166, 38178, 38179, 38182, 38186, 38195, 38211, 40103, 40118, 40121, 40131, 40149, 40163, 40168, 40177, 40188, 40189, 40205, 40213, 40228, 40250, 40264, 40265, 40272, 40278, 40285, 40297, 40303, 40318, 40321, 40337, 40341, 40349, 40354, 40362, 40374, 40381, 40387, 40390, 40402, 40410, 40424, 40427, 40432, 42101, 42110, 42111, 42112, 42113, 42116, 42123, 42125, 42132, 42136, 42137, 42138, 42144, 42148, 42150, 42151, 42154, 42155, 42161, 42163, 42166, 42168, 42170, 42171, 42178, 42179, 42180, 42190, 42191, 42192, 42194, 42196, 42198, 42199, 42201, 42219, 42223, 42231, 42232, 42238, 42239, 42240, 42248, 42249, 42251, 42253, 42254, 42255, 42266, 42298, 42306, 42317, 42320, 42321, 42323, 42329, 42330, 42344, 42358, 42359, 42360, 42361, 42362, 42364, 42365, 42367, 42371, 42378, 42383, 42385, 42391, 42398, 42400, 42407, 42411, 42412, 42413, 42416, 42418, 42419, 42425, 42427, 42432, 42433, 42434, 42438, 42439, 42440, 42447, 42448, 42449, 42451, 42452, 42454, 42463, 42466, 42469, 42470, 42474, 42479, 42490, 42498, 42501, 42504, 42506, 42507, 42508, 42509, 42510, 42515, 42521, 42522, 42524, 42525, 42527, 42529, 42530, 42532, 42535, 42536, 42539, 42542, 42547, 42548, 42549, 42553, 42555, 42556, 42557, 42558, 42560, 42561, 42563, 42569, 42573, 42575, 42577, 42578, 42579, 42581, 42583, 42585, 42586, 42589, 42590, 42594, 42596, 42597, 42598, 42600, 42602, 42603, 42606, 42607, 42608, 42609, 42610, 42611, 42613, 42615, 42619, 42622, 42624, 42625, 42626, 42631, 42632, 42634, 42638, 42639, 42643, 42645, 42651, 42652, 42653, 42660, 42661, 42668, 42669, 42671, 42674, 42676, 42678, 42679, 42683, 42685, 42686, 42687, 42688, 42689, 42697, 42699, 42701, 42704, 42705, 42710, 42713, 42714, 42717, 42719, 42723, 42724, 42725, 42727, 42728, 42729, 42730, 42731, 42736, 42737, 42739, 42743]\n"
     ]
    }
   ],
   "source": [
    "adh_level = 1\n",
    "full_adh_threshold = 80\n",
    "non_adh_threshold = 40\n",
    "start_day = 20\n",
    "end_day = 120\n",
    "\n",
    "# die Phasen können in dieser Funktion auch genutzt werden, wie in get_user_adherence_percentage\n",
    "adherence_level = []\n",
    "adherence_level = lev.get_user_adh_level(df_sorted, adh_level, full_adh_threshold, non_adh_threshold,start_day,end_day)\n",
    "print(adherence_level)"
   ]
  },
  {
   "cell_type": "markdown",
   "id": "a7a83550",
   "metadata": {},
   "source": [
    "### Get User adherence level Cluster\n",
    "\n",
    "get_user_adh_level_cluster(df_sorted, adh_level, start_day=s_start_day, end_day=s_end_day):\n",
    "\n",
    "Labeled user nach adh_level basiert auf k-means clustering mit k=3. Benutzt wird cluster_adherence_levels(df_sorted, num_clusters=3, start_day=None, end_day=None)\n",
    "aus task2_groups. Den Clustern wird ein adherence level label gegeben. Der Nutzer kann entscheiden mit adh_level welchen adherence level er haben möchte und bekommt ein\n",
    "array von Usern mit dem adherence level.\n",
    "adh_level of 1 = low adherence, 2 = moderate, 3 = high"
   ]
  },
  {
   "cell_type": "code",
   "execution_count": 35,
   "id": "823f3c2e",
   "metadata": {
    "ExecuteTime": {
     "end_time": "2023-07-29T09:52:21.950981900Z",
     "start_time": "2023-07-29T09:52:18.894154300Z"
    }
   },
   "outputs": [
    {
     "name": "stderr",
     "output_type": "stream",
     "text": [
      "C:\\Users\\mauri\\anaconda3\\envs\\Softwareprojekt\\lib\\site-packages\\sklearn\\cluster\\_kmeans.py:1382: UserWarning: KMeans is known to have a memory leak on Windows with MKL, when there are less chunks than available threads. You can avoid it by setting the environment variable OMP_NUM_THREADS=4.\n",
      "  warnings.warn(\n"
     ]
    },
    {
     "name": "stdout",
     "output_type": "stream",
     "text": [
      "[101, 104, 122, 124, 137, 138, 148, 149, 150, 151, 152, 153, 156, 160, 162, 164, 168, 176, 178, 184, 190, 205, 208, 216, 217, 231, 233, 234, 235, 236, 260, 302, 304, 307, 308, 312, 320, 325, 328, 332, 336, 338, 339, 340, 368, 428, 429, 2124, 2140, 2142, 2160, 2176, 2179, 2180, 2205, 2209, 2234, 2237, 2267, 2282, 2289, 2301, 2312, 2323, 2325, 2342, 2351, 2358, 2367, 2376, 2486, 4108, 4112, 4152, 4167, 4172, 4173, 4177, 4189, 4240, 6128, 6140, 6144, 6156, 6172, 6180, 6188, 6192, 6200, 6204, 6228, 6240, 6244, 6248, 6252, 6288, 6296, 6308, 6320, 6356, 6368, 6372, 6384, 6396, 6408, 6428, 6432, 6440, 6444, 6456, 6468, 6472, 6480, 6496, 6500, 6508, 6516, 6532, 6536, 6556, 6568, 6572, 6576, 6588, 6592, 6604, 6608, 6616, 6632, 6640, 6648, 6656, 6660, 6668, 6672, 6684, 6688, 6704, 6712, 6724, 6736, 6740, 6744, 6748, 6752, 6756, 18101, 18105, 18108, 18109, 18112, 18113, 18117, 18121, 18124, 18125, 18129, 18132, 18133, 18137, 18141, 18145, 18149, 18153, 18157, 18161, 18165, 18169, 18173, 18177, 18181, 34107, 34116, 34144, 34147, 34150, 34155, 34159, 34173, 34187, 34193, 34227, 34292, 34301, 34306, 34314, 34317, 34340, 34347, 34387, 34390, 34401, 34407, 34418, 34440, 34442, 34457, 34462, 34475, 34668, 36114, 36142, 36148, 36155, 36162, 36175, 36183, 36195, 36198, 36202, 36207, 36216, 36228, 36240, 36247, 36249, 36256, 36258, 36273, 36278, 36286, 36304, 36307, 36337, 36343, 36361, 36370, 36377, 36387, 36390, 36402, 36420, 36427, 36434, 36438, 36442, 36452, 36462, 36478, 36483, 36499, 36502, 36506, 38103, 38104, 38107, 38110, 38112, 38118, 38126, 38130, 38131, 38134, 38135, 38142, 38159, 38166, 38178, 38179, 38182, 38186, 38195, 38211, 40118, 40121, 40131, 40149, 40163, 40168, 40177, 40188, 40213, 40228, 40250, 40264, 40265, 40272, 40278, 40285, 40303, 40318, 40321, 40337, 40341, 40349, 40354, 40362, 40381, 40387, 40390, 40410, 40424, 40427, 40432, 42101, 42110, 42111, 42112, 42113, 42116, 42123, 42125, 42132, 42136, 42137, 42138, 42144, 42148, 42150, 42151, 42154, 42155, 42161, 42163, 42166, 42168, 42170, 42171, 42178, 42179, 42180, 42190, 42191, 42192, 42194, 42196, 42198, 42199, 42219, 42223, 42231, 42232, 42238, 42239, 42240, 42248, 42249, 42253, 42254, 42255, 42266, 42298, 42306, 42317, 42320, 42321, 42323, 42329, 42330, 42344, 42358, 42359, 42360, 42361, 42362, 42364, 42365, 42367, 42371, 42378, 42383, 42385, 42391, 42398, 42400, 42407, 42412, 42413, 42416, 42418, 42419, 42425, 42427, 42432, 42433, 42434, 42438, 42439, 42440, 42447, 42448, 42449, 42452, 42454, 42463, 42466, 42469, 42470, 42474, 42479, 42490, 42498, 42501, 42504, 42506, 42507, 42508, 42509, 42510, 42515, 42521, 42522, 42524, 42525, 42527, 42529, 42530, 42535, 42536, 42539, 42542, 42547, 42548, 42549, 42553, 42555, 42556, 42557, 42558, 42560, 42561, 42563, 42569, 42573, 42575, 42577, 42578, 42579, 42581, 42583, 42585, 42586, 42589, 42590, 42594, 42596, 42597, 42598, 42600, 42602, 42603, 42606, 42607, 42608, 42609, 42610, 42611, 42613, 42615, 42619, 42622, 42624, 42625, 42626, 42631, 42632, 42634, 42638, 42639, 42643, 42645, 42651, 42652, 42653, 42660, 42661, 42668, 42669, 42671, 42674, 42676, 42678, 42679, 42683, 42685, 42686, 42687, 42688, 42689, 42697, 42699, 42701, 42704, 42705, 42710, 42713, 42714, 42717, 42719, 42723, 42724, 42725, 42727, 42728, 42729, 42730, 42731, 42736, 42737, 42739, 42743]\n"
     ]
    }
   ],
   "source": [
    "adh_level = 1\n",
    "start_day = 20\n",
    "end_day = 120\n",
    "\n",
    "# die Phasen können in dieser Funktion auch genutzt werden, wie in get_user_adherence_percentage\n",
    "adherence_level = []\n",
    "adherence_level = lev2.get_user_adh_level_cluster(df_sorted, adh_level, start_day, end_day)\n",
    "print(adherence_level)"
   ]
  },
  {
   "cell_type": "markdown",
   "id": "39023674",
   "metadata": {},
   "source": [
    "### Adherence level evaluation\n",
    "calculate the average adherence percentage of each level. Sum up all the users adh_percentage of a level and divide thorugh the sum of all adh_percentages.  To see how close they are\n",
    "returns array with each levels average adherence. [0]=of level 1, [1]=of level2,[2]=of level3"
   ]
  },
  {
   "cell_type": "code",
   "execution_count": 36,
   "id": "50bcc905",
   "metadata": {},
   "outputs": [
    {
     "data": {
      "text/plain": [
       "[0.05871235109500436, 0.5741468001548758, 0.8961496149614963]"
      ]
     },
     "execution_count": 36,
     "metadata": {},
     "output_type": "execute_result"
    }
   ],
   "source": [
    "lev3.adh_level_evaluation(df_sorted, 80, 40, 20, 120)"
   ]
  },
  {
   "cell_type": "code",
   "execution_count": 37,
   "id": "27099f6f",
   "metadata": {},
   "outputs": [
    {
     "name": "stderr",
     "output_type": "stream",
     "text": [
      "C:\\Users\\mauri\\anaconda3\\envs\\Softwareprojekt\\lib\\site-packages\\sklearn\\cluster\\_kmeans.py:1382: UserWarning: KMeans is known to have a memory leak on Windows with MKL, when there are less chunks than available threads. You can avoid it by setting the environment variable OMP_NUM_THREADS=4.\n",
      "  warnings.warn(\n",
      "C:\\Users\\mauri\\anaconda3\\envs\\Softwareprojekt\\lib\\site-packages\\sklearn\\cluster\\_kmeans.py:1382: UserWarning: KMeans is known to have a memory leak on Windows with MKL, when there are less chunks than available threads. You can avoid it by setting the environment variable OMP_NUM_THREADS=4.\n",
      "  warnings.warn(\n",
      "C:\\Users\\mauri\\anaconda3\\envs\\Softwareprojekt\\lib\\site-packages\\sklearn\\cluster\\_kmeans.py:1382: UserWarning: KMeans is known to have a memory leak on Windows with MKL, when there are less chunks than available threads. You can avoid it by setting the environment variable OMP_NUM_THREADS=4.\n",
      "  warnings.warn(\n"
     ]
    },
    {
     "data": {
      "text/plain": [
       "[0.02490069366218054, 0.4007098823089855, 0.7439677301063443]"
      ]
     },
     "execution_count": 37,
     "metadata": {},
     "output_type": "execute_result"
    }
   ],
   "source": [
    "lev3.adh_level_cluster_evaluation(df_sorted, 20, 120)"
   ]
  },
  {
   "cell_type": "markdown",
   "id": "9f585571",
   "metadata": {},
   "source": [
    "### Adherence level group average\n",
    "calculate Group Average algorithm of each level. calculates the distance from one level to another.\n",
    "returns array with distances.[0]=distance from level1 to level2,[1]=distance from level2 to level3,[2]=distance from level1 to level3."
   ]
  },
  {
   "cell_type": "code",
   "execution_count": 38,
   "id": "0084e62f",
   "metadata": {},
   "outputs": [
    {
     "data": {
      "text/plain": [
       "[0.5154344490598106, 0.3220028148066236, 0.8374372638664599]"
      ]
     },
     "execution_count": 38,
     "metadata": {},
     "output_type": "execute_result"
    }
   ],
   "source": [
    "lev3.adh_level_group_average(df_sorted, 80, 40, 20, 120)"
   ]
  },
  {
   "cell_type": "code",
   "execution_count": 39,
   "id": "4022ffd5",
   "metadata": {},
   "outputs": [
    {
     "name": "stderr",
     "output_type": "stream",
     "text": [
      "C:\\Users\\mauri\\anaconda3\\envs\\Softwareprojekt\\lib\\site-packages\\sklearn\\cluster\\_kmeans.py:1382: UserWarning: KMeans is known to have a memory leak on Windows with MKL, when there are less chunks than available threads. You can avoid it by setting the environment variable OMP_NUM_THREADS=4.\n",
      "  warnings.warn(\n",
      "C:\\Users\\mauri\\anaconda3\\envs\\Softwareprojekt\\lib\\site-packages\\sklearn\\cluster\\_kmeans.py:1382: UserWarning: KMeans is known to have a memory leak on Windows with MKL, when there are less chunks than available threads. You can avoid it by setting the environment variable OMP_NUM_THREADS=4.\n",
      "  warnings.warn(\n",
      "C:\\Users\\mauri\\anaconda3\\envs\\Softwareprojekt\\lib\\site-packages\\sklearn\\cluster\\_kmeans.py:1382: UserWarning: KMeans is known to have a memory leak on Windows with MKL, when there are less chunks than available threads. You can avoid it by setting the environment variable OMP_NUM_THREADS=4.\n",
      "  warnings.warn(\n"
     ]
    },
    {
     "data": {
      "text/plain": [
       "[7.852844876296718e-17, 7.852844876296718e-17, 7.852844876296718e-17]"
      ]
     },
     "execution_count": 39,
     "metadata": {},
     "output_type": "execute_result"
    }
   ],
   "source": [
    "lev3.adh_level_group_cluster_average(df_sorted, 20, 120)"
   ]
  },
  {
   "cell_type": "code",
   "execution_count": 40,
   "id": "df22d215",
   "metadata": {},
   "outputs": [
    {
     "name": "stderr",
     "output_type": "stream",
     "text": [
      "C:\\Users\\mauri\\anaconda3\\envs\\Softwareprojekt\\lib\\site-packages\\sklearn\\cluster\\_kmeans.py:1382: UserWarning: KMeans is known to have a memory leak on Windows with MKL, when there are less chunks than available threads. You can avoid it by setting the environment variable OMP_NUM_THREADS=4.\n",
      "  warnings.warn(\n",
      "C:\\Users\\mauri\\anaconda3\\envs\\Softwareprojekt\\lib\\site-packages\\sklearn\\cluster\\_kmeans.py:1382: UserWarning: KMeans is known to have a memory leak on Windows with MKL, when there are less chunks than available threads. You can avoid it by setting the environment variable OMP_NUM_THREADS=4.\n",
      "  warnings.warn(\n"
     ]
    },
    {
     "name": "stdout",
     "output_type": "stream",
     "text": [
      "0.39603960396039606\n",
      "0.2079207920792079\n",
      "0.801980198019802\n",
      "0.5742574257425742\n"
     ]
    }
   ],
   "source": [
    "lev3.comp(df_sorted, 80, 40, 20, 120)"
   ]
  }
 ],
 "metadata": {
  "kernelspec": {
   "display_name": "Python 3 (ipykernel)",
   "language": "python",
   "name": "python3"
  },
  "language_info": {
   "codemirror_mode": {
    "name": "ipython",
    "version": 3
   },
   "file_extension": ".py",
   "mimetype": "text/x-python",
   "name": "python",
   "nbconvert_exporter": "python",
   "pygments_lexer": "ipython3",
   "version": "3.9.16"
  }
 },
 "nbformat": 4,
 "nbformat_minor": 5
}
