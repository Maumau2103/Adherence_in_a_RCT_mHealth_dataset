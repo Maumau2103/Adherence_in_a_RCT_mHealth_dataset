{
 "cells": [
  {
   "cell_type": "markdown",
   "id": "97e913d6",
   "metadata": {},
   "source": [
    "# <center> Adherence in a RCT mHealth dataset </center>"
   ]
  },
  {
   "cell_type": "markdown",
   "id": "609cdd02",
   "metadata": {},
   "source": [
    "### Introduction\n",
    "Dieses Notebook stellt verschiedene Algorithmen zur Analyse des Adherence Verhaltens von Personen aus einem gegebenen Datensatz zur Verfügung."
   ]
  },
  {
   "cell_type": "markdown",
   "id": "0061ca43",
   "metadata": {},
   "source": [
    "### Imports\n",
    "Damit wir alle benötigten Algorithmen und Funktionen auch aufrufen können, importieren wir zunächst alle Python Dateien, in denen unser Code geschrieben steht."
   ]
  },
  {
   "cell_type": "code",
   "execution_count": 1,
   "id": "89042996",
   "metadata": {},
   "outputs": [],
   "source": [
    "import sys\n",
    "sys.path.append('C:/Users/mauri/PycharmProjects/Softwareprojekt/code')\n",
    "from helper import *\n",
    "from task1_phases import *\n",
    "from task3_prediction import *"
   ]
  },
  {
   "cell_type": "markdown",
   "id": "6adb2fee",
   "metadata": {},
   "source": [
    "### Read in data\n",
    "Zuerst lesen wir den Datensatz als pandas DataFrame ein. Der Datensatz muss in einem CSV-Format vorliegen. Dafür muss der gesamte Dateipfad zwischen den Hochkommas hinter \"dataset =\" eingesetzt werden."
   ]
  },
  {
   "cell_type": "code",
   "execution_count": 2,
   "id": "1e4302ef",
   "metadata": {},
   "outputs": [],
   "source": [
    "dataset = 'C:/Users/mauri/PycharmProjects/Softwareprojekt/data/gefiltert.csv'\n",
    "\n",
    "# Einlesen des Datensatzes als pandas DataFrame\n",
    "df = csv_to_dataframe(dataset)"
   ]
  },
  {
   "cell_type": "markdown",
   "id": "da21b57f",
   "metadata": {},
   "source": [
    "### Group and sort data\n",
    "Um mit dem Datensatz besser arbeiten zu können müssen wir diesen zunächst etwas sortieren. Dafür gruppieren wir alle user_ids, sodass die Daten eines Nutzers alle hintereinander stehen und nicht quer verteilt sind und sortieren die Daten nach dem Datum von collected_at, sodass sie auch zeitlich richtig sortiert sind. Das Ergebnis wird in der Datei dataset_sorted.csv gespeichert."
   ]
  },
  {
   "cell_type": "code",
   "execution_count": 3,
   "id": "5c67c5d4",
   "metadata": {},
   "outputs": [],
   "source": [
    "# Gruppieren des DataFrame nach user_id und Sortieren nach collected_at\n",
    "df_sorted = group_and_sort(df)\n",
    "\n",
    "# Speichern des gruppierten und sortierten DataFrames in einer neuen CSV-Datei\n",
    "df_sorted.to_csv(\"dataset_sorted.csv\", index=False)"
   ]
  },
  {
   "cell_type": "markdown",
   "id": "b8cb8615",
   "metadata": {},
   "source": [
    "### Prediction of a users adherence behaviour\n",
    "In dieser Task geht es darum die Adherence eines neuen Nutzers für einen bestimmten Tag y in der Zukunft vorherzusagen. Dies geschieht mithilfe der Daten die von ihm schon zu Verfügung stehen und mithilfe des Datensatzes. Zuerst lesen wir die Daten unseres Nutzers ein und geben den Tag an, den wir vorhersagen wollen."
   ]
  },
  {
   "cell_type": "code",
   "execution_count": 4,
   "id": "2aaafa0e",
   "metadata": {},
   "outputs": [],
   "source": [
    "new_user = 'C:/Users/mauri/PycharmProjects/Softwareprojekt/data/new_user.csv'\n",
    "day_y = 20\n",
    "\n",
    "new_user_df = csv_to_dataframe(new_user)"
   ]
  },
  {
   "cell_type": "markdown",
   "id": "921ee593",
   "metadata": {},
   "source": [
    "#### Step 1\n",
    "Im ersten Schritt suchen wir den Datensatz nach den k-ähnlichsten Personen zu unserem neuen Nutzer ab. Dabei suchen wir nach möglichst ähnlichen Lücken (Anzahl und Länge) im Adherence-Verhalten."
   ]
  },
  {
   "cell_type": "code",
   "execution_count": 10,
   "id": "7adb1678",
   "metadata": {
    "scrolled": true
   },
   "outputs": [
    {
     "ename": "NameError",
     "evalue": "name 'prediction_step1' is not defined",
     "output_type": "error",
     "traceback": [
      "\u001B[1;31m---------------------------------------------------------------------------\u001B[0m",
      "\u001B[1;31mNameError\u001B[0m                                 Traceback (most recent call last)",
      "Cell \u001B[1;32mIn[10], line 1\u001B[0m\n\u001B[1;32m----> 1\u001B[0m \u001B[43mprediction_step1\u001B[49m(df_sorted, new_user_df)\n",
      "\u001B[1;31mNameError\u001B[0m: name 'prediction_step1' is not defined"
     ]
    }
   ],
   "source": [
    "prediction_step1(df_sorted, new_user_df)"
   ]
  },
  {
   "cell_type": "code",
   "execution_count": null,
   "id": "ba6bd76f",
   "metadata": {},
   "outputs": [],
   "source": []
  }
 ],
 "metadata": {
  "kernelspec": {
   "display_name": "Python 3 (ipykernel)",
   "language": "python",
   "name": "python3"
  },
  "language_info": {
   "codemirror_mode": {
    "name": "ipython",
    "version": 3
   },
   "file_extension": ".py",
   "mimetype": "text/x-python",
   "name": "python",
   "nbconvert_exporter": "python",
   "pygments_lexer": "ipython3",
   "version": "3.9.16"
  }
 },
 "nbformat": 4,
 "nbformat_minor": 5
}
