{
 "cells": [
  {
   "cell_type": "markdown",
   "id": "97e913d6",
   "metadata": {},
   "source": [
    "# <center> Adherence in a RCT mHealth dataset </center>"
   ]
  },
  {
   "cell_type": "markdown",
   "id": "609cdd02",
   "metadata": {},
   "source": [
    "### Introduction\n",
    "Dieses Notebook stellt verschiedene Algorithmen zur Analyse des Adherence Verhaltens von Personen aus einem gegebenen Datensatz zur Verfügung."
   ]
  },
  {
   "cell_type": "markdown",
   "id": "0061ca43",
   "metadata": {},
   "source": [
    "### Imports\n",
    "Damit wir alle benötigten Algorithmen und Funktionen auch aufrufen können, importieren wir zunächst alle Python Dateien, in denen unser Code geschrieben steht."
   ]
  },
  {
   "cell_type": "code",
   "execution_count": 5,
   "id": "89042996",
   "metadata": {},
   "outputs": [],
   "source": [
    "import sys\n",
    "sys.path.append('C:/Users/mauri/PycharmProjects/Softwareprojekt/code')\n",
    "from helper import *\n",
    "from task3_prediction import *\n",
    "from task4_statistics import *\n",
    "import pandas as pd\n",
    "pd.options.mode.chained_assignment = None  # default='warn'\n",
    "import warnings\n",
    "# FutureWarning-Warnungen ignorieren\n",
    "warnings.filterwarnings(\"ignore\", category=FutureWarning)"
   ]
  },
  {
   "cell_type": "markdown",
   "id": "6adb2fee",
   "metadata": {},
   "source": [
    "### Read in data\n",
    "Zuerst lesen wir den Datensatz als pandas DataFrame ein. Der Datensatz muss in einem CSV-Format vorliegen. Dafür muss der gesamte Dateipfad zwischen den Hochkommas hinter \"dataset =\" eingesetzt werden."
   ]
  },
  {
   "cell_type": "code",
   "execution_count": 6,
   "id": "1e4302ef",
   "metadata": {},
   "outputs": [],
   "source": [
    "dataset = 'C:/Users/mauri/PycharmProjects/Softwareprojekt/data/gefiltert.csv'\n",
    "\n",
    "# Einlesen des Datensatzes als pandas DataFrame\n",
    "df = pd.read_csv(dataset)"
   ]
  },
  {
   "cell_type": "markdown",
   "id": "da21b57f",
   "metadata": {},
   "source": [
    "### Group and sort data\n",
    "Um mit dem Datensatz besser arbeiten zu können müssen wir diesen zunächst etwas sortieren. Dafür gruppieren wir alle user_ids, sodass die Daten eines Nutzers alle hintereinander stehen und nicht quer verteilt sind und sortieren die Daten nach dem Datum von collected_at, sodass sie auch zeitlich richtig sortiert sind. Das Ergebnis wird in der Datei dataset_sorted.csv gespeichert."
   ]
  },
  {
   "cell_type": "code",
   "execution_count": 7,
   "id": "5c67c5d4",
   "metadata": {},
   "outputs": [
    {
     "data": {
      "text/html": [
       "<div>\n",
       "<style scoped>\n",
       "    .dataframe tbody tr th:only-of-type {\n",
       "        vertical-align: middle;\n",
       "    }\n",
       "\n",
       "    .dataframe tbody tr th {\n",
       "        vertical-align: top;\n",
       "    }\n",
       "\n",
       "    .dataframe thead th {\n",
       "        text-align: right;\n",
       "    }\n",
       "</style>\n",
       "<table border=\"1\" class=\"dataframe\">\n",
       "  <thead>\n",
       "    <tr style=\"text-align: right;\">\n",
       "      <th></th>\n",
       "      <th>id</th>\n",
       "      <th>user_id</th>\n",
       "      <th>locale</th>\n",
       "      <th>client</th>\n",
       "      <th>collected_at</th>\n",
       "      <th>created_at</th>\n",
       "      <th>updated_at</th>\n",
       "      <th>value_loudness</th>\n",
       "      <th>value_cumberness</th>\n",
       "      <th>value_jawbone</th>\n",
       "      <th>...</th>\n",
       "      <th>collected_at_cumberness</th>\n",
       "      <th>collected_at_jawbone</th>\n",
       "      <th>collected_at_neck</th>\n",
       "      <th>collected_at_tin_day</th>\n",
       "      <th>collected_at_tin_cumber</th>\n",
       "      <th>collected_at_tin_max</th>\n",
       "      <th>collected_at_movement</th>\n",
       "      <th>collected_at_stress</th>\n",
       "      <th>collected_at_emotion</th>\n",
       "      <th>collected_at_diary_q11</th>\n",
       "    </tr>\n",
       "  </thead>\n",
       "  <tbody>\n",
       "    <tr>\n",
       "      <th>0</th>\n",
       "      <td>1104</td>\n",
       "      <td>2107</td>\n",
       "      <td>en</td>\n",
       "      <td>{\"name\":\"UNITI 1.0\",\"os\":\"iOS 14.5.1\",\"device\"...</td>\n",
       "      <td>2021-05-14T15:48:21Z</td>\n",
       "      <td>2021-05-14T15:48:21Z</td>\n",
       "      <td>2021-05-14T15:48:21Z</td>\n",
       "      <td>35</td>\n",
       "      <td>3</td>\n",
       "      <td>0</td>\n",
       "      <td>...</td>\n",
       "      <td>2021-05-14T15:45:00Z</td>\n",
       "      <td>2021-05-14T15:46:03Z</td>\n",
       "      <td>2021-05-14T15:45:27Z</td>\n",
       "      <td>2021-05-14T15:46:12Z</td>\n",
       "      <td>2021-05-14T15:46:18Z</td>\n",
       "      <td>2021-05-14T15:46:24Z</td>\n",
       "      <td>2021-05-14T15:46:41Z</td>\n",
       "      <td>2021-05-14T15:46:44Z</td>\n",
       "      <td>2021-05-14T15:46:56Z</td>\n",
       "      <td>2021-05-14T15:48:02Z</td>\n",
       "    </tr>\n",
       "    <tr>\n",
       "      <th>1</th>\n",
       "      <td>1162</td>\n",
       "      <td>2107</td>\n",
       "      <td>de</td>\n",
       "      <td>{\"os\":\"iOS 14.5.1\",\"name\":\"UNITI 1.0\",\"device\"...</td>\n",
       "      <td>2021-05-15T17:32:52Z</td>\n",
       "      <td>2021-05-15T17:32:53Z</td>\n",
       "      <td>2021-05-15T17:32:53Z</td>\n",
       "      <td>35</td>\n",
       "      <td>18</td>\n",
       "      <td>0</td>\n",
       "      <td>...</td>\n",
       "      <td>2021-05-15T17:30:57Z</td>\n",
       "      <td>2021-05-15T17:31:06Z</td>\n",
       "      <td>2021-05-15T17:30:49Z</td>\n",
       "      <td>2021-05-15T17:31:45Z</td>\n",
       "      <td>2021-05-15T17:31:48Z</td>\n",
       "      <td>2021-05-15T17:31:49Z</td>\n",
       "      <td>2021-05-15T17:32:09Z</td>\n",
       "      <td>2021-05-15T17:32:12Z</td>\n",
       "      <td>2021-05-15T17:32:16Z</td>\n",
       "      <td>2021-05-15T17:32:44Z</td>\n",
       "    </tr>\n",
       "    <tr>\n",
       "      <th>2</th>\n",
       "      <td>1217</td>\n",
       "      <td>2107</td>\n",
       "      <td>de</td>\n",
       "      <td>{\"os\":\"iOS 14.5.1\",\"name\":\"UNITI 1.0\",\"device\"...</td>\n",
       "      <td>2021-05-16T17:31:08Z</td>\n",
       "      <td>2021-05-16T17:31:08Z</td>\n",
       "      <td>2021-05-16T17:31:08Z</td>\n",
       "      <td>37</td>\n",
       "      <td>31</td>\n",
       "      <td>0</td>\n",
       "      <td>...</td>\n",
       "      <td>2021-05-16T17:30:09Z</td>\n",
       "      <td>2021-05-16T17:30:13Z</td>\n",
       "      <td>2021-05-16T17:30:15Z</td>\n",
       "      <td>2021-05-16T17:30:20Z</td>\n",
       "      <td>2021-05-16T17:30:25Z</td>\n",
       "      <td>2021-05-16T17:30:28Z</td>\n",
       "      <td>2021-05-16T17:30:33Z</td>\n",
       "      <td>2021-05-16T17:30:36Z</td>\n",
       "      <td>2021-05-16T17:30:39Z</td>\n",
       "      <td>2021-05-16T17:31:00Z</td>\n",
       "    </tr>\n",
       "    <tr>\n",
       "      <th>3</th>\n",
       "      <td>1298</td>\n",
       "      <td>2107</td>\n",
       "      <td>de</td>\n",
       "      <td>{\"os\":\"iOS 14.5.1\",\"device\":\"iPhone\",\"name\":\"U...</td>\n",
       "      <td>2021-05-17T19:12:20Z</td>\n",
       "      <td>2021-05-17T19:12:21Z</td>\n",
       "      <td>2021-05-17T19:12:21Z</td>\n",
       "      <td>26</td>\n",
       "      <td>22</td>\n",
       "      <td>0</td>\n",
       "      <td>...</td>\n",
       "      <td>2021-05-17T19:11:30Z</td>\n",
       "      <td>2021-05-17T19:11:34Z</td>\n",
       "      <td>2021-05-17T19:11:37Z</td>\n",
       "      <td>2021-05-17T19:11:43Z</td>\n",
       "      <td>2021-05-17T19:11:46Z</td>\n",
       "      <td>2021-05-17T19:11:49Z</td>\n",
       "      <td>2021-05-17T19:11:52Z</td>\n",
       "      <td>2021-05-17T19:11:56Z</td>\n",
       "      <td>2021-05-17T19:11:57Z</td>\n",
       "      <td>2021-05-17T19:12:11Z</td>\n",
       "    </tr>\n",
       "    <tr>\n",
       "      <th>4</th>\n",
       "      <td>1299</td>\n",
       "      <td>2107</td>\n",
       "      <td>de</td>\n",
       "      <td>{\"os\":\"iOS 14.5.1\",\"device\":\"iPhone\",\"name\":\"U...</td>\n",
       "      <td>2021-05-17T19:13:10Z</td>\n",
       "      <td>2021-05-17T19:13:10Z</td>\n",
       "      <td>2021-05-17T19:13:10Z</td>\n",
       "      <td>22</td>\n",
       "      <td>28</td>\n",
       "      <td>0</td>\n",
       "      <td>...</td>\n",
       "      <td>2021-05-17T19:12:38Z</td>\n",
       "      <td>2021-05-17T19:12:47Z</td>\n",
       "      <td>2021-05-17T19:12:48Z</td>\n",
       "      <td>2021-05-17T19:12:52Z</td>\n",
       "      <td>2021-05-17T19:12:54Z</td>\n",
       "      <td>2021-05-17T19:12:57Z</td>\n",
       "      <td>2021-05-17T19:13:00Z</td>\n",
       "      <td>2021-05-17T19:13:02Z</td>\n",
       "      <td>2021-05-17T19:13:03Z</td>\n",
       "      <td>NaN</td>\n",
       "    </tr>\n",
       "  </tbody>\n",
       "</table>\n",
       "<p>5 rows × 29 columns</p>\n",
       "</div>"
      ],
      "text/plain": [
       "     id  user_id locale                                             client  \\\n",
       "0  1104     2107     en  {\"name\":\"UNITI 1.0\",\"os\":\"iOS 14.5.1\",\"device\"...   \n",
       "1  1162     2107     de  {\"os\":\"iOS 14.5.1\",\"name\":\"UNITI 1.0\",\"device\"...   \n",
       "2  1217     2107     de  {\"os\":\"iOS 14.5.1\",\"name\":\"UNITI 1.0\",\"device\"...   \n",
       "3  1298     2107     de  {\"os\":\"iOS 14.5.1\",\"device\":\"iPhone\",\"name\":\"U...   \n",
       "4  1299     2107     de  {\"os\":\"iOS 14.5.1\",\"device\":\"iPhone\",\"name\":\"U...   \n",
       "\n",
       "           collected_at            created_at            updated_at  \\\n",
       "0  2021-05-14T15:48:21Z  2021-05-14T15:48:21Z  2021-05-14T15:48:21Z   \n",
       "1  2021-05-15T17:32:52Z  2021-05-15T17:32:53Z  2021-05-15T17:32:53Z   \n",
       "2  2021-05-16T17:31:08Z  2021-05-16T17:31:08Z  2021-05-16T17:31:08Z   \n",
       "3  2021-05-17T19:12:20Z  2021-05-17T19:12:21Z  2021-05-17T19:12:21Z   \n",
       "4  2021-05-17T19:13:10Z  2021-05-17T19:13:10Z  2021-05-17T19:13:10Z   \n",
       "\n",
       "   value_loudness  value_cumberness  value_jawbone  ...  \\\n",
       "0              35                 3              0  ...   \n",
       "1              35                18              0  ...   \n",
       "2              37                31              0  ...   \n",
       "3              26                22              0  ...   \n",
       "4              22                28              0  ...   \n",
       "\n",
       "   collected_at_cumberness  collected_at_jawbone     collected_at_neck  \\\n",
       "0     2021-05-14T15:45:00Z  2021-05-14T15:46:03Z  2021-05-14T15:45:27Z   \n",
       "1     2021-05-15T17:30:57Z  2021-05-15T17:31:06Z  2021-05-15T17:30:49Z   \n",
       "2     2021-05-16T17:30:09Z  2021-05-16T17:30:13Z  2021-05-16T17:30:15Z   \n",
       "3     2021-05-17T19:11:30Z  2021-05-17T19:11:34Z  2021-05-17T19:11:37Z   \n",
       "4     2021-05-17T19:12:38Z  2021-05-17T19:12:47Z  2021-05-17T19:12:48Z   \n",
       "\n",
       "   collected_at_tin_day  collected_at_tin_cumber  collected_at_tin_max  \\\n",
       "0  2021-05-14T15:46:12Z     2021-05-14T15:46:18Z  2021-05-14T15:46:24Z   \n",
       "1  2021-05-15T17:31:45Z     2021-05-15T17:31:48Z  2021-05-15T17:31:49Z   \n",
       "2  2021-05-16T17:30:20Z     2021-05-16T17:30:25Z  2021-05-16T17:30:28Z   \n",
       "3  2021-05-17T19:11:43Z     2021-05-17T19:11:46Z  2021-05-17T19:11:49Z   \n",
       "4  2021-05-17T19:12:52Z     2021-05-17T19:12:54Z  2021-05-17T19:12:57Z   \n",
       "\n",
       "   collected_at_movement   collected_at_stress  collected_at_emotion  \\\n",
       "0   2021-05-14T15:46:41Z  2021-05-14T15:46:44Z  2021-05-14T15:46:56Z   \n",
       "1   2021-05-15T17:32:09Z  2021-05-15T17:32:12Z  2021-05-15T17:32:16Z   \n",
       "2   2021-05-16T17:30:33Z  2021-05-16T17:30:36Z  2021-05-16T17:30:39Z   \n",
       "3   2021-05-17T19:11:52Z  2021-05-17T19:11:56Z  2021-05-17T19:11:57Z   \n",
       "4   2021-05-17T19:13:00Z  2021-05-17T19:13:02Z  2021-05-17T19:13:03Z   \n",
       "\n",
       "  collected_at_diary_q11  \n",
       "0   2021-05-14T15:48:02Z  \n",
       "1   2021-05-15T17:32:44Z  \n",
       "2   2021-05-16T17:31:00Z  \n",
       "3   2021-05-17T19:12:11Z  \n",
       "4                    NaN  \n",
       "\n",
       "[5 rows x 29 columns]"
      ]
     },
     "execution_count": 7,
     "metadata": {},
     "output_type": "execute_result"
    }
   ],
   "source": [
    "# Gruppieren des DataFrame nach user_id und Sortieren nach collected_at\n",
    "df_sorted = group_and_sort(df)\n",
    "\n",
    "# Speichern des gruppierten und sortierten DataFrames in einer neuen CSV-Datei\n",
    "df_sorted.to_csv(\"C:/Users/mauri/PycharmProjects/Softwareprojekt/data/dataset_sorted.csv\", index=False)\n",
    "df_sorted.head()"
   ]
  },
  {
   "cell_type": "markdown",
   "id": "b8cb8615",
   "metadata": {},
   "source": [
    "### Prediction of a users adherence behaviour\n",
    "In dieser Task geht es darum die Adherence eines neuen Nutzers für einen bestimmten Tag y in der Zukunft vorherzusagen. Dies geschieht mithilfe der Daten des neuen Nutzers und mithilfe des Datensatzes. Zuerst lesen wir den Datensatz unseres Nutzers ein. Außerdem bringen wir den Datensatz in eine geeignete Form, indem wir alle Spalten ohne Mehrwert rauslöschen und alle möglichen Werte numerisch machen."
   ]
  },
  {
   "cell_type": "code",
   "execution_count": 16,
   "id": "2aaafa0e",
   "metadata": {},
   "outputs": [
    {
     "name": "stdout",
     "output_type": "stream",
     "text": [
      "<class 'pandas.core.frame.DataFrame'>\n",
      "RangeIndex: 17597 entries, 0 to 17596\n",
      "Data columns (total 22 columns):\n",
      " #   Column               Non-Null Count  Dtype              \n",
      "---  ------               --------------  -----              \n",
      " 0   id                   17597 non-null  int64              \n",
      " 1   user_id              17597 non-null  int64              \n",
      " 2   locale               17597 non-null  int64              \n",
      " 3   client               17597 non-null  int64              \n",
      " 4   collected_at         17597 non-null  datetime64[ns, UTC]\n",
      " 5   value_loudness       17597 non-null  int64              \n",
      " 6   value_cumberness     17597 non-null  int64              \n",
      " 7   value_jawbone        17597 non-null  int64              \n",
      " 8   value_neck           17597 non-null  int64              \n",
      " 9   value_tin_day        17597 non-null  int64              \n",
      " 10  value_tin_cumber     17597 non-null  int64              \n",
      " 11  value_tin_max        17597 non-null  int64              \n",
      " 12  value_movement       17597 non-null  int64              \n",
      " 13  value_stress         17597 non-null  int64              \n",
      " 14  value_emotion        17597 non-null  int64              \n",
      " 15  value_diary_q11      17597 non-null  int64              \n",
      " 16  collected_at_year    17597 non-null  int64              \n",
      " 17  collected_at_month   17597 non-null  int64              \n",
      " 18  collected_at_day     17597 non-null  int64              \n",
      " 19  collected_at_hour    17597 non-null  int64              \n",
      " 20  collected_at_minute  17597 non-null  int64              \n",
      " 21  day                  17597 non-null  int32              \n",
      "dtypes: datetime64[ns, UTC](1), int32(1), int64(20)\n",
      "memory usage: 2.9 MB\n"
     ]
    }
   ],
   "source": [
    "new_user = 'C:/Users/mauri/PycharmProjects/Softwareprojekt/data/new_user.csv'\n",
    "df_newuser = pd.read_csv(new_user)\n",
    "\n",
    "df_prediction = data_preparation(df)\n",
    "df_prediction.info()"
   ]
  },
  {
   "cell_type": "markdown",
   "id": "921ee593",
   "metadata": {},
   "source": [
    "#### Step 1\n",
    "Im ersten Schritt suchen wir den Datensatz nach den k-ähnlichsten Personen zu unserem neuen Nutzer ab. Dabei suchen wir nach ähnlichen Adherence-Levels. Jeder Nutzer bekommt dann noch das Label \"day_y_adherent\", welches mit den Werten 1 (true) oder 0 (false) belegt werden kann und angibt, ob der Nutzer an Tag y adherent ist."
   ]
  },
  {
   "cell_type": "code",
   "execution_count": 6,
   "id": "7adb1678",
   "metadata": {
    "scrolled": true
   },
   "outputs": [
    {
     "name": "stdout",
     "output_type": "stream",
     "text": [
      "Die 5 ähnlichsten Nutzer sind:\n",
      "     user_id  adherence_level\n",
      "19    2107.0         0.863821\n",
      "237  40362.0         0.866667\n",
      "25   34242.0         0.859813\n",
      "68   40176.0         0.868132\n",
      "172  34131.0         0.858824\n"
     ]
    }
   ],
   "source": [
    "df_similarusers = find_similar_users(df_prediction, df_newuser, 5)\n",
    "\n",
    "day_y = 20\n",
    "df_similarusers = add_day_y_adherent(df_similarusers, day_y)"
   ]
  },
  {
   "cell_type": "markdown",
   "id": "8f203e37",
   "metadata": {},
   "source": [
    "#### Step 2\n",
    "Im zweiten Schritt trainieren wir einen SVM Klassifikator auf unseren ähnlichen Nutzern aus Step 1, der die Nutzer danach klassifiziert ob sie an Tag y adherent sind oder nicht."
   ]
  },
  {
   "cell_type": "code",
   "execution_count": 11,
   "id": "947e791b",
   "metadata": {},
   "outputs": [
    {
     "ename": "NameError",
     "evalue": "name 'svm_classification' is not defined",
     "output_type": "error",
     "traceback": [
      "\u001b[1;31m---------------------------------------------------------------------------\u001b[0m",
      "\u001b[1;31mNameError\u001b[0m                                 Traceback (most recent call last)",
      "Cell \u001b[1;32mIn[11], line 1\u001b[0m\n\u001b[1;32m----> 1\u001b[0m svm_classifier \u001b[38;5;241m=\u001b[39m \u001b[43msvm_classification\u001b[49m(df_similarusers)\n",
      "\u001b[1;31mNameError\u001b[0m: name 'svm_classification' is not defined"
     ]
    }
   ],
   "source": [
    "svm_classifier = svm_classification(df_similarusers)"
   ]
  },
  {
   "cell_type": "markdown",
   "id": "e6cd02e3",
   "metadata": {},
   "source": [
    "#### Step 3\n",
    "Im dritten Schritt wollen wir für unseren neuen Nutzer mithilfe unseren in Step 2 trainierten Klassifikators festlegen, ob er an Tag y adherent sein wird oder nicht."
   ]
  },
  {
   "cell_type": "code",
   "execution_count": null,
   "id": "7996eeae",
   "metadata": {},
   "outputs": [],
   "source": [
    "prediction(svm_classifier, df_newuser)"
   ]
  },
  {
   "cell_type": "markdown",
   "id": "254ef250",
   "metadata": {},
   "source": [
    "### Statistics\n",
    "In dieser Task geht es darum die Phasen und die Gruppen aus Task 1 und 2, sowie einige weitere Statistiken zu einem bestimmten Nutzer in einer Übersicht darzustellen."
   ]
  },
  {
   "cell_type": "code",
   "execution_count": 8,
   "id": "d864690e",
   "metadata": {},
   "outputs": [
    {
     "data": {
      "image/png": "[encoded data removed]",
      "text/plain": [
       "<Figure size 1200x400 with 1 Axes>"
      ]
     },
     "metadata": {},
     "output_type": "display_data"
    }
   ],
   "source": [
    "user_id = 2107\n",
    "show_user_timeline(df_sorted, user_id)"
   ]
  },
  {
   "cell_type": "markdown",
   "id": "9095d29f",
   "metadata": {},
   "source": [
    "# Tests"
   ]
  },
  {
   "cell_type": "code",
   "execution_count": 23,
   "id": "ad54d089",
   "metadata": {},
   "outputs": [
    {
     "data": {
      "image/png": "[encoded data removed]",
      "text/plain": [
       "<Figure size 1200x400 with 1 Axes>"
      ]
     },
     "metadata": {},
     "output_type": "display_data"
    }
   ],
   "source": [
    "# Beispiel-Array mit 500 zufälligen Werten von 0 und 1\n",
    "array = np.random.randint(2, size=500)\n",
    "\n",
    "# X-Achse: Indizes der Elemente im Array\n",
    "x = np.arange(len(array))\n",
    "\n",
    "# Figure-Objekt erstellen und Größe festlegen\n",
    "fig, ax = plt.subplots(figsize=(12, 4))\n",
    "\n",
    "# Scatter Plot erstellen\n",
    "ax.scatter(x, np.zeros_like(array), c=array, cmap='binary', marker='o')\n",
    "\n",
    "# Achsentitel und Diagrammtitel festlegen\n",
    "ax.set_xlabel('Days')\n",
    "ax.set_ylabel('Adherence')\n",
    "ax.set_title('Users Timeline')\n",
    "\n",
    "# x-Achse beschriften\n",
    "step = len(x) // 9\n",
    "x_ticks = np.arange(0, len(x), step)\n",
    "x_labels = np.arange(0, len(x), step)\n",
    "ax.set_xticks(x_ticks)\n",
    "ax.set_xticklabels(x_labels)\n",
    "\n",
    "# Achsenbeschriftungen ausblenden\n",
    "ax.set_yticks([])\n",
    "\n",
    "# Legende hinzufügen\n",
    "legend_elements = [\n",
    "    plt.Line2D([0], [0], marker='o', color='lightgrey', markerfacecolor='k', markersize=10, label='adherent'),\n",
    "    plt.Line2D([0], [0], marker='o', color='lightgrey', markerfacecolor='w', markersize=10, label='not adherent')]\n",
    "plt.legend(handles=legend_elements, facecolor='lightgrey')\n",
    "\n",
    "# Diagramm anzeigen\n",
    "plt.show()"
   ]
  }
 ],
 "metadata": {
  "kernelspec": {
   "display_name": "Python 3 (ipykernel)",
   "language": "python",
   "name": "python3"
  },
  "language_info": {
   "codemirror_mode": {
    "name": "ipython",
    "version": 3
   },
   "file_extension": ".py",
   "mimetype": "text/x-python",
   "name": "python",
   "nbconvert_exporter": "python",
   "pygments_lexer": "ipython3",
   "version": "3.9.16"
  }
 },
 "nbformat": 4,
 "nbformat_minor": 5
}
