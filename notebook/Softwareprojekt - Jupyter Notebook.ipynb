{
 "cells": [
  {
   "cell_type": "markdown",
   "id": "97e913d6",
   "metadata": {},
   "source": [
    "# <center> Adherence in a RCT mHealth dataset </center>"
   ]
  },
  {
   "cell_type": "markdown",
   "id": "609cdd02",
   "metadata": {},
   "source": [
    "### Introduction\n",
    "Dieses Notebook stellt verschiedene Algorithmen zur Analyse des Adherence Verhaltens von Personen aus einem gegebenen Datensatz zur Verfügung."
   ]
  },
  {
   "cell_type": "markdown",
   "id": "0061ca43",
   "metadata": {},
   "source": [
    "### Imports\n",
    "Damit wir alle benötigten Algorithmen und Funktionen auch aufrufen können, importieren wir zunächst alle Python Dateien, in denen unser Code geschrieben steht."
   ]
  },
  {
   "cell_type": "code",
   "execution_count": 1,
   "id": "89042996",
   "metadata": {
    "ExecuteTime": {
     "end_time": "2023-07-10T18:47:31.788297700Z",
     "start_time": "2023-07-10T18:47:30.776464800Z"
    },
    "pycharm": {
     "is_executing": true
    }
   },
   "outputs": [],
   "source": [
    "import os.path\n",
    "import sys\n",
    "sys.path.insert(0, os.path.normpath(os.getcwd() + os.sep + os.pardir))\n",
    "sys.path.insert(0, os.path.normpath(os.getcwd() + os.sep + os.pardir + os.sep + \"data\"))\n",
    "sys.path.insert(0, os.path.normpath(os.getcwd() + os.sep + os.pardir + os.sep + \"util\"))\n",
    "sys.path.insert(0, os.path.normpath(os.getcwd() + os.sep + os.pardir + os.sep + \"notebook\"))\n",
    "\n",
    "\n",
    "from util import helper as hlp\n",
    "from util import setup as set\n",
    "from util import task1_phases as pha\n",
    "from util import task2_groups as grp\n",
    "from util import task3_prediction as pred\n",
    "from util import task4_statistics as stat\n",
    "from util import task5_adherence_level as lev\n",
    "\n",
    "import pandas as pd\n",
    "import matplotlib.pylab as plt\n",
    "pd.options.mode.chained_assignment = None  # default='warn'\n",
    "import warnings\n",
    "\n",
    "# FutureWarning-Warnungen ignorieren\n",
    "warnings.filterwarnings(\"ignore\", category=FutureWarning)"
   ]
  },
  {
   "cell_type": "markdown",
   "id": "6adb2fee",
   "metadata": {},
   "source": [
    "### Read in data\n",
    "Zuerst lesen wir den Datensatz als pandas DataFrame ein. Der Datensatz muss in einem CSV-Format vorliegen. Der Name der Datei muss dafür vorher in der Datei setup.py angegeben werden (Direkt nach s_file_name = )."
   ]
  },
  {
   "cell_type": "code",
   "execution_count": 2,
   "id": "1e4302ef",
   "metadata": {
    "ExecuteTime": {
     "end_time": "2023-06-30T13:26:37.635920Z",
     "start_time": "2023-06-30T13:26:37.094440Z"
    }
   },
   "outputs": [],
   "source": [
    "# Suchen des Pfades in dem der Datensatz gespeichert ist. Der Datensatz wird anschließen in ein Panda Dataframe konvertiert\n",
    "dataset = hlp.find_path(set.s_file_name)"
   ]
  },
  {
   "cell_type": "markdown",
   "id": "da21b57f",
   "metadata": {},
   "source": [
    "### Data Preparation\n",
    "Um mit dem Datensatz besser arbeiten zu können müssen wir diesen zunächst etwas anpassen. Dafür werden alle unnötigen Spalten aus dem DataFrame entfernt. Außerdem gruppieren wir alle user_ids, sodass die Daten eines Nutzers alle hintereinander stehen und nicht quer verteilt sind und sortieren die Daten nach Datum, sodass sie auch zeitlich richtig sortiert sind. Es wird zudem noch das Attribut day hinzugefügt, welches den Tag, ab dem ältesten Datum für einen Nutzer angibt."
   ]
  },
  {
   "cell_type": "code",
   "execution_count": 3,
   "id": "5c67c5d4",
   "metadata": {},
   "outputs": [
    {
     "data": {
      "text/html": [
       "<div>\n",
       "<style scoped>\n",
       "    .dataframe tbody tr th:only-of-type {\n",
       "        vertical-align: middle;\n",
       "    }\n",
       "\n",
       "    .dataframe tbody tr th {\n",
       "        vertical-align: top;\n",
       "    }\n",
       "\n",
       "    .dataframe thead th {\n",
       "        text-align: right;\n",
       "    }\n",
       "</style>\n",
       "<table border=\"1\" class=\"dataframe\">\n",
       "  <thead>\n",
       "    <tr style=\"text-align: right;\">\n",
       "      <th></th>\n",
       "      <th>id</th>\n",
       "      <th>user_id</th>\n",
       "      <th>locale</th>\n",
       "      <th>client</th>\n",
       "      <th>collected_at</th>\n",
       "      <th>value_loudness</th>\n",
       "      <th>value_cumberness</th>\n",
       "      <th>value_jawbone</th>\n",
       "      <th>value_neck</th>\n",
       "      <th>value_tin_day</th>\n",
       "      <th>value_tin_cumber</th>\n",
       "      <th>value_tin_max</th>\n",
       "      <th>value_movement</th>\n",
       "      <th>value_stress</th>\n",
       "      <th>value_emotion</th>\n",
       "      <th>value_diary_q11</th>\n",
       "      <th>collected_at_year</th>\n",
       "      <th>collected_at_month</th>\n",
       "      <th>collected_at_time</th>\n",
       "      <th>day</th>\n",
       "    </tr>\n",
       "  </thead>\n",
       "  <tbody>\n",
       "    <tr>\n",
       "      <th>0</th>\n",
       "      <td>4</td>\n",
       "      <td>101</td>\n",
       "      <td>en</td>\n",
       "      <td>{\"device\":\"iPhone\",\"os\":\"iOS 14.3\",\"name\":\"UNI...</td>\n",
       "      <td>2021-04-14 08:21:51+00:00</td>\n",
       "      <td>75</td>\n",
       "      <td>79</td>\n",
       "      <td>82</td>\n",
       "      <td>71</td>\n",
       "      <td>67</td>\n",
       "      <td>82</td>\n",
       "      <td>78</td>\n",
       "      <td>78</td>\n",
       "      <td>71</td>\n",
       "      <td>67</td>\n",
       "      <td>0</td>\n",
       "      <td>2021</td>\n",
       "      <td>4</td>\n",
       "      <td>501</td>\n",
       "      <td>1</td>\n",
       "    </tr>\n",
       "    <tr>\n",
       "      <th>1</th>\n",
       "      <td>5</td>\n",
       "      <td>101</td>\n",
       "      <td>en</td>\n",
       "      <td>{\"os\":\"iOS 14.3\",\"device\":\"iPhone\",\"name\":\"UNI...</td>\n",
       "      <td>2021-04-14 08:23:12+00:00</td>\n",
       "      <td>33</td>\n",
       "      <td>77</td>\n",
       "      <td>76</td>\n",
       "      <td>64</td>\n",
       "      <td>21</td>\n",
       "      <td>73</td>\n",
       "      <td>65</td>\n",
       "      <td>30</td>\n",
       "      <td>92</td>\n",
       "      <td>67</td>\n",
       "      <td>1</td>\n",
       "      <td>2021</td>\n",
       "      <td>4</td>\n",
       "      <td>503</td>\n",
       "      <td>1</td>\n",
       "    </tr>\n",
       "    <tr>\n",
       "      <th>2</th>\n",
       "      <td>9489</td>\n",
       "      <td>101</td>\n",
       "      <td>de</td>\n",
       "      <td>{\"device\":\"iPhone\",\"os\":\"iOS 14.6\",\"name\":\"UNI...</td>\n",
       "      <td>2021-07-19 13:20:30+00:00</td>\n",
       "      <td>24</td>\n",
       "      <td>73</td>\n",
       "      <td>83</td>\n",
       "      <td>53</td>\n",
       "      <td>20</td>\n",
       "      <td>85</td>\n",
       "      <td>57</td>\n",
       "      <td>25</td>\n",
       "      <td>73</td>\n",
       "      <td>82</td>\n",
       "      <td>0</td>\n",
       "      <td>2021</td>\n",
       "      <td>7</td>\n",
       "      <td>800</td>\n",
       "      <td>97</td>\n",
       "    </tr>\n",
       "    <tr>\n",
       "      <th>3</th>\n",
       "      <td>9491</td>\n",
       "      <td>101</td>\n",
       "      <td>en</td>\n",
       "      <td>{\"device\":\"iPhone\",\"os\":\"iOS 14.5\",\"name\":\"UNI...</td>\n",
       "      <td>2021-07-19 13:27:01+00:00</td>\n",
       "      <td>35</td>\n",
       "      <td>28</td>\n",
       "      <td>23</td>\n",
       "      <td>20</td>\n",
       "      <td>50</td>\n",
       "      <td>37</td>\n",
       "      <td>32</td>\n",
       "      <td>27</td>\n",
       "      <td>44</td>\n",
       "      <td>45</td>\n",
       "      <td>0</td>\n",
       "      <td>2021</td>\n",
       "      <td>7</td>\n",
       "      <td>807</td>\n",
       "      <td>97</td>\n",
       "    </tr>\n",
       "    <tr>\n",
       "      <th>4</th>\n",
       "      <td>9515</td>\n",
       "      <td>101</td>\n",
       "      <td>el</td>\n",
       "      <td>{\"os\":\"iOS 14.6\",\"name\":\"UNITI 1.0.2\",\"device\"...</td>\n",
       "      <td>2021-07-19 14:59:32+00:00</td>\n",
       "      <td>23</td>\n",
       "      <td>75</td>\n",
       "      <td>28</td>\n",
       "      <td>69</td>\n",
       "      <td>16</td>\n",
       "      <td>87</td>\n",
       "      <td>28</td>\n",
       "      <td>81</td>\n",
       "      <td>28</td>\n",
       "      <td>77</td>\n",
       "      <td>1</td>\n",
       "      <td>2021</td>\n",
       "      <td>7</td>\n",
       "      <td>899</td>\n",
       "      <td>97</td>\n",
       "    </tr>\n",
       "  </tbody>\n",
       "</table>\n",
       "</div>"
      ],
      "text/plain": [
       "     id  user_id locale                                             client  \\\n",
       "0     4      101     en  {\"device\":\"iPhone\",\"os\":\"iOS 14.3\",\"name\":\"UNI...   \n",
       "1     5      101     en  {\"os\":\"iOS 14.3\",\"device\":\"iPhone\",\"name\":\"UNI...   \n",
       "2  9489      101     de  {\"device\":\"iPhone\",\"os\":\"iOS 14.6\",\"name\":\"UNI...   \n",
       "3  9491      101     en  {\"device\":\"iPhone\",\"os\":\"iOS 14.5\",\"name\":\"UNI...   \n",
       "4  9515      101     el  {\"os\":\"iOS 14.6\",\"name\":\"UNITI 1.0.2\",\"device\"...   \n",
       "\n",
       "               collected_at  value_loudness  value_cumberness  value_jawbone  \\\n",
       "0 2021-04-14 08:21:51+00:00              75                79             82   \n",
       "1 2021-04-14 08:23:12+00:00              33                77             76   \n",
       "2 2021-07-19 13:20:30+00:00              24                73             83   \n",
       "3 2021-07-19 13:27:01+00:00              35                28             23   \n",
       "4 2021-07-19 14:59:32+00:00              23                75             28   \n",
       "\n",
       "   value_neck  value_tin_day  value_tin_cumber  value_tin_max  value_movement  \\\n",
       "0          71             67                82             78              78   \n",
       "1          64             21                73             65              30   \n",
       "2          53             20                85             57              25   \n",
       "3          20             50                37             32              27   \n",
       "4          69             16                87             28              81   \n",
       "\n",
       "   value_stress  value_emotion  value_diary_q11  collected_at_year  \\\n",
       "0            71             67                0               2021   \n",
       "1            92             67                1               2021   \n",
       "2            73             82                0               2021   \n",
       "3            44             45                0               2021   \n",
       "4            28             77                1               2021   \n",
       "\n",
       "   collected_at_month  collected_at_time  day  \n",
       "0                   4                501    1  \n",
       "1                   4                503    1  \n",
       "2                   7                800   97  \n",
       "3                   7                807   97  \n",
       "4                   7                899   97  "
      ]
     },
     "execution_count": 3,
     "metadata": {},
     "output_type": "execute_result"
    }
   ],
   "source": [
    "# Gruppieren des DataFrame nach user_id und Sortieren nach collected_at\n",
    "df_sorted = hlp.data_preparation(dataset)\n",
    "df_sorted.head()"
   ]
  },
  {
   "cell_type": "markdown",
   "id": "6f78a1a7",
   "metadata": {},
   "source": [
    "Im Folgenden filtern wir einen Testnutzer aus unserem Datensatz heraus, der anstelle eines echten neuen Nutzers benutzt wird. Alternativ kann natürlich auch ein echter Nutzer eingesetzt werden. Dafür muss der Dateiname in der Setup-Datei hinter s_file_newuser geändert werden."
   ]
  },
  {
   "cell_type": "code",
   "execution_count": 5,
   "id": "060a6633",
   "metadata": {},
   "outputs": [],
   "source": [
    "# Suchen des Pfades vom neuen Nutzers\n",
    "df_newuser = hlp.find_path(set.s_file_newuser)\n",
    "\n",
    "# Entfernen des Nutzers aus dem Datensatz (falls es er im Datensatz vorhanden ist)\n",
    "df_sorted = hlp.delete_test_user(df_sorted, df_newuser.iloc[0]['user_id'])"
   ]
  },
  {
   "cell_type": "markdown",
   "id": "3aedb60a",
   "metadata": {},
   "source": [
    "### Phases\n",
    "Sie können sich die den Adherence Verlauf einer einzelnen Person ausgeben lassen um direkt zu erkennen wie sich der Nutzer verhalten hat. Eine User Timeline ist die Bezeichnung für eine binäre Liste für die folgendes gilt: 0 = Der Nutzer hat die App an Tag X nicht genutzt, 1 = Der Nutzer hat die App an Tag X genutzt. Der erste Eintrag der Liste steht für den ersten Tag der Nutzung der App, der zweite Eintrag für den zweiten Tag, usw."
   ]
  },
  {
   "cell_type": "code",
   "execution_count": 6,
   "id": "0854e3cd",
   "metadata": {},
   "outputs": [],
   "source": [
    "user40176_timeline = pha.get_user_timeline(df_sorted, 40176)"
   ]
  },
  {
   "cell_type": "markdown",
   "id": "49d7dec0",
   "metadata": {},
   "source": [
    "Möchten Sie mehr als einen User auswerten, brauchen Sie zuerst eine Liste mit allen UserIDs aus ihrem Datensatz. Diese UserIDs bekommen Sie mit der  Methode 'get_user_ids'."
   ]
  },
  {
   "cell_type": "code",
   "execution_count": 7,
   "id": "0fa621d4",
   "metadata": {},
   "outputs": [],
   "source": [
    "all_userids = hlp.get_user_ids(df_sorted)"
   ]
  },
  {
   "cell_type": "markdown",
   "id": "5928900b",
   "metadata": {},
   "source": [
    "Um zu den Verlauf der Nutzung der App zu analysieren, müssen Sie zuerst wissen an welchen Tagen die Nutzung der App besonders hoch oder niedrig war. Dazu können Sie sich mit der Methode 'get_all_adherence_percentage' die prozentuale Nutzung der App ausgeben lassen. Zuvor biete es sich an einmal die Methode 'get_all_user_timelines' auszurufen um alle User Timelines"
   ]
  },
  {
   "cell_type": "code",
   "execution_count": 8,
   "id": "b1ee75d5",
   "metadata": {
    "pycharm": {
     "is_executing": true
    }
   },
   "outputs": [
    {
     "data": {
      "image/png": "[encoded data removed]",
      "text/plain": [
       "<Figure size 640x480 with 1 Axes>"
      ]
     },
     "metadata": {},
     "output_type": "display_data"
    }
   ],
   "source": [
    "all_timelines = pha.get_all_user_timelines(df_sorted)\n",
    "\n",
    "adherence_percentages = pha.get_all_adherence_percentage(all_timelines)\n",
    "\n",
    "plt.plot(adherence_percentages)\n",
    "plt.show()"
   ]
  },
  {
   "cell_type": "markdown",
   "id": "66686e1c",
   "metadata": {},
   "source": [
    "Nun sind alle Voraussetzungen erfüllt um den Datensatz auf das Vorhandensein von Phasen zu untersuchen. Dafür nutzt dieses Paket drei verschiedene CPD-Algorithmen zur aus dem Ruptures package (CPD = Change point detection). Die gefundenen Change Points der drei Algorithmen geben an, in welche Phasen sich der zeitliche Verlauf unterteilt.\n",
    "1. Binary Segmentation\n",
    "2. Bottom-Up Segmentation\n",
    "3. Window Segmentaion\n",
    "\n",
    "Bevor Sie die Algorithmen anwenden, müssen Sie angeben noch welchen Kriterien Sie Chane Points suchen.\n",
    "Wenn Sie eine feste Anzahl an Change Points suchen, müssen Sie folgende Einstellungen vornehmen:\n",
    "    s_cpd_mode: True = Feste Anzahl an Change Points\n",
    "    s_num_change_points: Anzahl der Change Points"
   ]
  },
  {
   "cell_type": "code",
   "execution_count": 9,
   "id": "d4904b9b",
   "metadata": {},
   "outputs": [],
   "source": [
    "set.s_cpd_mode = True\n",
    "set.s_num_change_points = 3"
   ]
  },
  {
   "cell_type": "markdown",
   "id": "4617d49a",
   "metadata": {},
   "source": [
    "Soll die Anzahl der Change Points dynamisch sein, sollten Sie einen Schwellenwert angeben und folgende Einstellungen vornehmen:\n",
    "    s_cpd_mode: False = Schwellenwert für die Bestimmung von Change Points\n",
    "    s_pen_change_points: Höhe des Schwellenwerts für die Bestimmung der Change Points"
   ]
  },
  {
   "cell_type": "code",
   "execution_count": 10,
   "id": "fa314bc0",
   "metadata": {},
   "outputs": [],
   "source": [
    "set.s_cpd_mode = False\n",
    "set.s_pen_change_points = 2"
   ]
  },
  {
   "cell_type": "markdown",
   "id": "9ad26328",
   "metadata": {},
   "source": [
    "Da nun die notwendigen Einstellungen vorgenommen wurden, können Sie die Phasen mit Hilfe der CPD-Algorithmen bestimmen."
   ]
  },
  {
   "cell_type": "code",
   "execution_count": 11,
   "id": "80a47519",
   "metadata": {
    "scrolled": true
   },
   "outputs": [
    {
     "name": "stdout",
     "output_type": "stream",
     "text": [
      "[94, 96, 98, 100]\n"
     ]
    }
   ],
   "source": [
    "result_binseg = pha.cpd_binseg(adherence_percentages)\n",
    "\n",
    "result_botupseg = pha.cpd_botupseg(adherence_percentages)\n",
    "\n",
    "result_windowseg = pha.cpd_windowseg(adherence_percentages)\n",
    "print(result_binseg)"
   ]
  },
  {
   "cell_type": "markdown",
   "id": "2e3a3882",
   "metadata": {},
   "source": [
    "## Groups\n",
    "Sie können sich aus dem Datensatz Patientengruppen mit ähnlichem Verhalten mittels Clustering identifizieren lassen. Dabei existieren verschiedene Möglichkeiten der Gruppierung. Darunter nach dem Adherence-Verhalten, dem Nutzungsverhalten oder eine Kombinierte Gruppierung beider Faktoren. Des weiteren besteht die Möglichkeit keine Gruppierung zu nutzen. Jedem Patienten wird somit seine Gruppenzugehörigkeit zugeordnet aufgrund der jeweiligen vom Nutzer getätigten Auswahl der Gruppierung."
   ]
  },
  {
   "cell_type": "code",
   "execution_count": 3,
   "id": "fc89057b",
   "metadata": {},
   "outputs": [
    {
     "ename": "NameError",
     "evalue": "name 'grp' is not defined",
     "output_type": "error",
     "traceback": [
      "\u001b[1;31m---------------------------------------------------------------------------\u001b[0m",
      "\u001b[1;31mNameError\u001b[0m                                 Traceback (most recent call last)",
      "Cell \u001b[1;32mIn[3], line 2\u001b[0m\n\u001b[0;32m      1\u001b[0m patient_id_2222 \u001b[38;5;241m=\u001b[39m \u001b[38;5;241m2222\u001b[39m\n\u001b[1;32m----> 2\u001b[0m cluster_timelines_patient2222 \u001b[38;5;241m=\u001b[39m \u001b[43mgrp\u001b[49m\u001b[38;5;241m.\u001b[39mcluster_timelines(df_sorted[df_sorted[\u001b[38;5;124m'\u001b[39m\u001b[38;5;124muser_id\u001b[39m\u001b[38;5;124m'\u001b[39m] \u001b[38;5;241m==\u001b[39m patient_id_2222])\n\u001b[0;32m      3\u001b[0m cluster_adherence_patient2222 \u001b[38;5;241m=\u001b[39m grp\u001b[38;5;241m.\u001b[39mcluster_adherence_levels(df_sorted[df_sorted[\u001b[38;5;124m'\u001b[39m\u001b[38;5;124muser_id\u001b[39m\u001b[38;5;124m'\u001b[39m] \u001b[38;5;241m==\u001b[39m patient_id_2222])\n\u001b[0;32m      4\u001b[0m cluster_note_timelines_patient2222 \u001b[38;5;241m=\u001b[39m grp\u001b[38;5;241m.\u001b[39mcluster_note_timelines(df_sorted[df_sorted[\u001b[38;5;124m'\u001b[39m\u001b[38;5;124muser_id\u001b[39m\u001b[38;5;124m'\u001b[39m] \u001b[38;5;241m==\u001b[39m patient_id_2222])\n",
      "\u001b[1;31mNameError\u001b[0m: name 'grp' is not defined"
     ]
    }
   ],
   "source": [
    "patient_id_2222 = 2222\n",
    "cluster_timelines_patient2222 = grp.cluster_timelines(df_sorted[df_sorted['user_id'] == patient_id_2222])\n",
    "cluster_adherence_patient2222 = grp.cluster_adherence_levels(df_sorted[df_sorted['user_id'] == patient_id_2222])\n",
    "cluster_note_timelines_patient2222 = grp.cluster_note_timelines(df_sorted[df_sorted['user_id'] == patient_id_2222])"
   ]
  },
  {
   "cell_type": "markdown",
   "id": "b8cb8615",
   "metadata": {},
   "source": [
    "### Prediction of a users adherence behaviour\n",
    "In dieser Task geht es darum die Adherence eines neuen Nutzers für einen bestimmten Tag y in der Zukunft vorherzusagen. Dies geschieht mithilfe der Daten des neuen Nutzers und mithilfe des Datensatzes."
   ]
  },
  {
   "cell_type": "markdown",
   "id": "c5edc9fc",
   "metadata": {},
   "source": [
    "#### Schritt 1\n",
    "Zuerst lesen wir den Datensatz unseres neuen Nutzers ein. Den Datensatz für die restlichen Nutzer haben wir schon in df_sorted gespeichert. In result_phases wird ein beliebiges Verfahren aus Task 1 für die verschiedenen Phasen im Datensatz gewählt und es wird für den neuen Nutzer festgelegt wie seine Adherence in den jeweiligen Phasen war (Adherence-percentages). Das Gleiche wird für alle anderen Nutzer im Datensatz gemacht."
   ]
  },
  {
   "cell_type": "code",
   "execution_count": 12,
   "id": "2aaafa0e",
   "metadata": {},
   "outputs": [
    {
     "name": "stdout",
     "output_type": "stream",
     "text": [
      "new users id: 2107\n",
      "new users length: 492 days\n",
      "new users phases: 5\n",
      "new users adherence percentage: [0.883, 1.0, 1.0, 1.0, 0.858]\n"
     ]
    }
   ],
   "source": [
    "# Auswahl des Verfahrens aus Task 1 für die Ermittlung der Phasen im Datensatz und die Einordnung des Nutzers in die Phasen\n",
    "result_phases = result_binseg\n",
    "\n",
    "# Speichere die Adherence in den einzelnen Phasen für den neuen Nutzer und alle vorhandenen Nutzer\n",
    "new_users_adherence = pred.get_newusers_adherence(df_newuser, result_phases)\n",
    "all_users_adherence = pred.get_allusers_adherence(df_sorted, result_phases)"
   ]
  },
  {
   "cell_type": "markdown",
   "id": "32b350f7",
   "metadata": {},
   "source": [
    "#### Schritt 2\n",
    "In Schritt 2 wird im Datensatz nach ähnlichen Nutzern anhand der Adherence gesucht. Dafür wird der Datensatz nach den k-ähnlichsten Nutzern nach users_adherence abgesucht und der ursprüngliche Datensatz (df_sorted) wird nach diesen Nutzern gefiltert (df_similar_users)."
   ]
  },
  {
   "cell_type": "code",
   "execution_count": 14,
   "id": "7bd69799",
   "metadata": {},
   "outputs": [
    {
     "name": "stdout",
     "output_type": "stream",
     "text": [
      "Die 10 ähnlichsten Nutzer sind:\n",
      "\n",
      "    user_id                         phases  similarity\n",
      "68     2192  [0.872, 1.0, 1.0, 1.0, 0.873]       0.019\n",
      "529   40203   [0.84, 1.0, 1.0, 1.0, 0.862]       0.043\n",
      "138    4136  [0.947, 1.0, 1.0, 1.0, 0.894]       0.073\n",
      "238    6484   [0.904, 1.0, 1.0, 1.0, 0.93]       0.075\n",
      "274    6636   [0.957, 1.0, 1.0, 1.0, 0.87]       0.075\n",
      "127    2461    [0.947, 1.0, 1.0, 1.0, 0.8]       0.086\n",
      "282    6680    [0.968, 1.0, 1.0, 1.0, 0.8]       0.103\n",
      "389   34325  [0.957, 1.0, 1.0, 1.0, 0.939]       0.110\n",
      "92     2297  [0.787, 1.0, 1.0, 1.0, 0.797]       0.114\n",
      "420   34470  [0.989, 1.0, 1.0, 1.0, 0.909]       0.118\n"
     ]
    }
   ],
   "source": [
    "# Variable für den knn-Algorithmus der nach den ähnlichsten Nutzern nach Adherence-Level sucht\n",
    "k = 10\n",
    "\n",
    "df_similarusers = pred.find_similar_users(df_sorted, new_users_adherence, all_users_adherence, k)"
   ]
  },
  {
   "cell_type": "markdown",
   "id": "bdad1f7a",
   "metadata": {},
   "source": [
    "#### Schritt 3\n",
    "Auf den ähnlichen Nutzern wird nun ein Modell trainiert, welches die Wahrscheinlichkeit für adherence an einem bestimmten Tag vorhersagen soll. Für dieses Modell wird eine k-fold-cross validation ausgeführt, um die Accuracy des Modells festzulegen. Diese dient als Maß zur Sicherheit der Korrektheit des Ergebnis. Zum Schluss wird mithilfe des Modells für alle Einträge unseres neuen Nutzers die Adherence-Wahrscheinlichkeit an Tag y berechnet. Diese setzt sich zu 50% aus dem Adherence Level des neuen Nutzers in der Phase, in der Tag y sich befindet, zusammen und zu 50% aus der Vorhersage des Modells. Diese Wahrscheinlichkeit wird letztendlich ausgegeben."
   ]
  },
  {
   "cell_type": "code",
   "execution_count": 17,
   "id": "68da91be",
   "metadata": {},
   "outputs": [
    {
     "data": {
      "text/plain": [
       "0"
      ]
     },
     "execution_count": 17,
     "metadata": {},
     "output_type": "execute_result"
    }
   ],
   "source": [
    "# Auswahl des Tag y, für den die Adherence-Wahrscheinlichkeit berechnet werden soll\n",
    "day_y = 50\n",
    "# Variable für die k-fold-cross-valdation, mit der die Accuracy des Modells getestet wird\n",
    "cv = 10\n",
    "# Wahl des ML-Modells: 0 --> für RandomForest, 1 --> für Support Vector Machines\n",
    "model = 0\n",
    "\n",
    "pred.classification_day(df_similarusers, df_newuser, day_y, cv, 0)"
   ]
  },
  {
   "cell_type": "markdown",
   "id": "254ef250",
   "metadata": {},
   "source": [
    "### Statistics\n",
    "In dieser Task geht es darum die Phasen und die Gruppen aus Task 1 und 2, sowie einige weitere Statistiken zu einem bestimmten Nutzer in einer Übersicht darzustellen."
   ]
  },
  {
   "cell_type": "markdown",
   "id": "2469f157",
   "metadata": {},
   "source": [
    "#### Users timeline\n",
    "Mithilfe dieser Funktion kann die timeline eines bestimmten Nutzers visualisiert werden. Dabei geben schwarze Punkte die Tage vor, in denen der Nutzer adherent war und weiße Punkte die Tage, in denen der Nutzer nicht adherent war."
   ]
  },
  {
   "cell_type": "code",
   "execution_count": 27,
   "id": "d864690e",
   "metadata": {},
   "outputs": [
    {
     "data": {
      "image/png": "[encoded data removed]",
      "text/plain": [
       "<Figure size 1200x400 with 1 Axes>"
      ]
     },
     "metadata": {},
     "output_type": "display_data"
    }
   ],
   "source": [
    "result_phases = [20, 41, 63, 84]\n",
    "user_id = 2107\n",
    "stat.show_user_timeline(df_sorted, user_id, result_phases, start_day=1, end_day=400, step=50)"
   ]
  },
  {
   "cell_type": "markdown",
   "id": "43640fac",
   "metadata": {},
   "source": [
    "#### Users statistics\n",
    "Mit dieser Funktion werden statistische Daten eines Nutzers aus dem Datensatz analysiert und ausgegeben."
   ]
  },
  {
   "cell_type": "code",
   "execution_count": 28,
   "id": "636089e6",
   "metadata": {},
   "outputs": [
    {
     "ename": "TypeError",
     "evalue": "'float' object cannot be interpreted as an integer",
     "output_type": "error",
     "traceback": [
      "\u001b[1;31m---------------------------------------------------------------------------\u001b[0m",
      "\u001b[1;31mTypeError\u001b[0m                                 Traceback (most recent call last)",
      "Cell \u001b[1;32mIn[28], line 1\u001b[0m\n\u001b[1;32m----> 1\u001b[0m users_stats \u001b[38;5;241m=\u001b[39m \u001b[43mstat\u001b[49m\u001b[38;5;241;43m.\u001b[39;49m\u001b[43mshow_user_statistics\u001b[49m\u001b[43m(\u001b[49m\u001b[43mdf_sorted\u001b[49m\u001b[43m,\u001b[49m\u001b[43m \u001b[49m\u001b[43muser_id\u001b[49m\u001b[43m)\u001b[49m\n\u001b[0;32m      2\u001b[0m users_stats\u001b[38;5;241m.\u001b[39mhead()\n",
      "File \u001b[1;32m~\\PycharmProjects\\Softwareprojekt\\util\\task4_statistics.py:67\u001b[0m, in \u001b[0;36mshow_user_statistics\u001b[1;34m(df_sorted, user_id)\u001b[0m\n\u001b[0;32m     64\u001b[0m user_data \u001b[38;5;241m=\u001b[39m df_sorted[df_sorted[s_table_key] \u001b[38;5;241m==\u001b[39m user_id]\n\u001b[0;32m     66\u001b[0m \u001b[38;5;66;03m# users timeline\u001b[39;00m\n\u001b[1;32m---> 67\u001b[0m timeline \u001b[38;5;241m=\u001b[39m \u001b[43mget_user_timeline\u001b[49m\u001b[43m(\u001b[49m\u001b[43muser_data\u001b[49m\u001b[43m,\u001b[49m\u001b[43m \u001b[49m\u001b[43muser_id\u001b[49m\u001b[43m)\u001b[49m\n\u001b[0;32m     69\u001b[0m \u001b[38;5;28;01mif\u001b[39;00m user_data\u001b[38;5;241m.\u001b[39mempty:\n\u001b[0;32m     70\u001b[0m     \u001b[38;5;28mprint\u001b[39m(\u001b[38;5;124m'\u001b[39m\u001b[38;5;124muser not found\u001b[39m\u001b[38;5;124m'\u001b[39m)\n",
      "File \u001b[1;32m~\\PycharmProjects\\Softwareprojekt\\util\\task1_phases.py:20\u001b[0m, in \u001b[0;36mget_user_timeline\u001b[1;34m(df_sorted, key_column, start_day, end_day, column)\u001b[0m\n\u001b[0;32m     18\u001b[0m \u001b[38;5;66;03m# Erstellen eines binären Arrays für die User Timeline\u001b[39;00m\n\u001b[0;32m     19\u001b[0m timeline \u001b[38;5;241m=\u001b[39m []\n\u001b[1;32m---> 20\u001b[0m \u001b[38;5;28;01mfor\u001b[39;00m day \u001b[38;5;129;01min\u001b[39;00m \u001b[38;5;28;43mrange\u001b[39;49m\u001b[43m(\u001b[49m\u001b[43mstart_day\u001b[49m\u001b[43m,\u001b[49m\u001b[43m \u001b[49m\u001b[43mend_day\u001b[49m\u001b[38;5;241;43m+\u001b[39;49m\u001b[38;5;241;43m1\u001b[39;49m\u001b[43m)\u001b[49m:\n\u001b[0;32m     21\u001b[0m     \u001b[38;5;28;01mif\u001b[39;00m day \u001b[38;5;129;01min\u001b[39;00m user_df[column]\u001b[38;5;241m.\u001b[39mtolist():\n\u001b[0;32m     22\u001b[0m         timeline\u001b[38;5;241m.\u001b[39mappend(\u001b[38;5;241m1\u001b[39m)\n",
      "\u001b[1;31mTypeError\u001b[0m: 'float' object cannot be interpreted as an integer"
     ]
    }
   ],
   "source": [
    "users_stats = stat.show_user_statistics(df_sorted, user_id)\n",
    "users_stats.head()"
   ]
  },
  {
   "cell_type": "markdown",
   "id": "d66773be",
   "metadata": {},
   "source": []
  },
  {
   "cell_type": "markdown",
   "id": "2e274be4",
   "metadata": {},
   "source": [
    "### Task 5 Adherence Level"
   ]
  },
  {
   "cell_type": "markdown",
   "id": "cdeb7077",
   "metadata": {},
   "source": [
    "#### Get User adherence percentage\n",
    "\n",
    "get_user_adh_percentage(df_sorted, user_id, start_day=None, end_day=None, column=s_table_sort_by):\n",
    "\n",
    "adh_percentage wird berechent aus der Anzahl an adherenten Tagen in der Timeline / Anzahl aller Tage in der Timeline\n",
    "start_day und end_day angeben wie in get_user_timeline() um adh_percentage in einer bestimmten timeline zu bekommen. Stanadard mäßig gesamte timeline.\n",
    "returned adh_percentage eines bestimmten Users in einer bestimmten Timeline als float Wert."
   ]
  },
  {
   "cell_type": "code",
   "execution_count": 12,
   "id": "de7a014c",
   "metadata": {
    "ExecuteTime": {
     "end_time": "2023-07-10T18:55:11.664014Z",
     "start_time": "2023-07-10T18:55:11.600027900Z"
    }
   },
   "outputs": [
    {
     "data": {
      "text/plain": [
       "0.0"
      ]
     },
     "execution_count": 12,
     "metadata": {},
     "output_type": "execute_result"
    }
   ],
   "source": [
    "id_user = 111\n",
    "\n",
    "start_day = 20\n",
    "end_day = 120\n",
    "column = set.s_table_sort_by\n",
    "\n",
    "lev.get_user_adh_percentage(df_sorted,id_user,start_day,end_day,column)"
   ]
  },
  {
   "cell_type": "markdown",
   "id": "8b3b342e",
   "metadata": {},
   "source": [
    "#### Get User adherence level\n",
    "\n",
    "get_user_adh_level(df_sorted, adh_level, full_adh_threshold=80, non_adh_threshold=40, start_day=None, end_day=None) :\n",
    "\n",
    "Labeled user nach ihren adh_level. 3 Gruppen: Fully adherent, partially adheren, non-adherent.\n",
    "Über adh_level gibt der User an, welche von den Gruppen er haben möchte.\n",
    "1 = non-adherent; 2 = partial; 3 = fully adherent. User kann auch angeben, welchen Threshold er haben möchte für die adh_level. Also bis wieviel Prozent adh_percentage ein\n",
    "User noch als fully_adherent gilt, oder bis wie viel Prozent adh_percentage ein User noch als non-adherent gilt. Standardmäßg ist der Threshold bei 80 Prozent für fully\n",
    "adherent und 40 Prozent bei non-adherent.\n",
    "Über start_day und end_day kann der user wieder angeben, in welcher bestimmten timeline er das adh_level bestimmen möchte, wobei wieder standardmäßig gesamte timeline\n",
    "benutzt wird.\n",
    "returned ein Array von Usern, welche die Eingabekriterien erfüllen. Also welches von den 3 adh_level und in welche Timeline und mit welcher Threshold."
   ]
  },
  {
   "cell_type": "code",
   "execution_count": null,
   "id": "4d7696f4",
   "metadata": {
    "ExecuteTime": {
     "end_time": "2023-07-10T19:03:02.232173600Z",
     "start_time": "2023-07-10T19:03:02.025214400Z"
    },
    "pycharm": {
     "is_executing": true
    }
   },
   "outputs": [],
   "source": [
    "adh_level = 1\n",
    "full_adh_threshold = 80\n",
    "non_adh_threshold = 40\n",
    "start_day = 20\n",
    "end_day = 120\n",
    "\n",
    "non_adherent = []\n",
    "non_adherent = lev.get_user_adh_level(df_sorted, adh_level, full_adh_threshold, non_adh_threshold,start_day,end_day)\n",
    "print(non_adherent)"
   ]
  },
  {
   "cell_type": "markdown",
   "id": "a7a83550",
   "metadata": {},
   "source": [
    "### Get User adherence level Cluster\n",
    "\n",
    "get_user_adh_level_cluster(df_sorted, adh_level, start_day=s_start_day, end_day=s_end_day):\n",
    "\n",
    "Labeled user nach adh_level basiert auf k-means clustering mit k=3. Benutzt wird cluster_adherence_levels(df_sorted, num_clusters=3, start_day=None, end_day=None)\n",
    "aus task2_groups. Den Clustern wird ein adherence level label gegeben. Der Nutzer kann entscheiden mit adh_level welchen adherence level er haben möchte und bekommt ein\n",
    "array von Usern mit dem adherence level.\n",
    "adh_level of 1 = low adherence, 2 = moderate, 3 = high"
   ]
  },
  {
   "cell_type": "code",
   "execution_count": 1,
   "id": "823f3c2e",
   "metadata": {
    "ExecuteTime": {
     "end_time": "2023-07-29T09:52:21.950981900Z",
     "start_time": "2023-07-29T09:52:18.894154300Z"
    }
   },
   "outputs": [
    {
     "ename": "NameError",
     "evalue": "name 'get_user_adh_level_cluster' is not defined",
     "output_type": "error",
     "traceback": [
      "\u001b[1;31m---------------------------------------------------------------------------\u001b[0m",
      "\u001b[1;31mNameError\u001b[0m                                 Traceback (most recent call last)",
      "Cell \u001b[1;32mIn[1], line 6\u001b[0m\n\u001b[0;32m      3\u001b[0m end_day \u001b[38;5;241m=\u001b[39m \u001b[38;5;241m120\u001b[39m\n\u001b[0;32m      5\u001b[0m low_adherence \u001b[38;5;241m=\u001b[39m []\n\u001b[1;32m----> 6\u001b[0m low_adherence \u001b[38;5;241m=\u001b[39m \u001b[43mget_user_adh_level_cluster\u001b[49m(df_sorted, adh_level, start_day, end_day)\n\u001b[0;32m      7\u001b[0m \u001b[38;5;28mprint\u001b[39m(low_adherence)\n",
      "\u001b[1;31mNameError\u001b[0m: name 'get_user_adh_level_cluster' is not defined"
     ]
    }
   ],
   "source": [
    "adh_level = 1\n",
    "start_day = 20\n",
    "end_day = 120\n",
    "\n",
    "low_adherence = []\n",
    "low_adherence = get_user_adh_level_cluster(df_sorted, adh_level, start_day, end_day)\n",
    "print(low_adherence)"
   ]
  }
 ],
 "metadata": {
  "kernelspec": {
   "display_name": "Python 3 (ipykernel)",
   "language": "python",
   "name": "python3"
  },
  "language_info": {
   "codemirror_mode": {
    "name": "ipython",
    "version": 3
   },
   "file_extension": ".py",
   "mimetype": "text/x-python",
   "name": "python",
   "nbconvert_exporter": "python",
   "pygments_lexer": "ipython3",
   "version": "3.9.16"
  }
 },
 "nbformat": 4,
 "nbformat_minor": 5
}
