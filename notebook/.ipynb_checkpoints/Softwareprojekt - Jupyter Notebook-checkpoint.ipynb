{
 "cells": [
  {
   "cell_type": "markdown",
   "id": "97e913d6",
   "metadata": {},
   "source": [
    "# <center> Adherence in a RCT mHealth dataset </center>"
   ]
  },
  {
   "cell_type": "markdown",
   "id": "609cdd02",
   "metadata": {},
   "source": [
    "### Introduction\n",
    "Dieses Notebook stellt verschiedene Algorithmen zur Analyse des Adherence Verhaltens von Personen aus einem gegebenen Datensatz zur Verfügung."
   ]
  },
  {
   "cell_type": "markdown",
   "id": "0061ca43",
   "metadata": {},
   "source": [
    "### Imports\n",
    "Damit wir alle benötigten Algorithmen und Funktionen auch aufrufen können, importieren wir zunächst alle Python Dateien, in denen unser Code geschrieben steht."
   ]
  },
  {
   "cell_type": "code",
   "execution_count": 1,
   "id": "89042996",
   "metadata": {
    "ExecuteTime": {
     "end_time": "2023-07-10T18:47:31.788297700Z",
     "start_time": "2023-07-10T18:47:30.776464800Z"
    },
    "pycharm": {
     "is_executing": true
    }
   },
   "outputs": [],
   "source": [
    "import os.path\n",
    "import sys\n",
    "sys.path.insert(0, os.path.normpath(os.getcwd() + os.sep + os.pardir))\n",
    "sys.path.insert(0, os.path.normpath(os.getcwd() + os.sep + os.pardir + os.sep + \"data\"))\n",
    "sys.path.insert(0, os.path.normpath(os.getcwd() + os.sep + os.pardir + os.sep + \"util\"))\n",
    "sys.path.insert(0, os.path.normpath(os.getcwd() + os.sep + os.pardir + os.sep + \"notebook\"))\n",
    "\n",
    "\n",
    "from util import helper as hlp\n",
    "from util import setup as set\n",
    "from util import task1_phases as pha\n",
    "from util import task2_groups as grp\n",
    "from util import task3_prediction as pred\n",
    "from util import task4_statistics as stat\n",
    "from util import task5_adherence_level as lev\n",
    "\n",
    "import pandas as pd\n",
    "import matplotlib.pylab as plt\n",
    "pd.options.mode.chained_assignment = None  # default='warn'\n",
    "import warnings\n",
    "\n",
    "# FutureWarning-Warnungen ignorieren\n",
    "warnings.filterwarnings(\"ignore\", category=FutureWarning)"
   ]
  },
  {
   "cell_type": "markdown",
   "id": "6adb2fee",
   "metadata": {},
   "source": [
    "### Read in data\n",
    "Zuerst lesen wir den Datensatz als pandas DataFrame ein. Der Datensatz muss in einem CSV-Format vorliegen. Der Name der Datei muss dafür vorher in der Datei setup.py angegeben werden (Direkt nach s_file_name = )."
   ]
  },
  {
   "cell_type": "code",
   "execution_count": 2,
   "id": "1e4302ef",
   "metadata": {
    "ExecuteTime": {
     "end_time": "2023-06-30T13:26:37.635920Z",
     "start_time": "2023-06-30T13:26:37.094440Z"
    }
   },
   "outputs": [],
   "source": [
    "# Suchen des Pfades in dem der Datensatz gespeichert ist. Der Datensatz wird anschließen in ein Panda Dataframe konvertiert\n",
    "dataset = hlp.find_path(set.s_file_name)"
   ]
  },
  {
   "cell_type": "markdown",
   "id": "da21b57f",
   "metadata": {},
   "source": [
    "### Data Preparation\n",
    "Um mit dem Datensatz besser arbeiten zu können müssen wir diesen zunächst etwas anpassen. Dafür werden alle unnötigen Spalten aus dem DataFrame entfernt. Außerdem gruppieren wir alle user_ids, sodass die Daten eines Nutzers alle hintereinander stehen und nicht quer verteilt sind und sortieren die Daten nach Datum, sodass sie auch zeitlich richtig sortiert sind. Es wird zudem noch das Attribut day hinzugefügt, welches den Tag, ab dem ältesten Datum für einen Nutzer angibt."
   ]
  },
  {
   "cell_type": "code",
   "execution_count": 3,
   "id": "5c67c5d4",
   "metadata": {},
   "outputs": [
    {
     "data": {
      "text/html": [
       "<div>\n",
       "<style scoped>\n",
       "    .dataframe tbody tr th:only-of-type {\n",
       "        vertical-align: middle;\n",
       "    }\n",
       "\n",
       "    .dataframe tbody tr th {\n",
       "        vertical-align: top;\n",
       "    }\n",
       "\n",
       "    .dataframe thead th {\n",
       "        text-align: right;\n",
       "    }\n",
       "</style>\n",
       "<table border=\"1\" class=\"dataframe\">\n",
       "  <thead>\n",
       "    <tr style=\"text-align: right;\">\n",
       "      <th></th>\n",
       "      <th>id</th>\n",
       "      <th>user_id</th>\n",
       "      <th>locale</th>\n",
       "      <th>client</th>\n",
       "      <th>collected_at</th>\n",
       "      <th>value_loudness</th>\n",
       "      <th>value_cumberness</th>\n",
       "      <th>value_jawbone</th>\n",
       "      <th>value_neck</th>\n",
       "      <th>value_tin_day</th>\n",
       "      <th>value_tin_cumber</th>\n",
       "      <th>value_tin_max</th>\n",
       "      <th>value_movement</th>\n",
       "      <th>value_stress</th>\n",
       "      <th>value_emotion</th>\n",
       "      <th>value_diary_q11</th>\n",
       "      <th>collected_at_year</th>\n",
       "      <th>collected_at_month</th>\n",
       "      <th>collected_at_time</th>\n",
       "      <th>day</th>\n",
       "    </tr>\n",
       "  </thead>\n",
       "  <tbody>\n",
       "    <tr>\n",
       "      <th>0</th>\n",
       "      <td>4</td>\n",
       "      <td>101</td>\n",
       "      <td>en</td>\n",
       "      <td>{\"device\":\"iPhone\",\"os\":\"iOS 14.3\",\"name\":\"UNI...</td>\n",
       "      <td>2021-04-14 08:21:51+00:00</td>\n",
       "      <td>75</td>\n",
       "      <td>79</td>\n",
       "      <td>82</td>\n",
       "      <td>71</td>\n",
       "      <td>67</td>\n",
       "      <td>82</td>\n",
       "      <td>78</td>\n",
       "      <td>78</td>\n",
       "      <td>71</td>\n",
       "      <td>67</td>\n",
       "      <td>0</td>\n",
       "      <td>2021</td>\n",
       "      <td>4</td>\n",
       "      <td>501</td>\n",
       "      <td>1</td>\n",
       "    </tr>\n",
       "    <tr>\n",
       "      <th>1</th>\n",
       "      <td>5</td>\n",
       "      <td>101</td>\n",
       "      <td>en</td>\n",
       "      <td>{\"os\":\"iOS 14.3\",\"device\":\"iPhone\",\"name\":\"UNI...</td>\n",
       "      <td>2021-04-14 08:23:12+00:00</td>\n",
       "      <td>33</td>\n",
       "      <td>77</td>\n",
       "      <td>76</td>\n",
       "      <td>64</td>\n",
       "      <td>21</td>\n",
       "      <td>73</td>\n",
       "      <td>65</td>\n",
       "      <td>30</td>\n",
       "      <td>92</td>\n",
       "      <td>67</td>\n",
       "      <td>1</td>\n",
       "      <td>2021</td>\n",
       "      <td>4</td>\n",
       "      <td>503</td>\n",
       "      <td>1</td>\n",
       "    </tr>\n",
       "    <tr>\n",
       "      <th>2</th>\n",
       "      <td>9489</td>\n",
       "      <td>101</td>\n",
       "      <td>de</td>\n",
       "      <td>{\"device\":\"iPhone\",\"os\":\"iOS 14.6\",\"name\":\"UNI...</td>\n",
       "      <td>2021-07-19 13:20:30+00:00</td>\n",
       "      <td>24</td>\n",
       "      <td>73</td>\n",
       "      <td>83</td>\n",
       "      <td>53</td>\n",
       "      <td>20</td>\n",
       "      <td>85</td>\n",
       "      <td>57</td>\n",
       "      <td>25</td>\n",
       "      <td>73</td>\n",
       "      <td>82</td>\n",
       "      <td>0</td>\n",
       "      <td>2021</td>\n",
       "      <td>7</td>\n",
       "      <td>800</td>\n",
       "      <td>97</td>\n",
       "    </tr>\n",
       "    <tr>\n",
       "      <th>3</th>\n",
       "      <td>9491</td>\n",
       "      <td>101</td>\n",
       "      <td>en</td>\n",
       "      <td>{\"device\":\"iPhone\",\"os\":\"iOS 14.5\",\"name\":\"UNI...</td>\n",
       "      <td>2021-07-19 13:27:01+00:00</td>\n",
       "      <td>35</td>\n",
       "      <td>28</td>\n",
       "      <td>23</td>\n",
       "      <td>20</td>\n",
       "      <td>50</td>\n",
       "      <td>37</td>\n",
       "      <td>32</td>\n",
       "      <td>27</td>\n",
       "      <td>44</td>\n",
       "      <td>45</td>\n",
       "      <td>0</td>\n",
       "      <td>2021</td>\n",
       "      <td>7</td>\n",
       "      <td>807</td>\n",
       "      <td>97</td>\n",
       "    </tr>\n",
       "    <tr>\n",
       "      <th>4</th>\n",
       "      <td>9515</td>\n",
       "      <td>101</td>\n",
       "      <td>el</td>\n",
       "      <td>{\"os\":\"iOS 14.6\",\"name\":\"UNITI 1.0.2\",\"device\"...</td>\n",
       "      <td>2021-07-19 14:59:32+00:00</td>\n",
       "      <td>23</td>\n",
       "      <td>75</td>\n",
       "      <td>28</td>\n",
       "      <td>69</td>\n",
       "      <td>16</td>\n",
       "      <td>87</td>\n",
       "      <td>28</td>\n",
       "      <td>81</td>\n",
       "      <td>28</td>\n",
       "      <td>77</td>\n",
       "      <td>1</td>\n",
       "      <td>2021</td>\n",
       "      <td>7</td>\n",
       "      <td>899</td>\n",
       "      <td>97</td>\n",
       "    </tr>\n",
       "  </tbody>\n",
       "</table>\n",
       "</div>"
      ],
      "text/plain": [
       "     id  user_id locale                                             client  \\\n",
       "0     4      101     en  {\"device\":\"iPhone\",\"os\":\"iOS 14.3\",\"name\":\"UNI...   \n",
       "1     5      101     en  {\"os\":\"iOS 14.3\",\"device\":\"iPhone\",\"name\":\"UNI...   \n",
       "2  9489      101     de  {\"device\":\"iPhone\",\"os\":\"iOS 14.6\",\"name\":\"UNI...   \n",
       "3  9491      101     en  {\"device\":\"iPhone\",\"os\":\"iOS 14.5\",\"name\":\"UNI...   \n",
       "4  9515      101     el  {\"os\":\"iOS 14.6\",\"name\":\"UNITI 1.0.2\",\"device\"...   \n",
       "\n",
       "               collected_at  value_loudness  value_cumberness  value_jawbone  \\\n",
       "0 2021-04-14 08:21:51+00:00              75                79             82   \n",
       "1 2021-04-14 08:23:12+00:00              33                77             76   \n",
       "2 2021-07-19 13:20:30+00:00              24                73             83   \n",
       "3 2021-07-19 13:27:01+00:00              35                28             23   \n",
       "4 2021-07-19 14:59:32+00:00              23                75             28   \n",
       "\n",
       "   value_neck  value_tin_day  value_tin_cumber  value_tin_max  value_movement  \\\n",
       "0          71             67                82             78              78   \n",
       "1          64             21                73             65              30   \n",
       "2          53             20                85             57              25   \n",
       "3          20             50                37             32              27   \n",
       "4          69             16                87             28              81   \n",
       "\n",
       "   value_stress  value_emotion  value_diary_q11  collected_at_year  \\\n",
       "0            71             67                0               2021   \n",
       "1            92             67                1               2021   \n",
       "2            73             82                0               2021   \n",
       "3            44             45                0               2021   \n",
       "4            28             77                1               2021   \n",
       "\n",
       "   collected_at_month  collected_at_time  day  \n",
       "0                   4                501    1  \n",
       "1                   4                503    1  \n",
       "2                   7                800   97  \n",
       "3                   7                807   97  \n",
       "4                   7                899   97  "
      ]
     },
     "execution_count": 3,
     "metadata": {},
     "output_type": "execute_result"
    }
   ],
   "source": [
    "# Gruppieren des DataFrame nach user_id und Sortieren nach collected_at\n",
    "df_sorted = hlp.data_preparation(dataset)\n",
    "df_sorted.head()"
   ]
  },
  {
   "cell_type": "markdown",
   "id": "dc0ee808",
   "metadata": {},
   "source": [
    "Im Folgenden filtern wir einen Testnutzer aus unserem Datensatz heraus, der anstelle eines echten neuen Nutzers benutzt wird. Alternativ kann natürlich auch ein echter Nutzer eingesetzt werden. Dafür muss der Dateiname in der Setup-Datei hinter s_file_newuser geändert werden."
   ]
  },
  {
   "cell_type": "code",
   "execution_count": 4,
   "id": "50e6e3d1",
   "metadata": {},
   "outputs": [],
   "source": [
    "# Suchen des Pfades vom neuen Nutzers\n",
    "df_newuser = hlp.find_path(set.s_file_newuser)\n",
    "\n",
    "# Entfernen des Nutzers aus dem Datensatz (falls es er im Datensatz vorhanden ist)\n",
    "df_sorted = hlp.delete_test_user(df_sorted, df_newuser.iloc[0]['user_id'])"
   ]
  },
  {
   "cell_type": "markdown",
   "id": "3aedb60a",
   "metadata": {},
   "source": [
    "### Phases\n",
    "Sie können sich die den Adherence Verlauf einer einzelnen Person ausgeben lassen um direkt zu erkennen wie sich der Nutzer verhalten hat. Eine User Timeline ist die Bezeichnung für eine binäre Liste für die folgendes gilt: 0 = Der Nutzer hat die App an Tag X nicht genutzt, 1 = Der Nutzer hat die App an Tag X genutzt. Der erste Eintrag der Liste steht für den ersten Tag der Nutzung der App, der zweite Eintrag für den zweiten Tag, usw."
   ]
  },
  {
   "cell_type": "code",
   "execution_count": 5,
   "id": "0854e3cd",
   "metadata": {},
   "outputs": [],
   "source": [
    "user40176_timeline = pha.get_user_timeline(df_sorted, 40176)"
   ]
  },
  {
   "cell_type": "markdown",
   "id": "49d7dec0",
   "metadata": {},
   "source": [
    "Möchten Sie mehr als einen User auswerten, brauchen Sie zuerst eine Liste mit allen UserIDs aus ihrem Datensatz. Diese UserIDs bekommen Sie mit der  Methode 'get_user_ids'."
   ]
  },
  {
   "cell_type": "code",
   "execution_count": 6,
   "id": "0fa621d4",
   "metadata": {},
   "outputs": [],
   "source": [
    "all_userids = hlp.get_user_ids(df_sorted)"
   ]
  },
  {
   "cell_type": "markdown",
   "id": "5928900b",
   "metadata": {},
   "source": [
    "Um zu den Verlauf der Nutzung der App zu analysieren, müssen Sie zuerst wissen an welchen Tagen die Nutzung der App besonders hoch oder niedrig war. Dazu können Sie sich mit der Methode 'get_all_adherence_percentage' die prozentuale Nutzung der App ausgeben lassen. Zuvor biete es sich an einmal die Methode 'get_all_user_timelines' auszurufen um alle User Timelines"
   ]
  },
  {
   "cell_type": "code",
   "execution_count": 7,
   "id": "b1ee75d5",
   "metadata": {
    "pycharm": {
     "is_executing": true
    }
   },
   "outputs": [
    {
     "data": {
      "image/png": "[encoded data removed]",
      "text/plain": [
       "<Figure size 640x480 with 1 Axes>"
      ]
     },
     "metadata": {},
     "output_type": "display_data"
    }
   ],
   "source": [
    "all_timelines = pha.get_all_user_timelines(df_sorted)\n",
    "\n",
    "adherence_percentages = pha.get_all_adherence_percentage(all_timelines)\n",
    "\n",
    "plt.plot(adherence_percentages)\n",
    "plt.show()"
   ]
  },
  {
   "cell_type": "markdown",
   "id": "66686e1c",
   "metadata": {},
   "source": [
    "Nun sind alle Voraussetzungen erfüllt um den Datensatz auf das Vorhandensein von Phasen zu untersuchen. Dafür nutzt dieses Paket drei verschiedene CPD-Algorithmen zur aus dem Ruptures package (CPD = Change point detection). Die gefundenen Change Points der drei Algorithmen geben an, in welche Phasen sich der zeitliche Verlauf unterteilt.\n",
    "1. Binary Segmentation\n",
    "2. Bottom-Up Segmentation\n",
    "3. Window Segmentaion\n",
    "\n",
    "Bevor Sie die Algorithmen anwenden, müssen Sie angeben noch welchen Kriterien Sie Chane Points suchen.\n",
    "Wenn Sie eine feste Anzahl an Change Points suchen, müssen Sie folgende Einstellungen vornehmen:\n",
    "    s_cpd_mode: True = Feste Anzahl an Change Points\n",
    "    s_num_change_points: Anzahl der Change Points"
   ]
  },
  {
   "cell_type": "code",
   "execution_count": 8,
   "id": "d4904b9b",
   "metadata": {},
   "outputs": [],
   "source": [
    "set.s_cpd_mode = True\n",
    "set.s_num_change_points = 3"
   ]
  },
  {
   "cell_type": "markdown",
   "id": "4617d49a",
   "metadata": {},
   "source": [
    "Soll die Anzahl der Change Points dynamisch sein, sollten Sie einen Schwellenwert angeben und folgende Einstellungen vornehmen:\n",
    "    s_cpd_mode: False = Schwellenwert für die Bestimmung von Change Points\n",
    "    s_pen_change_points: Höhe des Schwellenwerts für die Bestimmung der Change Points"
   ]
  },
  {
   "cell_type": "code",
   "execution_count": 9,
   "id": "fa314bc0",
   "metadata": {},
   "outputs": [],
   "source": [
    "set.s_cpd_mode = False\n",
    "set.s_pen_change_points = 2"
   ]
  },
  {
   "cell_type": "markdown",
   "id": "9ad26328",
   "metadata": {},
   "source": [
    "Da nun die notwendigen Einstellungen vorgenommen wurden, können Sie die Phasen mit Hilfe der CPD-Algorithmen bestimmen."
   ]
  },
  {
   "cell_type": "code",
   "execution_count": 10,
   "id": "80a47519",
   "metadata": {
    "scrolled": true
   },
   "outputs": [
    {
     "name": "stdout",
     "output_type": "stream",
     "text": [
      "[17, 46, 81, 100]\n",
      "[9, 48, 84, 100]\n",
      "[79, 100]\n"
     ]
    }
   ],
   "source": [
    "result_binseg = pha.cpd_binseg(adherence_percentages)\n",
    "\n",
    "result_botupseg = pha.cpd_botupseg(adherence_percentages)\n",
    "\n",
    "result_windowseg = pha.cpd_windowseg(adherence_percentages)\n",
    "\n",
    "print(result_binseg)\n",
    "print(result_botupseg)\n",
    "print(result_windowseg)"
   ]
  },
  {
   "cell_type": "markdown",
   "id": "2e3a3882",
   "metadata": {},
   "source": [
    "## Groups\n",
    "Sie können sich aus dem Datensatz Patientengruppen mit ähnlichem Verhalten mittels Clustering identifizieren lassen. Dabei existieren verschiedene Möglichkeiten der Gruppierung. Darunter nach dem Adherence-Verhalten, dem Nutzungsverhalten oder eine Kombinierte Gruppierung beider Faktoren. Des weiteren besteht die Möglichkeit keine Gruppierung zu nutzen. Jedem Patienten wird somit seine Gruppenzugehörigkeit zugeordnet aufgrund der jeweiligen vom Nutzer getätigten Auswahl der Gruppierung."
   ]
  },
  {
   "cell_type": "code",
   "execution_count": 12,
   "id": "fc89057b",
   "metadata": {},
   "outputs": [
    {
     "ename": "ValueError",
     "evalue": "n_samples=1 should be >= n_clusters=3.",
     "output_type": "error",
     "traceback": [
      "\u001b[1;31m---------------------------------------------------------------------------\u001b[0m",
      "\u001b[1;31mValueError\u001b[0m                                Traceback (most recent call last)",
      "Cell \u001b[1;32mIn[12], line 2\u001b[0m\n\u001b[0;32m      1\u001b[0m patient_id_2222 \u001b[38;5;241m=\u001b[39m \u001b[38;5;241m2222\u001b[39m\n\u001b[1;32m----> 2\u001b[0m cluster_timelines_patient2222 \u001b[38;5;241m=\u001b[39m \u001b[43mgrp\u001b[49m\u001b[38;5;241;43m.\u001b[39;49m\u001b[43mcluster_timelines\u001b[49m\u001b[43m(\u001b[49m\u001b[43mdf_sorted\u001b[49m\u001b[43m[\u001b[49m\u001b[43mdf_sorted\u001b[49m\u001b[43m[\u001b[49m\u001b[38;5;124;43m'\u001b[39;49m\u001b[38;5;124;43muser_id\u001b[39;49m\u001b[38;5;124;43m'\u001b[39;49m\u001b[43m]\u001b[49m\u001b[43m \u001b[49m\u001b[38;5;241;43m==\u001b[39;49m\u001b[43m \u001b[49m\u001b[43mpatient_id_2222\u001b[49m\u001b[43m]\u001b[49m\u001b[43m)\u001b[49m\n\u001b[0;32m      3\u001b[0m cluster_adherence_patient2222 \u001b[38;5;241m=\u001b[39m grp\u001b[38;5;241m.\u001b[39mcluster_adherence_levels(df_sorted[df_sorted[\u001b[38;5;124m'\u001b[39m\u001b[38;5;124muser_id\u001b[39m\u001b[38;5;124m'\u001b[39m] \u001b[38;5;241m==\u001b[39m patient_id_2222])\n\u001b[0;32m      4\u001b[0m cluster_note_timelines_patient2222 \u001b[38;5;241m=\u001b[39m grp\u001b[38;5;241m.\u001b[39mcluster_note_timelines(df_sorted[df_sorted[\u001b[38;5;124m'\u001b[39m\u001b[38;5;124muser_id\u001b[39m\u001b[38;5;124m'\u001b[39m] \u001b[38;5;241m==\u001b[39m patient_id_2222])\n",
      "File \u001b[1;32m~\\PycharmProjects\\Softwareprojekt\\util\\task2_groups.py:17\u001b[0m, in \u001b[0;36mcluster_timelines\u001b[1;34m(df_sorted, num_clusters, column_name, start_day, end_day)\u001b[0m\n\u001b[0;32m     15\u001b[0m \u001b[38;5;66;03m# Initialize and train K-Means model\u001b[39;00m\n\u001b[0;32m     16\u001b[0m kmeans \u001b[38;5;241m=\u001b[39m KMeans(n_clusters\u001b[38;5;241m=\u001b[39mnum_clusters)\n\u001b[1;32m---> 17\u001b[0m \u001b[43mkmeans\u001b[49m\u001b[38;5;241;43m.\u001b[39;49m\u001b[43mfit\u001b[49m\u001b[43m(\u001b[49m\u001b[43mtimelines_data\u001b[49m\u001b[43m)\u001b[49m\n\u001b[0;32m     19\u001b[0m \u001b[38;5;66;03m# Cluster labels for the timelines\u001b[39;00m\n\u001b[0;32m     20\u001b[0m timeline_cluster_labels \u001b[38;5;241m=\u001b[39m kmeans\u001b[38;5;241m.\u001b[39mlabels_\n",
      "File \u001b[1;32m~\\anaconda3\\envs\\Softwareprojekt\\lib\\site-packages\\sklearn\\cluster\\_kmeans.py:1426\u001b[0m, in \u001b[0;36mKMeans.fit\u001b[1;34m(self, X, y, sample_weight)\u001b[0m\n\u001b[0;32m   1415\u001b[0m \u001b[38;5;28mself\u001b[39m\u001b[38;5;241m.\u001b[39m_validate_params()\n\u001b[0;32m   1417\u001b[0m X \u001b[38;5;241m=\u001b[39m \u001b[38;5;28mself\u001b[39m\u001b[38;5;241m.\u001b[39m_validate_data(\n\u001b[0;32m   1418\u001b[0m     X,\n\u001b[0;32m   1419\u001b[0m     accept_sparse\u001b[38;5;241m=\u001b[39m\u001b[38;5;124m\"\u001b[39m\u001b[38;5;124mcsr\u001b[39m\u001b[38;5;124m\"\u001b[39m,\n\u001b[1;32m   (...)\u001b[0m\n\u001b[0;32m   1423\u001b[0m     accept_large_sparse\u001b[38;5;241m=\u001b[39m\u001b[38;5;28;01mFalse\u001b[39;00m,\n\u001b[0;32m   1424\u001b[0m )\n\u001b[1;32m-> 1426\u001b[0m \u001b[38;5;28;43mself\u001b[39;49m\u001b[38;5;241;43m.\u001b[39;49m\u001b[43m_check_params_vs_input\u001b[49m\u001b[43m(\u001b[49m\u001b[43mX\u001b[49m\u001b[43m)\u001b[49m\n\u001b[0;32m   1428\u001b[0m random_state \u001b[38;5;241m=\u001b[39m check_random_state(\u001b[38;5;28mself\u001b[39m\u001b[38;5;241m.\u001b[39mrandom_state)\n\u001b[0;32m   1429\u001b[0m sample_weight \u001b[38;5;241m=\u001b[39m _check_sample_weight(sample_weight, X, dtype\u001b[38;5;241m=\u001b[39mX\u001b[38;5;241m.\u001b[39mdtype)\n",
      "File \u001b[1;32m~\\anaconda3\\envs\\Softwareprojekt\\lib\\site-packages\\sklearn\\cluster\\_kmeans.py:1362\u001b[0m, in \u001b[0;36mKMeans._check_params_vs_input\u001b[1;34m(self, X)\u001b[0m\n\u001b[0;32m   1361\u001b[0m \u001b[38;5;28;01mdef\u001b[39;00m \u001b[38;5;21m_check_params_vs_input\u001b[39m(\u001b[38;5;28mself\u001b[39m, X):\n\u001b[1;32m-> 1362\u001b[0m     \u001b[38;5;28;43msuper\u001b[39;49m\u001b[43m(\u001b[49m\u001b[43m)\u001b[49m\u001b[38;5;241;43m.\u001b[39;49m\u001b[43m_check_params_vs_input\u001b[49m\u001b[43m(\u001b[49m\u001b[43mX\u001b[49m\u001b[43m,\u001b[49m\u001b[43m \u001b[49m\u001b[43mdefault_n_init\u001b[49m\u001b[38;5;241;43m=\u001b[39;49m\u001b[38;5;241;43m10\u001b[39;49m\u001b[43m)\u001b[49m\n\u001b[0;32m   1364\u001b[0m     \u001b[38;5;28mself\u001b[39m\u001b[38;5;241m.\u001b[39m_algorithm \u001b[38;5;241m=\u001b[39m \u001b[38;5;28mself\u001b[39m\u001b[38;5;241m.\u001b[39malgorithm\n\u001b[0;32m   1365\u001b[0m     \u001b[38;5;28;01mif\u001b[39;00m \u001b[38;5;28mself\u001b[39m\u001b[38;5;241m.\u001b[39m_algorithm \u001b[38;5;129;01min\u001b[39;00m (\u001b[38;5;124m\"\u001b[39m\u001b[38;5;124mauto\u001b[39m\u001b[38;5;124m\"\u001b[39m, \u001b[38;5;124m\"\u001b[39m\u001b[38;5;124mfull\u001b[39m\u001b[38;5;124m\"\u001b[39m):\n",
      "File \u001b[1;32m~\\anaconda3\\envs\\Softwareprojekt\\lib\\site-packages\\sklearn\\cluster\\_kmeans.py:859\u001b[0m, in \u001b[0;36m_BaseKMeans._check_params_vs_input\u001b[1;34m(self, X, default_n_init)\u001b[0m\n\u001b[0;32m    856\u001b[0m \u001b[38;5;28;01mdef\u001b[39;00m \u001b[38;5;21m_check_params_vs_input\u001b[39m(\u001b[38;5;28mself\u001b[39m, X, default_n_init\u001b[38;5;241m=\u001b[39m\u001b[38;5;28;01mNone\u001b[39;00m):\n\u001b[0;32m    857\u001b[0m     \u001b[38;5;66;03m# n_clusters\u001b[39;00m\n\u001b[0;32m    858\u001b[0m     \u001b[38;5;28;01mif\u001b[39;00m X\u001b[38;5;241m.\u001b[39mshape[\u001b[38;5;241m0\u001b[39m] \u001b[38;5;241m<\u001b[39m \u001b[38;5;28mself\u001b[39m\u001b[38;5;241m.\u001b[39mn_clusters:\n\u001b[1;32m--> 859\u001b[0m         \u001b[38;5;28;01mraise\u001b[39;00m \u001b[38;5;167;01mValueError\u001b[39;00m(\n\u001b[0;32m    860\u001b[0m             \u001b[38;5;124mf\u001b[39m\u001b[38;5;124m\"\u001b[39m\u001b[38;5;124mn_samples=\u001b[39m\u001b[38;5;132;01m{\u001b[39;00mX\u001b[38;5;241m.\u001b[39mshape[\u001b[38;5;241m0\u001b[39m]\u001b[38;5;132;01m}\u001b[39;00m\u001b[38;5;124m should be >= n_clusters=\u001b[39m\u001b[38;5;132;01m{\u001b[39;00m\u001b[38;5;28mself\u001b[39m\u001b[38;5;241m.\u001b[39mn_clusters\u001b[38;5;132;01m}\u001b[39;00m\u001b[38;5;124m.\u001b[39m\u001b[38;5;124m\"\u001b[39m\n\u001b[0;32m    861\u001b[0m         )\n\u001b[0;32m    863\u001b[0m     \u001b[38;5;66;03m# tol\u001b[39;00m\n\u001b[0;32m    864\u001b[0m     \u001b[38;5;28mself\u001b[39m\u001b[38;5;241m.\u001b[39m_tol \u001b[38;5;241m=\u001b[39m _tolerance(X, \u001b[38;5;28mself\u001b[39m\u001b[38;5;241m.\u001b[39mtol)\n",
      "\u001b[1;31mValueError\u001b[0m: n_samples=1 should be >= n_clusters=3."
     ]
    }
   ],
   "source": [
    "patient_id_2222 = 2222\n",
    "cluster_timelines_patient2222 = grp.cluster_timelines(df_sorted[df_sorted['user_id'] == patient_id_2222])\n",
    "cluster_adherence_patient2222 = grp.cluster_adherence_levels(df_sorted[df_sorted['user_id'] == patient_id_2222])\n",
    "cluster_note_timelines_patient2222 = grp.cluster_note_timelines(df_sorted[df_sorted['user_id'] == patient_id_2222])"
   ]
  },
  {
   "cell_type": "markdown",
   "id": "b8cb8615",
   "metadata": {},
   "source": [
    "### Prediction of a users adherence behaviour\n",
    "In dieser Task geht es darum die Adherence eines neuen Nutzers für einen bestimmten Tag y in der Zukunft vorherzusagen. Dies geschieht mithilfe der Daten des neuen Nutzers und mithilfe des Datensatzes."
   ]
  },
  {
   "cell_type": "markdown",
   "id": "c5edc9fc",
   "metadata": {},
   "source": [
    "#### Schritt 1\n",
    "Zuerst lesen wir den Datensatz unseres neuen Nutzers ein. Den Datensatz für die restlichen Nutzer haben wir schon in df_sorted gespeichert. In result_phases wird ein beliebiges Verfahren aus Task 1 für die verschiedenen Phasen im Datensatz gewählt und es wird für den neuen Nutzer festgelegt wie seine Adherence in den jeweiligen Phasen war (Adherence-percentages). Das Gleiche wird für alle anderen Nutzer im Datensatz gemacht."
   ]
  },
  {
   "cell_type": "code",
   "execution_count": 11,
   "id": "2aaafa0e",
   "metadata": {},
   "outputs": [
    {
     "name": "stdout",
     "output_type": "stream",
     "text": [
      "new users id: 2107\n",
      "new users length: 492 days\n",
      "new users phases: 5\n",
      "new users adherence percentages: [0.882, 0.9, 0.833, 0.95, 0.858]\n"
     ]
    }
   ],
   "source": [
    "# Auswahl des Verfahrens aus Task 1 für die Ermittlung der Phasen im Datensatz und die Einordnung des Nutzers in die Phasen\n",
    "result_phases = result_binseg\n",
    "\n",
    "# Speichere die Adherence in den einzelnen Phasen für den neuen Nutzer und alle vorhandenen Nutzer\n",
    "newusers_phases = pred.get_newusers_adherence(df_newuser, result_phases)\n",
    "allusers_phases = pred.get_allusers_adherence(df_sorted, result_phases)"
   ]
  },
  {
   "cell_type": "markdown",
   "id": "32b350f7",
   "metadata": {},
   "source": [
    "#### Schritt 2\n",
    "In Schritt 2 wird im Datensatz nach ähnlichen Nutzern anhand der Adherence gesucht. Dafür wird der Datensatz nach den k-ähnlichsten Nutzern nach users_adherence abgesucht und der ursprüngliche Datensatz (df_sorted) wird nach diesen Nutzern gefiltert (df_similar_users)."
   ]
  },
  {
   "cell_type": "code",
   "execution_count": 12,
   "id": "7bd69799",
   "metadata": {},
   "outputs": [
    {
     "name": "stdout",
     "output_type": "stream",
     "text": [
      "Die 10 ähnlichsten Nutzer sind:\n",
      "\n",
      "    user_id                              phases  similarity\n",
      "68     2192   [0.882, 0.967, 0.778, 0.9, 0.873]       0.101\n",
      "84     2260   [0.882, 0.967, 0.889, 0.9, 0.916]       0.116\n",
      "238    6484    [0.941, 0.833, 0.889, 1.0, 0.93]       0.137\n",
      "419   34465  [0.824, 0.933, 0.917, 0.85, 0.833]       0.149\n",
      "232    6460    [1.0, 0.933, 0.917, 0.95, 0.883]       0.151\n",
      "360   34183  [0.882, 0.933, 0.917, 0.95, 0.727]       0.159\n",
      "393   34342    [0.941, 0.9, 0.944, 0.85, 0.823]       0.164\n",
      "373   34242   [0.765, 0.833, 0.917, 0.9, 0.875]       0.167\n",
      "476   36447      [0.765, 0.9, 0.861, 0.9, 0.75]       0.169\n",
      "271    6624    [1.0, 0.933, 0.944, 0.95, 0.918]       0.176\n"
     ]
    }
   ],
   "source": [
    "# Variable für den knn-Algorithmus der nach den ähnlichsten Nutzern nach Adherence-Level sucht\n",
    "k = 10\n",
    "\n",
    "df_similarusers = pred.find_similar_users(df_sorted, newusers_phases, allusers_phases, k)"
   ]
  },
  {
   "cell_type": "markdown",
   "id": "bdad1f7a",
   "metadata": {},
   "source": [
    "#### Schritt 3\n",
    "Auf den ähnlichen Nutzern wird nun ein Modell trainiert, welches die Wahrscheinlichkeit für adherence an einem bestimmten Tag vorhersagen soll. Für dieses Modell wird eine k-fold-cross validation ausgeführt, um die Accuracy des Modells festzulegen. Diese dient als Maß zur Sicherheit der Korrektheit des Ergebnis. Zum Schluss wird mithilfe des Modells für alle Einträge unseres neuen Nutzers die Adherence-Wahrscheinlichkeit an Tag y berechnet. Diese setzt sich zu 50% aus dem Adherence Level des neuen Nutzers in den vorherigen Phasen zusammen und zu 50% aus der Vorhersage des Modells. Diese Wahrscheinlichkeit wird letztendlich ausgegeben."
   ]
  },
  {
   "cell_type": "code",
   "execution_count": 13,
   "id": "68da91be",
   "metadata": {},
   "outputs": [
    {
     "name": "stdout",
     "output_type": "stream",
     "text": [
      "Durchschnittliche Test Accuracy RandomForest-Modell: 0.928\n",
      "Adherencewahrscheinlichkeit an Tag 50: 0.932\n"
     ]
    },
    {
     "data": {
      "text/plain": [
       "array([1, 1, 1, 1, 1, 1, 1, 1, 1, 1, 1, 1, 1, 1, 1, 1, 1, 1, 1, 1, 1, 1,\n",
       "       1, 1, 1, 1, 1, 1, 1, 1, 1, 1, 1, 1, 1, 1, 1, 1, 1, 1, 1, 1, 1, 1,\n",
       "       1, 1, 1, 1, 1, 1, 1, 1, 1, 1, 1, 1, 1, 1, 1, 1, 1, 1, 1, 1, 1, 1,\n",
       "       1, 1, 1, 1, 1, 1, 1, 1, 1, 1, 1, 1, 1, 1, 1, 1, 1, 1, 1, 1, 1, 1,\n",
       "       1, 1, 1, 1, 1, 1, 1, 1, 1, 1, 1, 1, 1, 1, 1, 1, 1, 1, 1, 1, 1, 1,\n",
       "       1, 1, 1, 1, 1, 1, 1, 1, 1, 1, 1, 1, 1, 1, 1, 1, 1, 1, 1, 1, 1, 1,\n",
       "       1, 1, 1, 1, 1, 1, 1, 1, 1, 1, 1, 1, 1, 1, 1, 1, 1, 1, 1, 1, 1, 1,\n",
       "       1, 1, 1, 1, 1, 1, 1, 1, 1, 1, 1, 1, 1, 1, 1, 1, 1, 1, 1, 1, 1, 1,\n",
       "       1, 1, 1, 1, 1, 1, 1, 1, 1, 1, 1, 1, 1, 1, 1, 1, 1, 1, 1, 1, 1, 1,\n",
       "       1, 1, 1, 1, 1, 1, 1, 1, 1, 1, 1, 1, 1, 1, 1, 1, 1, 1, 1, 1, 1, 1,\n",
       "       1, 1, 1, 1, 1, 1, 1, 1, 1, 1, 1, 1, 1, 1, 1, 1, 1, 1, 1, 1, 1, 1,\n",
       "       1, 1, 1, 1, 1, 1, 1, 1, 1, 1, 1, 1, 1, 1, 1, 1, 1, 1, 1, 1, 1, 1,\n",
       "       1, 1, 1, 1, 1, 1, 1, 1, 1, 1, 1, 1, 1, 1, 1, 1, 1, 1, 1, 1, 1, 1,\n",
       "       1, 1, 1, 1, 1, 1, 1, 1, 1, 1, 1, 1, 1, 1, 1, 1, 1, 1, 1, 1, 1, 1,\n",
       "       1, 1, 1, 1, 1, 1, 1, 1, 1, 1, 1, 1, 1, 1, 1, 1, 1, 1, 1, 1, 1, 1,\n",
       "       1, 1, 1, 1, 1, 1, 1, 1, 1, 1, 1, 1, 1, 1, 1, 1, 1, 1, 1, 1, 1, 1,\n",
       "       1, 1, 1, 1, 1, 1, 1, 1, 1, 1, 1, 1, 1, 1, 1, 1, 1, 1, 1, 1, 1, 1,\n",
       "       1, 1, 1, 1, 1, 1, 1, 1, 1, 1, 1, 1, 1, 1, 1, 1, 1, 1, 1, 1, 1, 1,\n",
       "       1, 1, 1, 1, 1, 1, 1, 1, 1, 1, 1, 1, 1, 1, 1, 1, 1, 1, 1, 1, 1, 1,\n",
       "       1, 1, 1, 1, 1, 1, 1, 1, 1, 1, 1, 1, 1, 1, 1, 1], dtype=int64)"
      ]
     },
     "execution_count": 13,
     "metadata": {},
     "output_type": "execute_result"
    }
   ],
   "source": [
    "# Auswahl des Tag y, für den die Adherence-Wahrscheinlichkeit berechnet werden soll\n",
    "day_y = 50\n",
    "# Variable für die k-fold-cross-valdation, mit der die Accuracy des Modells getestet wird\n",
    "cv = 10\n",
    "# Wahl des ML-Modells: 0 --> für RandomForest, 1 --> für Support Vector Machines\n",
    "model = 0\n",
    "\n",
    "pred.predict_day_adherence(df_similarusers, df_newuser, day_y, cv, 0)"
   ]
  },
  {
   "cell_type": "markdown",
   "id": "ad3abc4f",
   "metadata": {},
   "source": [
    "Zusätzlich gibt es noch die Möglichkeit sich die Adherence für den Nutzer über die zukünftigen Phasen ausgeben zu lassen. Dafür wird der Durchschnitt der ähnlichen Nutzer in diesen Phasen gebildet."
   ]
  },
  {
   "cell_type": "code",
   "execution_count": 14,
   "id": "4cdc593a",
   "metadata": {},
   "outputs": [
    {
     "name": "stdout",
     "output_type": "stream",
     "text": [
      "new users adherence percentages without predictions: [0.882, 0.9, 0.833, 0.95, 0.858]\n",
      "new users adherence percentages with predictions: [0.882 0.9   0.833 0.95  0.858]\n"
     ]
    }
   ],
   "source": [
    "newuser_all_phases = pred.predict_phase_adherence(df_similarusers, allusers_phases, newusers_phases)"
   ]
  },
  {
   "cell_type": "markdown",
   "id": "254ef250",
   "metadata": {},
   "source": [
    "### Statistics\n",
    "In dieser Task geht es darum die Phasen und die Gruppen aus Task 1 und 2, sowie einige weitere Statistiken zu einem bestimmten Nutzer in einer Übersicht darzustellen."
   ]
  },
  {
   "cell_type": "markdown",
   "id": "2469f157",
   "metadata": {},
   "source": [
    "#### Users timeline\n",
    "Mithilfe dieser Funktion kann die timeline eines bestimmten Nutzers visualisiert werden. Dabei geben schwarze Punkte die Tage vor, in denen der Nutzer adherent war und weiße Punkte die Tage, in denen der Nutzer nicht adherent war."
   ]
  },
  {
   "cell_type": "code",
   "execution_count": 15,
   "id": "d864690e",
   "metadata": {},
   "outputs": [
    {
     "data": {
      "image/png": "[encoded data removed]",
      "text/plain": [
       "<Figure size 1200x400 with 1 Axes>"
      ]
     },
     "metadata": {},
     "output_type": "display_data"
    }
   ],
   "source": [
    "result_phases = result_binseg\n",
    "user_id = 2192\n",
    "stat.show_user_timeline(df_sorted, user_id, result_phases, start_day=1, end_day=130, step=10)"
   ]
  },
  {
   "cell_type": "markdown",
   "id": "4a0253f3",
   "metadata": {},
   "source": [
    "#### Users adherence percentages\n",
    "Mit dieser Funktion werden die adherence percentages in den verschiedenen Phasen eines Nutzers mithilfe eines Balkendiagramms visualisiert. Dafür muss allusers_phases aus Task 3 übergeben werden, sowie die user_id des Nutzers."
   ]
  },
  {
   "cell_type": "code",
   "execution_count": 16,
   "id": "f66251e2",
   "metadata": {},
   "outputs": [
    {
     "name": "stdout",
     "output_type": "stream",
     "text": [
      "[0.882, 0.967, 0.778, 0.9, 0.873]\n"
     ]
    },
    {
     "data": {
      "image/png": "[encoded data removed]",
      "text/plain": [
       "<Figure size 700x500 with 1 Axes>"
      ]
     },
     "metadata": {},
     "output_type": "display_data"
    }
   ],
   "source": [
    "stat.show_user_adherence_percentage(allusers_phases, user_id)"
   ]
  },
  {
   "cell_type": "markdown",
   "id": "80b4fcd7",
   "metadata": {},
   "source": [
    "Mithilfe der Funktion können auch die Phasen und zukünftigen Phasen eines neuen Nutzers angezeigt werden. Dafür muss nur das array mit den adherence percentages des neuen Nutzers (newuser_all_phases) aus Task 3 übergeben werden."
   ]
  },
  {
   "cell_type": "code",
   "execution_count": 17,
   "id": "be128a56",
   "metadata": {},
   "outputs": [
    {
     "data": {
      "image/png": "[encoded data removed]",
      "text/plain": [
       "<Figure size 700x500 with 1 Axes>"
      ]
     },
     "metadata": {},
     "output_type": "display_data"
    }
   ],
   "source": [
    "stat.show_user_adherence_percentage(newuser_all_phases)"
   ]
  },
  {
   "cell_type": "markdown",
   "id": "43640fac",
   "metadata": {},
   "source": [
    "#### Users statistics\n",
    "Mit dieser Funktion werden statistische Daten eines Nutzers aus dem Datensatz analysiert und ausgegeben."
   ]
  },
  {
   "cell_type": "code",
   "execution_count": 18,
   "id": "636089e6",
   "metadata": {},
   "outputs": [
    {
     "data": {
      "text/html": [
       "<div>\n",
       "<style scoped>\n",
       "    .dataframe tbody tr th:only-of-type {\n",
       "        vertical-align: middle;\n",
       "    }\n",
       "\n",
       "    .dataframe tbody tr th {\n",
       "        vertical-align: top;\n",
       "    }\n",
       "\n",
       "    .dataframe thead th {\n",
       "        text-align: right;\n",
       "    }\n",
       "</style>\n",
       "<table border=\"1\" class=\"dataframe\">\n",
       "  <thead>\n",
       "    <tr style=\"text-align: right;\">\n",
       "      <th></th>\n",
       "      <th>user_id</th>\n",
       "      <th>Anzahl_Tage</th>\n",
       "      <th>Anzahl_Einträge</th>\n",
       "      <th>Anzahl_fehlende_Einträge</th>\n",
       "      <th>längster_adh_Streak</th>\n",
       "      <th>adh_percentage</th>\n",
       "      <th>Anzahl_Lücken</th>\n",
       "    </tr>\n",
       "  </thead>\n",
       "  <tbody>\n",
       "    <tr>\n",
       "      <th>0</th>\n",
       "      <td>2192</td>\n",
       "      <td>154</td>\n",
       "      <td>135</td>\n",
       "      <td>19</td>\n",
       "      <td>33</td>\n",
       "      <td>0.96</td>\n",
       "      <td>18</td>\n",
       "    </tr>\n",
       "  </tbody>\n",
       "</table>\n",
       "</div>"
      ],
      "text/plain": [
       "   user_id  Anzahl_Tage  Anzahl_Einträge  Anzahl_fehlende_Einträge  \\\n",
       "0     2192          154              135                        19   \n",
       "\n",
       "   längster_adh_Streak  adh_percentage  Anzahl_Lücken  \n",
       "0                   33            0.96             18  "
      ]
     },
     "execution_count": 18,
     "metadata": {},
     "output_type": "execute_result"
    }
   ],
   "source": [
    "users_stats = stat.show_user_statistics(df_sorted, user_id)\n",
    "users_stats.head()"
   ]
  },
  {
   "cell_type": "markdown",
   "id": "d66773be",
   "metadata": {},
   "source": []
  },
  {
   "cell_type": "markdown",
   "id": "2e274be4",
   "metadata": {},
   "source": [
    "### Task 5 Adherence Level"
   ]
  },
  {
   "cell_type": "markdown",
   "id": "cdeb7077",
   "metadata": {},
   "source": [
    "#### Get User adherence percentage\n",
    "\n",
    "get_user_adh_percentage(df_sorted, user_id, start_day=None, end_day=None, column=s_table_sort_by):\n",
    "\n",
    "adh_percentage wird berechent aus der Anzahl an adherenten Tagen in der Timeline / Anzahl aller Tage in der Timeline\n",
    "start_day und end_day angeben wie in get_user_timeline() um adh_percentage in einer bestimmten timeline zu bekommen. Stanadard mäßig gesamte timeline.\n",
    "returned adh_percentage eines bestimmten Users in einer bestimmten Timeline als float Wert."
   ]
  },
  {
   "cell_type": "code",
   "execution_count": 29,
   "id": "de7a014c",
   "metadata": {
    "ExecuteTime": {
     "end_time": "2023-07-10T18:55:11.664014Z",
     "start_time": "2023-07-10T18:55:11.600027900Z"
    }
   },
   "outputs": [
    {
     "data": {
      "text/plain": [
       "0.8910891089108911"
      ]
     },
     "execution_count": 29,
     "metadata": {},
     "output_type": "execute_result"
    }
   ],
   "source": [
    "id_user = 2192\n",
    "\n",
    "start_day = 20\n",
    "end_day = 120\n",
    "column = set.s_table_sort_by\n",
    "\n",
    "lev.get_user_adh_percentage(df_sorted,id_user,start_day,end_day)"
   ]
  },
  {
   "cell_type": "markdown",
   "id": "8b3b342e",
   "metadata": {},
   "source": [
    "#### Get User adherence level\n",
    "\n",
    "get_user_adh_level(df_sorted, adh_level, full_adh_threshold=80, non_adh_threshold=40, start_day=None, end_day=None) :\n",
    "\n",
    "Labeled user nach ihren adh_level. 3 Gruppen: Fully adherent, partially adheren, non-adherent.\n",
    "Über adh_level gibt der User an, welche von den Gruppen er haben möchte.\n",
    "1 = non-adherent; 2 = partial; 3 = fully adherent. User kann auch angeben, welchen Threshold er haben möchte für die adh_level. Also bis wieviel Prozent adh_percentage ein\n",
    "User noch als fully_adherent gilt, oder bis wie viel Prozent adh_percentage ein User noch als non-adherent gilt. Standardmäßg ist der Threshold bei 80 Prozent für fully\n",
    "adherent und 40 Prozent bei non-adherent.\n",
    "Über start_day und end_day kann der user wieder angeben, in welcher bestimmten timeline er das adh_level bestimmen möchte, wobei wieder standardmäßig gesamte timeline\n",
    "benutzt wird.\n",
    "returned ein Array von Usern, welche die Eingabekriterien erfüllen. Also welches von den 3 adh_level und in welche Timeline und mit welcher Threshold."
   ]
  },
  {
   "cell_type": "code",
   "execution_count": 30,
   "id": "4d7696f4",
   "metadata": {
    "ExecuteTime": {
     "end_time": "2023-07-10T19:03:02.232173600Z",
     "start_time": "2023-07-10T19:03:02.025214400Z"
    },
    "pycharm": {
     "is_executing": true
    }
   },
   "outputs": [
    {
     "ename": "ZeroDivisionError",
     "evalue": "division by zero",
     "output_type": "error",
     "traceback": [
      "\u001b[1;31m---------------------------------------------------------------------------\u001b[0m",
      "\u001b[1;31mZeroDivisionError\u001b[0m                         Traceback (most recent call last)",
      "Cell \u001b[1;32mIn[30], line 8\u001b[0m\n\u001b[0;32m      5\u001b[0m end_day \u001b[38;5;241m=\u001b[39m \u001b[38;5;241m120\u001b[39m\n\u001b[0;32m      7\u001b[0m non_adherent \u001b[38;5;241m=\u001b[39m []\n\u001b[1;32m----> 8\u001b[0m non_adherent \u001b[38;5;241m=\u001b[39m \u001b[43mlev\u001b[49m\u001b[38;5;241;43m.\u001b[39;49m\u001b[43mget_user_adh_level\u001b[49m\u001b[43m(\u001b[49m\u001b[43mdf_sorted\u001b[49m\u001b[43m,\u001b[49m\u001b[43m \u001b[49m\u001b[43madh_level\u001b[49m\u001b[43m,\u001b[49m\u001b[43m \u001b[49m\u001b[43mfull_adh_threshold\u001b[49m\u001b[43m,\u001b[49m\u001b[43m \u001b[49m\u001b[43mnon_adh_threshold\u001b[49m\u001b[43m,\u001b[49m\u001b[43mstart_day\u001b[49m\u001b[43m,\u001b[49m\u001b[43mend_day\u001b[49m\u001b[43m)\u001b[49m\n\u001b[0;32m      9\u001b[0m \u001b[38;5;28mprint\u001b[39m(non_adherent)\n",
      "File \u001b[1;32m~\\PycharmProjects\\Softwareprojekt\\util\\task5_adherence_level.py:26\u001b[0m, in \u001b[0;36mget_user_adh_level\u001b[1;34m(df_sorted, adh_level, full_adh_threshold, non_adh_threshold, start_day, end_day)\u001b[0m\n\u001b[0;32m     24\u001b[0m \u001b[38;5;28;01mif\u001b[39;00m adh_level \u001b[38;5;241m==\u001b[39m \u001b[38;5;241m1\u001b[39m:\n\u001b[0;32m     25\u001b[0m     \u001b[38;5;28;01mfor\u001b[39;00m i \u001b[38;5;129;01min\u001b[39;00m \u001b[38;5;28mrange\u001b[39m(\u001b[38;5;28mlen\u001b[39m(user_ids)):\n\u001b[1;32m---> 26\u001b[0m         adh_percentage \u001b[38;5;241m=\u001b[39m \u001b[43mget_user_adh_percentage\u001b[49m\u001b[43m(\u001b[49m\u001b[43mdf_sorted\u001b[49m\u001b[43m,\u001b[49m\u001b[43m \u001b[49m\u001b[43muser_ids\u001b[49m\u001b[43m[\u001b[49m\u001b[43mi\u001b[49m\u001b[43m]\u001b[49m\u001b[43m,\u001b[49m\u001b[43m \u001b[49m\u001b[43mstart_day\u001b[49m\u001b[43m,\u001b[49m\u001b[43m \u001b[49m\u001b[43mend_day\u001b[49m\u001b[43m)\u001b[49m\n\u001b[0;32m     27\u001b[0m         \u001b[38;5;28;01mif\u001b[39;00m adh_percentage \u001b[38;5;241m<\u001b[39m non_adh_threshold:\n\u001b[0;32m     28\u001b[0m             adherence_group\u001b[38;5;241m.\u001b[39mappend(user_ids[i])\n",
      "File \u001b[1;32m~\\PycharmProjects\\Softwareprojekt\\util\\task5_adherence_level.py:11\u001b[0m, in \u001b[0;36mget_user_adh_percentage\u001b[1;34m(df_sorted, user_id, start_day, end_day)\u001b[0m\n\u001b[0;32m      8\u001b[0m timeline \u001b[38;5;241m=\u001b[39m get_user_timeline(df_sorted, user_id, start_day, end_day)\n\u001b[0;32m     10\u001b[0m adh_sum \u001b[38;5;241m=\u001b[39m \u001b[38;5;28msum\u001b[39m(timeline)\n\u001b[1;32m---> 11\u001b[0m adh_percentage \u001b[38;5;241m=\u001b[39m \u001b[43madh_sum\u001b[49m\u001b[43m \u001b[49m\u001b[38;5;241;43m/\u001b[39;49m\u001b[43m \u001b[49m\u001b[38;5;28;43mlen\u001b[39;49m\u001b[43m(\u001b[49m\u001b[43mtimeline\u001b[49m\u001b[43m)\u001b[49m\n\u001b[0;32m     13\u001b[0m \u001b[38;5;28;01mreturn\u001b[39;00m adh_percentage\n",
      "\u001b[1;31mZeroDivisionError\u001b[0m: division by zero"
     ]
    }
   ],
   "source": [
    "adh_level = 1\n",
    "full_adh_threshold = 80\n",
    "non_adh_threshold = 40\n",
    "start_day = 20\n",
    "end_day = 120\n",
    "\n",
    "non_adherent = []\n",
    "non_adherent = lev.get_user_adh_level(df_sorted, adh_level, full_adh_threshold, non_adh_threshold,start_day,end_day)\n",
    "print(non_adherent)"
   ]
  },
  {
   "cell_type": "markdown",
   "id": "a7a83550",
   "metadata": {},
   "source": [
    "### Get User adherence level Cluster\n",
    "\n",
    "get_user_adh_level_cluster(df_sorted, adh_level, start_day=s_start_day, end_day=s_end_day):\n",
    "\n",
    "Labeled user nach adh_level basiert auf k-means clustering mit k=3. Benutzt wird cluster_adherence_levels(df_sorted, num_clusters=3, start_day=None, end_day=None)\n",
    "aus task2_groups. Den Clustern wird ein adherence level label gegeben. Der Nutzer kann entscheiden mit adh_level welchen adherence level er haben möchte und bekommt ein\n",
    "array von Usern mit dem adherence level.\n",
    "adh_level of 1 = low adherence, 2 = moderate, 3 = high"
   ]
  },
  {
   "cell_type": "code",
   "execution_count": 1,
   "id": "823f3c2e",
   "metadata": {
    "ExecuteTime": {
     "end_time": "2023-07-29T09:52:21.950981900Z",
     "start_time": "2023-07-29T09:52:18.894154300Z"
    }
   },
   "outputs": [
    {
     "ename": "NameError",
     "evalue": "name 'get_user_adh_level_cluster' is not defined",
     "output_type": "error",
     "traceback": [
      "\u001b[1;31m---------------------------------------------------------------------------\u001b[0m",
      "\u001b[1;31mNameError\u001b[0m                                 Traceback (most recent call last)",
      "Cell \u001b[1;32mIn[1], line 6\u001b[0m\n\u001b[0;32m      3\u001b[0m end_day \u001b[38;5;241m=\u001b[39m \u001b[38;5;241m120\u001b[39m\n\u001b[0;32m      5\u001b[0m low_adherence \u001b[38;5;241m=\u001b[39m []\n\u001b[1;32m----> 6\u001b[0m low_adherence \u001b[38;5;241m=\u001b[39m \u001b[43mget_user_adh_level_cluster\u001b[49m(df_sorted, adh_level, start_day, end_day)\n\u001b[0;32m      7\u001b[0m \u001b[38;5;28mprint\u001b[39m(low_adherence)\n",
      "\u001b[1;31mNameError\u001b[0m: name 'get_user_adh_level_cluster' is not defined"
     ]
    }
   ],
   "source": [
    "adh_level = 1\n",
    "start_day = 20\n",
    "end_day = 120\n",
    "\n",
    "low_adherence = []\n",
    "low_adherence = get_user_adh_level_cluster(df_sorted, adh_level, start_day, end_day)\n",
    "print(low_adherence)"
   ]
  }
 ],
 "metadata": {
  "kernelspec": {
   "display_name": "Python 3 (ipykernel)",
   "language": "python",
   "name": "python3"
  },
  "language_info": {
   "codemirror_mode": {
    "name": "ipython",
    "version": 3
   },
   "file_extension": ".py",
   "mimetype": "text/x-python",
   "name": "python",
   "nbconvert_exporter": "python",
   "pygments_lexer": "ipython3",
   "version": "3.9.16"
  }
 },
 "nbformat": 4,
 "nbformat_minor": 5
}
