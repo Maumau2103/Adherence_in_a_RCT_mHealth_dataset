{
 "cells": [
  {
   "cell_type": "markdown",
   "id": "97e913d6",
   "metadata": {},
   "source": [
    "# <center> Adherence in a RCT mHealth dataset </center>"
   ]
  },
  {
   "cell_type": "markdown",
   "id": "609cdd02",
   "metadata": {},
   "source": [
    "### Introduction\n",
    "Dieses Notebook stellt verschiedene Algorithmen zur Analyse des Adherence Verhaltens von Personen aus einem gegebenen Datensatz zur Verfügung."
   ]
  },
  {
   "cell_type": "markdown",
   "id": "0061ca43",
   "metadata": {},
   "source": [
    "### Imports\n",
    "Damit wir alle benötigten Algorithmen und Funktionen auch aufrufen können, importieren wir zunächst alle Python Dateien, in denen unser Code geschrieben steht."
   ]
  },
  {
   "cell_type": "code",
   "execution_count": 1,
   "id": "89042996",
   "metadata": {},
   "outputs": [],
   "source": [
    "import sys\n",
    "sys.path.append('C:/Users/mauri/PycharmProjects/Softwareprojekt/code')\n",
    "from helper import *\n",
    "from task3_prediction import *"
   ]
  },
  {
   "cell_type": "markdown",
   "id": "6adb2fee",
   "metadata": {},
   "source": [
    "### Read in data\n",
    "Zuerst lesen wir den Datensatz als pandas DataFrame ein. Der Datensatz muss in einem CSV-Format vorliegen. Dafür muss der gesamte Dateipfad zwischen den Hochkommas hinter \"dataset =\" eingesetzt werden."
   ]
  },
  {
   "cell_type": "code",
   "execution_count": 2,
   "id": "1e4302ef",
   "metadata": {},
   "outputs": [],
   "source": [
    "dataset = 'C:/Users/mauri/PycharmProjects/Softwareprojekt/data/gefiltert.csv'\n",
    "\n",
    "# Einlesen des Datensatzes als pandas DataFrame\n",
    "df = csv_to_dataframe(dataset)"
   ]
  },
  {
   "cell_type": "markdown",
   "id": "da21b57f",
   "metadata": {},
   "source": [
    "### Group and sort data\n",
    "Um mit dem Datensatz besser arbeiten zu können müssen wir diesen zunächst etwas sortieren. Dafür gruppieren wir alle user_ids, sodass die Daten eines Nutzers alle hintereinander stehen und nicht quer verteilt sind und sortieren die Daten nach dem Datum von collected_at, sodass sie auch zeitlich richtig sortiert sind."
   ]
  },
  {
   "cell_type": "code",
   "execution_count": 3,
   "id": "5c67c5d4",
   "metadata": {},
   "outputs": [],
   "source": [
    "# Gruppieren des DataFrame nach user_id und Sortieren nach collected_at\n",
    "df_sorted = group_and_sort(df)"
   ]
  },
  {
   "cell_type": "markdown",
   "id": "b8cb8615",
   "metadata": {},
   "source": [
    "### Prediction of a users adherence behaviour\n",
    "In dieser Task geht es darum die Adherence eines neuen Nutzers für einen bestimmten Tag y in der Zukunft vorherzusagen. Dies geschieht mithilfe der Daten die von ihm schon zu Verfügung stehen und mithilfe des Datensatzes. Zuerst lesen wir die Daten unseres Nutzers ein und geben den Tag an, den wir vorhersagen wollen."
   ]
  },
  {
   "cell_type": "code",
   "execution_count": 4,
   "id": "2aaafa0e",
   "metadata": {},
   "outputs": [],
   "source": [
    "new_user = 'C:/Users/mauri/PycharmProjects/Softwareprojekt/data/new_user.csv'\n",
    "day_y = 20\n",
    "\n",
    "new_user_df = csv_to_dataframe(new_user)"
   ]
  },
  {
   "cell_type": "markdown",
   "id": "921ee593",
   "metadata": {},
   "source": [
    "#### Step 1\n",
    "Im ersten Schritt suchen wir den Datensatz nach den k-ähnlichsten Personen zu unserem neuen Nutzer ab. Dabei suchen wir nach möglichst ähnlichen Lücken (Anzahl und Länge) im Adherence-Verhalten."
   ]
  },
  {
   "cell_type": "code",
   "execution_count": 5,
   "id": "7adb1678",
   "metadata": {
    "scrolled": true
   },
   "outputs": [
    {
     "name": "stdout",
     "output_type": "stream",
     "text": [
      "          id  user_id locale  \\\n",
      "0       1104     2107     en   \n",
      "1       1162     2107     de   \n",
      "2       1217     2107     de   \n",
      "3       1298     2107     de   \n",
      "4       1299     2107     de   \n",
      "...      ...      ...    ...   \n",
      "17592  69768    40414     es   \n",
      "17593  69829    40414     es   \n",
      "17594  70033    40414     es   \n",
      "17595  70089    40414     es   \n",
      "17596  70218    40414     es   \n",
      "\n",
      "                                                  client  \\\n",
      "0      {\"name\":\"UNITI 1.0\",\"os\":\"iOS 14.5.1\",\"device\"...   \n",
      "1      {\"os\":\"iOS 14.5.1\",\"name\":\"UNITI 1.0\",\"device\"...   \n",
      "2      {\"os\":\"iOS 14.5.1\",\"name\":\"UNITI 1.0\",\"device\"...   \n",
      "3      {\"os\":\"iOS 14.5.1\",\"device\":\"iPhone\",\"name\":\"U...   \n",
      "4      {\"os\":\"iOS 14.5.1\",\"device\":\"iPhone\",\"name\":\"U...   \n",
      "...                                                  ...   \n",
      "17592  {\"name\":\"typ\",\"device\":\"realme RMX2001\",\"os\":\"...   \n",
      "17593  {\"name\":\"typ\",\"device\":\"realme RMX2001\",\"os\":\"...   \n",
      "17594  {\"name\":\"typ\",\"device\":\"realme RMX2001\",\"os\":\"...   \n",
      "17595  {\"name\":\"typ\",\"device\":\"realme RMX2001\",\"os\":\"...   \n",
      "17596  {\"name\":\"typ\",\"device\":\"realme RMX2001\",\"os\":\"...   \n",
      "\n",
      "               collected_at            created_at            updated_at  \\\n",
      "0      2021-05-14T15:48:21Z  2021-05-14T15:48:21Z  2021-05-14T15:48:21Z   \n",
      "1      2021-05-15T17:32:52Z  2021-05-15T17:32:53Z  2021-05-15T17:32:53Z   \n",
      "2      2021-05-16T17:31:08Z  2021-05-16T17:31:08Z  2021-05-16T17:31:08Z   \n",
      "3      2021-05-17T19:12:20Z  2021-05-17T19:12:21Z  2021-05-17T19:12:21Z   \n",
      "4      2021-05-17T19:13:10Z  2021-05-17T19:13:10Z  2021-05-17T19:13:10Z   \n",
      "...                     ...                   ...                   ...   \n",
      "17592  2022-09-12T20:52:40Z  2022-09-12T20:52:41Z  2022-09-12T20:52:41Z   \n",
      "17593  2022-09-13T21:58:52Z  2022-09-13T21:58:53Z  2022-09-13T21:58:53Z   \n",
      "17594  2022-09-16T21:25:53Z  2022-09-16T21:25:54Z  2022-09-16T21:25:54Z   \n",
      "17595  2022-09-17T18:31:36Z  2022-09-17T18:31:37Z  2022-09-17T18:31:37Z   \n",
      "17596  2022-09-18T22:40:18Z  2022-09-18T22:40:19Z  2022-09-18T22:40:19Z   \n",
      "\n",
      "       value_loudness  value_cumberness  value_jawbone  ...  \\\n",
      "0                  35                 3              0  ...   \n",
      "1                  35                18              0  ...   \n",
      "2                  37                31              0  ...   \n",
      "3                  26                22              0  ...   \n",
      "4                  22                28              0  ...   \n",
      "...               ...               ...            ...  ...   \n",
      "17592              45                54             46  ...   \n",
      "17593              90                91             61  ...   \n",
      "17594             100                92             56  ...   \n",
      "17595              98                91             48  ...   \n",
      "17596              33                40             40  ...   \n",
      "\n",
      "       collected_at_cumberness  collected_at_jawbone     collected_at_neck  \\\n",
      "0         2021-05-14T15:45:00Z  2021-05-14T15:46:03Z  2021-05-14T15:45:27Z   \n",
      "1         2021-05-15T17:30:57Z  2021-05-15T17:31:06Z  2021-05-15T17:30:49Z   \n",
      "2         2021-05-16T17:30:09Z  2021-05-16T17:30:13Z  2021-05-16T17:30:15Z   \n",
      "3         2021-05-17T19:11:30Z  2021-05-17T19:11:34Z  2021-05-17T19:11:37Z   \n",
      "4         2021-05-17T19:12:38Z  2021-05-17T19:12:47Z  2021-05-17T19:12:48Z   \n",
      "...                        ...                   ...                   ...   \n",
      "17592     2022-09-12T20:52:17Z  2022-09-12T20:52:18Z  2022-09-12T20:52:20Z   \n",
      "17593     2022-09-13T21:58:31Z  2022-09-13T21:58:33Z  2022-09-13T21:58:34Z   \n",
      "17594     2022-09-16T21:25:33Z  2022-09-16T21:25:35Z  2022-09-16T21:25:36Z   \n",
      "17595     2022-09-17T18:31:15Z  2022-09-17T18:31:17Z  2022-09-17T18:31:18Z   \n",
      "17596     2022-09-18T22:39:57Z  2022-09-18T22:39:59Z  2022-09-18T22:40:00Z   \n",
      "\n",
      "       collected_at_tin_day  collected_at_tin_cumber  collected_at_tin_max  \\\n",
      "0      2021-05-14T15:46:12Z     2021-05-14T15:46:18Z  2021-05-14T15:46:24Z   \n",
      "1      2021-05-15T17:31:45Z     2021-05-15T17:31:48Z  2021-05-15T17:31:49Z   \n",
      "2      2021-05-16T17:30:20Z     2021-05-16T17:30:25Z  2021-05-16T17:30:28Z   \n",
      "3      2021-05-17T19:11:43Z     2021-05-17T19:11:46Z  2021-05-17T19:11:49Z   \n",
      "4      2021-05-17T19:12:52Z     2021-05-17T19:12:54Z  2021-05-17T19:12:57Z   \n",
      "...                     ...                      ...                   ...   \n",
      "17592  2022-09-12T20:52:24Z     2022-09-12T20:52:28Z  2022-09-12T20:52:30Z   \n",
      "17593  2022-09-13T21:58:37Z     2022-09-13T21:58:39Z  2022-09-13T21:58:41Z   \n",
      "17594  2022-09-16T21:25:40Z     2022-09-16T21:25:42Z  2022-09-16T21:25:44Z   \n",
      "17595  2022-09-17T18:31:22Z     2022-09-17T18:31:24Z  2022-09-17T18:31:26Z   \n",
      "17596  2022-09-18T22:40:03Z     2022-09-18T22:40:04Z  2022-09-18T22:40:06Z   \n",
      "\n",
      "       collected_at_movement   collected_at_stress  collected_at_emotion  \\\n",
      "0       2021-05-14T15:46:41Z  2021-05-14T15:46:44Z  2021-05-14T15:46:56Z   \n",
      "1       2021-05-15T17:32:09Z  2021-05-15T17:32:12Z  2021-05-15T17:32:16Z   \n",
      "2       2021-05-16T17:30:33Z  2021-05-16T17:30:36Z  2021-05-16T17:30:39Z   \n",
      "3       2021-05-17T19:11:52Z  2021-05-17T19:11:56Z  2021-05-17T19:11:57Z   \n",
      "4       2021-05-17T19:13:00Z  2021-05-17T19:13:02Z  2021-05-17T19:13:03Z   \n",
      "...                      ...                   ...                   ...   \n",
      "17592   2022-09-12T20:52:32Z  2022-09-12T20:52:34Z  2022-09-12T20:52:37Z   \n",
      "17593   2022-09-13T21:58:43Z  2022-09-13T21:58:45Z  2022-09-13T21:58:49Z   \n",
      "17594   2022-09-16T21:25:45Z  2022-09-16T21:25:48Z  2022-09-16T21:25:51Z   \n",
      "17595   2022-09-17T18:31:28Z  2022-09-17T18:31:30Z  2022-09-17T18:31:33Z   \n",
      "17596   2022-09-18T22:40:08Z  2022-09-18T22:40:14Z  2022-09-18T22:40:16Z   \n",
      "\n",
      "      collected_at_diary_q11  \n",
      "0       2021-05-14T15:48:02Z  \n",
      "1       2021-05-15T17:32:44Z  \n",
      "2       2021-05-16T17:31:00Z  \n",
      "3       2021-05-17T19:12:11Z  \n",
      "4                        NaN  \n",
      "...                      ...  \n",
      "17592                    NaN  \n",
      "17593                    NaN  \n",
      "17594                    NaN  \n",
      "17595                    NaN  \n",
      "17596                    NaN  \n",
      "\n",
      "[17597 rows x 29 columns]\n"
     ]
    }
   ],
   "source": [
    "prediction(df_sorted, new_user_df)"
   ]
  },
  {
   "cell_type": "code",
   "execution_count": null,
   "id": "ba6bd76f",
   "metadata": {},
   "outputs": [],
   "source": []
  },
  {
   "cell_type": "code",
   "execution_count": null,
   "id": "fafac9c8",
   "metadata": {},
   "outputs": [],
   "source": []
  }
 ],
 "metadata": {
  "kernelspec": {
   "display_name": "Python 3 (ipykernel)",
   "language": "python",
   "name": "python3"
  },
  "language_info": {
   "codemirror_mode": {
    "name": "ipython",
    "version": 3
   },
   "file_extension": ".py",
   "mimetype": "text/x-python",
   "name": "python",
   "nbconvert_exporter": "python",
   "pygments_lexer": "ipython3",
   "version": "3.9.16"
  }
 },
 "nbformat": 4,
 "nbformat_minor": 5
}
