{
 "cells": [
  {
   "cell_type": "markdown",
   "id": "97e913d6",
   "metadata": {},
   "source": [
    "# <center> Adherence in a RCT mHealth dataset </center>"
   ]
  },
  {
   "cell_type": "markdown",
   "id": "609cdd02",
   "metadata": {},
   "source": [
    "### Introduction\n",
    "Dieses Notebook stellt verschiedene Algorithmen zur Analyse des Adherence Verhaltens von Personen aus einem gegebenen Datensatz zur Verfügung."
   ]
  },
  {
   "cell_type": "markdown",
   "id": "0061ca43",
   "metadata": {},
   "source": [
    "### Imports\n",
    "Damit wir alle benötigten Algorithmen und Funktionen auch aufrufen können, importieren wir zunächst alle Python Dateien, in denen unser Code geschrieben steht."
   ]
  },
  {
   "cell_type": "code",
   "execution_count": 6,
   "id": "89042996",
   "metadata": {},
   "outputs": [
    {
     "ename": "ModuleNotFoundError",
     "evalue": "No module named 'helper'",
     "output_type": "error",
     "traceback": [
      "\u001b[1;31m---------------------------------------------------------------------------\u001b[0m",
      "\u001b[1;31mModuleNotFoundError\u001b[0m                       Traceback (most recent call last)",
      "Cell \u001b[1;32mIn[6], line 3\u001b[0m\n\u001b[0;32m      1\u001b[0m \u001b[38;5;28;01mimport\u001b[39;00m \u001b[38;5;21;01msys\u001b[39;00m\n\u001b[0;32m      2\u001b[0m sys\u001b[38;5;241m.\u001b[39mpath\u001b[38;5;241m.\u001b[39mappend(\u001b[38;5;124m'\u001b[39m\u001b[38;5;124mC:/Users/mauri/PycharmProjects/Softwareprojekt\u001b[39m\u001b[38;5;124m'\u001b[39m)\n\u001b[1;32m----> 3\u001b[0m \u001b[38;5;28;01mfrom\u001b[39;00m \u001b[38;5;21;01mhelper\u001b[39;00m \u001b[38;5;28;01mimport\u001b[39;00m csv_to_dataframe\n",
      "\u001b[1;31mModuleNotFoundError\u001b[0m: No module named 'helper'"
     ]
    }
   ],
   "source": [
    "import sys\n",
    "sys.path.append('C:/Users/mauri/PycharmProjects/Softwareprojekt')\n",
    "from helper import csv_to_dataframe"
   ]
  },
  {
   "cell_type": "markdown",
   "id": "6adb2fee",
   "metadata": {},
   "source": [
    "### Read in data\n",
    "Zuerst lesen wir den Datensatz als pandas DataFrame ein. Der Datensatz muss in einem CSV-Format vorliegen. Dafür muss der gesamte Dateipfad zwischen den Hochkommas hinter \"dataset =\" eingesetzt werden."
   ]
  },
  {
   "cell_type": "code",
   "execution_count": 55,
   "id": "1e4302ef",
   "metadata": {},
   "outputs": [],
   "source": [
    "dataset = 'C:/Users/mauri/PycharmProjects/Softwareprojekt/data/gefiltert.csv'\n",
    "\n",
    "# Einlesen des Datensatzes als pandas DataFrame\n",
    "df = csv_to_dataframe(dataset)"
   ]
  },
  {
   "cell_type": "markdown",
   "id": "da21b57f",
   "metadata": {},
   "source": [
    "### Group and sort data\n",
    "Um mit dem Datensatz besser arbeiten zu können müssen wir diesen zunächst etwas sortieren. Dafür gruppieren wir alle user_ids, sodass die Daten eines Nutzers alle hintereinander stehen und nicht quer verteilt sind und sortieren die Daten nach dem Datum von collected_at, sodass sie auch zeitlich richtig sortiert sind. Das Ergebnis wird in der Datei dataset_sorted.csv gespeichert."
   ]
  },
  {
   "cell_type": "code",
   "execution_count": 58,
   "id": "5c67c5d4",
   "metadata": {},
   "outputs": [],
   "source": [
    "# Gruppieren des DataFrame nach user_id und Sortieren nach collected_at\n",
    "df_sorted = group_and_sort(df)\n",
    "\n",
    "# Speichern des gruppierten und sortierten DataFrames in einer neuen CSV-Datei\n",
    "df_sorted.to_csv(\"dataset_sorted.csv\", index=False)"
   ]
  },
  {
   "cell_type": "markdown",
   "id": "b8cb8615",
   "metadata": {},
   "source": [
    "### Prediction of a users adherence behaviour\n",
    "In dieser Task geht es darum die Adherence eines neuen Nutzers für einen bestimmten Tag y in der Zukunft vorherzusagen. Dies geschieht mithilfe der Daten die von ihm schon zu Verfügung stehen und mithilfe des Datensatzes. Zuerst lesen wir die Daten unseres Nutzers ein und geben den Tag an, den wir vorhersagen wollen."
   ]
  },
  {
   "cell_type": "code",
   "execution_count": 60,
   "id": "2aaafa0e",
   "metadata": {},
   "outputs": [],
   "source": [
    "new_user = 'C:/Users/mauri/PycharmProjects/Softwareprojekt/data/new_user.csv'\n",
    "day_y = 20\n",
    "\n",
    "new_user_df = csv_to_dataframe(new_user)"
   ]
  },
  {
   "cell_type": "markdown",
   "id": "921ee593",
   "metadata": {},
   "source": [
    "#### Step 1\n",
    "Im ersten Schritt suchen wir den Datensatz nach den k-ähnlichsten Personen zu unserem neuen Nutzer ab. Dabei suchen wir nach möglichst ähnlichen Lücken (Anzahl und Länge) im Adherence-Verhalten."
   ]
  },
  {
   "cell_type": "code",
   "execution_count": null,
   "id": "7adb1678",
   "metadata": {
    "scrolled": true
   },
   "outputs": [],
   "source": [
    "i=0\n",
    "i+1"
   ]
  },
  {
   "cell_type": "code",
   "execution_count": null,
   "id": "ba6bd76f",
   "metadata": {},
   "outputs": [],
   "source": []
  }
 ],
 "metadata": {
  "kernelspec": {
   "display_name": "Python 3 (ipykernel)",
   "language": "python",
   "name": "python3"
  },
  "language_info": {
   "codemirror_mode": {
    "name": "ipython",
    "version": 3
   },
   "file_extension": ".py",
   "mimetype": "text/x-python",
   "name": "python",
   "nbconvert_exporter": "python",
   "pygments_lexer": "ipython3",
   "version": "3.9.16"
  }
 },
 "nbformat": 4,
 "nbformat_minor": 5
}
